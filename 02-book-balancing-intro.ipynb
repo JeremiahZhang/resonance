{
 "cells": [
  {
   "cell_type": "markdown",
   "metadata": {},
   "source": [
    "$$\n",
    "\\def\\CC{\\bf C}\n",
    "\\def\\QQ{\\bf Q}\n",
    "\\def\\RR{\\bf R}\n",
    "\\def\\ZZ{\\bf Z}\n",
    "\\def\\NN{\\bf N}\n",
    "$$\n",
    "# 2. Introducing Mechanical Vibrations By Investigating a Book Oscillating on a Cylindrical Cup\n",
    "\n",
    "## Introduction\n",
    "\n",
    "This notebook introduces a single degree of freedom vibratory system of a textbook balancing on a cylindrical coffee cup. The system is implemented as a model that students can interact with in order to visualize its free response and compare the computer simulation to a demonstration in the classroom.\n",
    "\n",
    "### Learning Objectives\n",
    "\n",
    "After the completion of this assignment students will be able to:\n",
    "\n",
    "-   load a specific system\n",
    "-   view and set parameters (constants, coordinates) on a system\n",
    "-   create a visualization that depicts the system's configuration\n",
    "-   compute the system's free response\n",
    "-   visualize the change in configuration wit respect to the free response\n",
    "-   interactively adjust the book shape to see the affect on system response\n",
    "-   understand the concept of natural frequency and its relationship to mass/inertia\n",
    "-   estimate the period of a sinusoidal vibration from a time series\n",
    "-   compare a computer simulation result to experimental result\n",
    "\n",
    "## What are vibrations?\n",
    "\n",
    "Here we will study a simple vibratory system. A vibrating mechanical system is typically defined as a collection of rigid and flexible objects that interact in a closed envelope. If you set a cylindrical cup on its side and place a book lying flat on top of it, the book will oscillate if initially displaced at a small non-horizontal angle. Note that it oscillates about a horizontal position. This position is called an *equilibrium point*, *equilibrium state*, or *equilibrium configuration* which is a natural position the system comes to when there is no motion. Vibration is formally defined as an *oscillation about an equilibrium*. The video below shows the real system in action:"
   ]
  },
  {
   "cell_type": "code",
   "execution_count": 1,
   "metadata": {},
   "outputs": [
    {
     "data": {
      "image/jpeg": "[encoded data removed]",
      "text/html": [
       "\n",
       "        <iframe\n",
       "            width=\"400\"\n",
       "            height=\"300\"\n",
       "            src=\"https://www.youtube.com/embed/B12HbAOKnqI\"\n",
       "            frameborder=\"0\"\n",
       "            allowfullscreen\n",
       "        ></iframe>\n",
       "        "
      ],
      "text/plain": [
       "<IPython.lib.display.YouTubeVideo at 0x7f501c6d2fd0>"
      ]
     },
     "execution_count": 1,
     "metadata": {},
     "output_type": "execute_result"
    }
   ],
   "source": [
    "from IPython.display import YouTubeVideo\n",
    "YouTubeVideo('B12HbAOKnqI')"
   ]
  },
  {
   "cell_type": "markdown",
   "metadata": {},
   "source": [
    "During this class, we will examine and explore many different vibratory systems, such as this simple book on a cup system. We will have some live demos, as we are showing now, but in general we will work with computational representations of systems to experiment and learn about the nature of vibration. For example, the following code loads a system that represents the book on a cup. To execute the following Jupyter code cell press the shift and enter key simultaneously:"
   ]
  },
  {
   "cell_type": "code",
   "execution_count": 2,
   "metadata": {},
   "outputs": [],
   "source": [
    "from resonance.linear_systems import BookOnCupSystem"
   ]
  },
  {
   "cell_type": "markdown",
   "metadata": {},
   "source": [
    "The line above loads (imports) the command, `BookOnCupSystem`, from the appropriate resonance package. This command can create systems that behave like the live demo. To create a new system append parentheses the command and assign the result that it returns it to a variable called `sys`, execute the following cell:"
   ]
  },
  {
   "cell_type": "code",
   "execution_count": 3,
   "metadata": {},
   "outputs": [],
   "source": [
    "sys = BookOnCupSystem()"
   ]
  },
  {
   "cell_type": "markdown",
   "metadata": {},
   "source": [
    "`sys` is now a new system object that you can interact with. This system has many variables and functions associated with it. You can see what the system has and can do by using the Python dot notation. Type `sys.` and press the tab key to see a list of all the variables and functions that are associated with this system.\n",
    "\n",
    "## Constants\n",
    "\n",
    "One thing that systems have are different constants, for example this system has geometry, such as the book's thickness and length and the cup's radius. The book also has a mass and, in this case, an underlying assumption is that the book is uniformly dense. Note that all of these do not change with time, i.e. they are constant. You can view all of the constants, which are stored in a Python dictionary by typing:"
   ]
  },
  {
   "cell_type": "code",
   "execution_count": 4,
   "metadata": {},
   "outputs": [
    {
     "data": {
      "text/plain": [
       "{'length': 0.238, 'mass': 1.058, 'radius': 0.042, 'thickness': 0.029}"
      ]
     },
     "execution_count": 4,
     "metadata": {},
     "output_type": "execute_result"
    }
   ],
   "source": [
    "sys.constants"
   ]
  },
  {
   "cell_type": "markdown",
   "metadata": {},
   "source": [
    "A Python dictionary maps keys, in this case the constant's names, to values, the numerical values you'd like to assign to the constant. For example the key `'thickness'` is associated with a value `0.029`. An individual constant's value can be accessed by using square brackets:"
   ]
  },
  {
   "cell_type": "code",
   "execution_count": 5,
   "metadata": {},
   "outputs": [
    {
     "data": {
      "text/plain": [
       "0.042"
      ]
     },
     "execution_count": 5,
     "metadata": {},
     "output_type": "execute_result"
    }
   ],
   "source": [
    "sys.constants['radius']"
   ]
  },
  {
   "cell_type": "markdown",
   "metadata": {},
   "source": [
    "You can set the values of the constants as such:"
   ]
  },
  {
   "cell_type": "code",
   "execution_count": 6,
   "metadata": {},
   "outputs": [],
   "source": [
    "sys.constants['length'] = 0.184  # m, short side of book"
   ]
  },
  {
   "cell_type": "markdown",
   "metadata": {},
   "source": [
    "*Note that you will be responsible for ensuring that the units are consistent and that all angles should be in radians.* Overwrite the `sys` variable by loading the system again to get back the default constants."
   ]
  },
  {
   "cell_type": "code",
   "execution_count": 7,
   "metadata": {},
   "outputs": [
    {
     "data": {
      "text/plain": [
       "{'length': 0.238, 'mass': 1.058, 'radius': 0.042, 'thickness': 0.029}"
      ]
     },
     "execution_count": 7,
     "metadata": {},
     "output_type": "execute_result"
    }
   ],
   "source": [
    "sys = BookOnCupSystem()\n",
    "sys.constants"
   ]
  },
  {
   "cell_type": "markdown",
   "metadata": {},
   "source": [
    "All systems will have different sets of constants. There is no unique way to define the constants either. For example, we could have chosen area and one linear dimension instead of three linear dimensions. This system could also have more constants, for example what if you were on the moon? Maybe the acceleration due to gravity should be an explicit constant. Or what if the book to cup connection was very slippery? Maybe the coefficient of friction would be a specific constant. It is important to note that the system constants, as we've defined here, are all constant with respect to time.\n",
    "\n",
    "## Coordinates\n",
    "\n",
    "There are other system values of interest too. Another very important type are those that vary with time.\n",
    "\n",
    "> **Exercise**: What might be the time varying parameters of this system?\n",
    "\n",
    "There are are an infinite number of time varying parameters, but it is often preferable to choose a uniquely simple set of time varying parameters, often called *generalized coordinates*. These coordinates define the **configuration** of the system. In our case, the vertical and horizontal location of the book's mass center could uniquely describe the configuration of the system (if the book can't slip on the cup). But a better choice would be to use the single time varying angle of the books surface relative to horizontal to define the configuration.\n",
    "\n",
    "<img src=\"fig/book-balance.svg\" alt=\"image\" width=\"600\" />\n",
    "\n",
    "The angle of the book is thus a generalized coordinate because no fewer number of time varying parameters can possibly be used to describe the configuration. For simple systems, the number of generalized coordinates corresponds to the number of *degrees of freedom* of a system. The degrees of freedom are the number of independent parameters that define the configuration. The non-slipping book on a cup has 1 degree of freedom which is described by the single generalized coordinate, the book's angle. The system's generalized coordinates can be accessed as such:"
   ]
  },
  {
   "cell_type": "code",
   "execution_count": 8,
   "metadata": {},
   "outputs": [
    {
     "data": {
      "text/plain": [
       "{'book_angle': 0.0}"
      ]
     },
     "execution_count": 8,
     "metadata": {},
     "output_type": "execute_result"
    }
   ],
   "source": [
    "sys.coordinates"
   ]
  },
  {
   "cell_type": "code",
   "execution_count": 9,
   "metadata": {},
   "outputs": [
    {
     "data": {
      "text/plain": [
       "0.0"
      ]
     },
     "execution_count": 9,
     "metadata": {},
     "output_type": "execute_result"
    }
   ],
   "source": [
    "sys.coordinates['book_angle']"
   ]
  },
  {
   "cell_type": "markdown",
   "metadata": {},
   "source": [
    "## Measurements\n",
    "\n",
    "Another type of time varying parameter that can be extracted from systems are non-generalized coordinates or other combinations of constant parameters. We will call these *measurements*. For example, maybe you are interested in the vertical and horizontal location of the book's lower left corner. If you had an appropriate dynamics distance sensor you could measure this location as it changes with time. Or you can define how these two measurement parameters are a function of the book angle and the system's geometry. You can add measurement parameters to a system by defining Python functions that compute the geometric relationship. Given the value of a generalized coordinate and the values of the system's constant parameters, we can define a function that computes the measurement parameter. These functions need to be to accept scalars and arrays, so import NumPy as a shorthand variable `np` to make use of array aware functions like `np.cos()` and `np.sin()` :"
   ]
  },
  {
   "cell_type": "code",
   "execution_count": 10,
   "metadata": {},
   "outputs": [],
   "source": [
    "import numpy as np"
   ]
  },
  {
   "cell_type": "markdown",
   "metadata": {},
   "source": [
    "The thickness of the bottom left corner of the book relative to the origin is defined by this mathematical function:\n",
    "\n",
    "$$P_y = r + r \\cos{\\theta} + (r \\theta + l / 2) \\sin{\\theta}$$\n",
    "\n",
    "and the Python function that implements this would look like:"
   ]
  },
  {
   "cell_type": "code",
   "execution_count": 11,
   "metadata": {},
   "outputs": [],
   "source": [
    "def bottom_left_y(radius, length, book_angle):\n",
    "    # define new simpler variables here in the function so the math is\n",
    "    # is easier to type\n",
    "    r = radius\n",
    "    l = length\n",
    "    theta = book_angle\n",
    "    return r + r * np.cos(theta) + (r * theta + l / 2) * np.sin(theta)"
   ]
  },
  {
   "cell_type": "markdown",
   "metadata": {},
   "source": [
    "Note that the variable names in the function signature `(radius, length, book_angle)` must be exactly as you have defined them in the `constants`. This function can now be used like so:"
   ]
  },
  {
   "cell_type": "code",
   "execution_count": 12,
   "metadata": {},
   "outputs": [
    {
     "data": {
      "text/plain": [
       "array([ 0.084     ,  0.08425946,  0.08453162,  0.0848164 ,  0.0851137 ,\n",
       "        0.08542338,  0.08574532,  0.08607939,  0.08642542,  0.08678326])"
      ]
     },
     "execution_count": 12,
     "metadata": {},
     "output_type": "execute_result"
    }
   ],
   "source": [
    "angles = np.deg2rad(np.arange(10))\n",
    "angles\n",
    "bottom_left_y(0.042, 0.029, angles)"
   ]
  },
  {
   "cell_type": "markdown",
   "metadata": {},
   "source": [
    "Now that you know it works, you can add this measurement function to the system, so that it automatically calculates the measurement for you with:"
   ]
  },
  {
   "cell_type": "code",
   "execution_count": 13,
   "metadata": {},
   "outputs": [],
   "source": [
    "sys.add_measurement('bottom_left_y', bottom_left_y)"
   ]
  },
  {
   "cell_type": "markdown",
   "metadata": {},
   "source": [
    "`add_measurement()` is an example of a function that is associated with the system and the parentheses give that away. Similarly, you can add the horizontal position of the bottom left corner:"
   ]
  },
  {
   "cell_type": "code",
   "execution_count": 14,
   "metadata": {},
   "outputs": [],
   "source": [
    "def bottom_left_x(radius, length, book_angle):\n",
    "    r = radius\n",
    "    l = length\n",
    "    theta = book_angle\n",
    "    return r * np.sin(theta) - (r * theta + l / 2) * np.cos(theta)\n",
    "\n",
    "sys.add_measurement('bottom_left_x', bottom_left_x)"
   ]
  },
  {
   "cell_type": "markdown",
   "metadata": {},
   "source": [
    "Now, if you change the book angle you'll get an updated measurement:"
   ]
  },
  {
   "cell_type": "code",
   "execution_count": 15,
   "metadata": {},
   "outputs": [
    {
     "data": {
      "text/plain": [
       "0.086083232844703692"
      ]
     },
     "execution_count": 15,
     "metadata": {},
     "output_type": "execute_result"
    }
   ],
   "source": [
    "sys.coordinates['book_angle'] = np.deg2rad(1)\n",
    "sys.measurements['bottom_left_y']"
   ]
  },
  {
   "cell_type": "markdown",
   "metadata": {},
   "source": [
    "Notice that all angles must be in radians and that we use the NumPy function `np.deg2rad()` to do this.\n",
    "\n",
    "## Visualizing the Configuration of the System\n",
    "\n",
    "It is often very helpful to visualize a system's configuration. In this case we need a two dimensional drawing similar to the diagram above. The package `matplotlib` provides \"patch\" objects that represent a circle and a rectangle that should be able to make a reasonable diagram. First import these functions:"
   ]
  },
  {
   "cell_type": "code",
   "execution_count": 16,
   "metadata": {},
   "outputs": [],
   "source": [
    "import matplotlib.pyplot as plt\n",
    "from matplotlib.patches import Circle, Rectangle"
   ]
  },
  {
   "cell_type": "markdown",
   "metadata": {},
   "source": [
    "And for nice interactive plotting in the Jupyter notebook, use this command to turn it on:"
   ]
  },
  {
   "cell_type": "code",
   "execution_count": 17,
   "metadata": {},
   "outputs": [],
   "source": [
    "%matplotlib inline"
   ]
  },
  {
   "cell_type": "markdown",
   "metadata": {},
   "source": [
    "Just as we did with the measurement functions, you can create a function that generates the matplotlib figure using the system's various constants, coordinates, and measurements:"
   ]
  },
  {
   "cell_type": "code",
   "execution_count": 18,
   "metadata": {},
   "outputs": [],
   "source": [
    "def create_plot(radius, length, thickness, book_angle, bottom_left_x, bottom_left_y):\n",
    "    # create a blank figure and set basic settings on the axis\n",
    "    fig, ax = plt.subplots(1, 1)\n",
    "    ax.set_xlim((-0.15, 0.15))\n",
    "    ax.set_ylim((0.0, 0.2))\n",
    "    ax.set_xlabel('x [m]')\n",
    "    ax.set_ylabel('y [m]')\n",
    "    ax.set_aspect('equal')\n",
    "\n",
    "    # circles are created by supplying an (x, y) pair and the radius\n",
    "    circ = Circle((0.0, radius), radius=radius)\n",
    "\n",
    "    # rectangles are created by supplying the (x, y) pair locating the\n",
    "    # bottom left corner, the width, the thickness, and the to rotation\n",
    "    # angle. notice that the rotation angle is defined in the opposite\n",
    "    # direction as we have and it is supposed to be in degrees not radians\n",
    "    rect = Rectangle((bottom_left_x, bottom_left_y),\n",
    "                     length, thickness,\n",
    "                     angle=-np.rad2deg(book_angle),\n",
    "                     color='black')\n",
    "\n",
    "    ax.add_patch(circ)\n",
    "    ax.add_patch(rect)\n",
    "\n",
    "    return fig"
   ]
  },
  {
   "cell_type": "markdown",
   "metadata": {},
   "source": [
    "A system can have a single configuration plot function and you let the system know about it by assigning it to the `config_plot_func` variable."
   ]
  },
  {
   "cell_type": "code",
   "execution_count": 19,
   "metadata": {},
   "outputs": [],
   "source": [
    "sys.config_plot_func = create_plot"
   ]
  },
  {
   "cell_type": "markdown",
   "metadata": {},
   "source": [
    "Now, have a look at the configuration plot by calling the function `plot_configuration()` :"
   ]
  },
  {
   "cell_type": "code",
   "execution_count": 20,
   "metadata": {},
   "outputs": [
    {
     "data": {
      "image/png": "[encoded data removed]",
      "text/plain": [
       "<matplotlib.figure.Figure at 0x7f500d46a860>"
      ]
     },
     "metadata": {},
     "output_type": "display_data"
    }
   ],
   "source": [
    "sys.plot_configuration();"
   ]
  },
  {
   "cell_type": "markdown",
   "metadata": {},
   "source": [
    "> **Exercise:** Change the system's constants and the book angle and see how the plot reflects these changes.\n",
    "\n",
    "## Free Response\n",
    "\n",
    "Now that we have a system with defined constant parameters we can make it vibrate. There are two ways to create this motion: apply perturbing forces to the system or set the coordinate to an initial angle other than the equilibrium angle. We will do the later here. The resulting motion is called the *free response* of the system, meaning that no external forces are causing the motion. To simulate the free response of the system, some values of time are needed. In this case a final time value, effectively the duration, is passed into the `free_response()` function. First, set the initial angle of the book and then call `free_repsonse()`, storing the returned result in a variable named `trajectories` :"
   ]
  },
  {
   "cell_type": "code",
   "execution_count": 21,
   "metadata": {},
   "outputs": [],
   "source": [
    "sys.coordinates['book_angle'] = np.deg2rad(1)\n",
    "trajectories = sys.free_response(5.0)"
   ]
  },
  {
   "cell_type": "markdown",
   "metadata": {},
   "source": [
    "This creates what is called a [data frame](https://pandas.pydata.org/pandas-docs/stable/generated/pandas.DataFrame.html). Data frames are defined in the [Pandas](http://pandas.pydata.org/) Python package and are one of the most common Python data types. They are essentially a 2D table with labels for each column and an index for each row. In our case the index is the time value and the columns are the values of the coordinates and the measurements at that particular time:"
   ]
  },
  {
   "cell_type": "code",
   "execution_count": 22,
   "metadata": {},
   "outputs": [
    {
     "data": {
      "text/plain": [
       "pandas.core.frame.DataFrame"
      ]
     },
     "execution_count": 22,
     "metadata": {},
     "output_type": "execute_result"
    }
   ],
   "source": [
    "type(trajectories)"
   ]
  },
  {
   "cell_type": "code",
   "execution_count": 23,
   "metadata": {},
   "outputs": [
    {
     "data": {
      "text/html": [
       "<div>\n",
       "<style>\n",
       "    .dataframe thead tr:only-child th {\n",
       "        text-align: right;\n",
       "    }\n",
       "\n",
       "    .dataframe thead th {\n",
       "        text-align: left;\n",
       "    }\n",
       "\n",
       "    .dataframe tbody tr th {\n",
       "        vertical-align: top;\n",
       "    }\n",
       "</style>\n",
       "<table border=\"1\" class=\"dataframe\">\n",
       "  <thead>\n",
       "    <tr style=\"text-align: right;\">\n",
       "      <th></th>\n",
       "      <th>book_angle</th>\n",
       "      <th>book_angle_acc</th>\n",
       "      <th>book_angle_vel</th>\n",
       "      <th>bottom_left_y</th>\n",
       "      <th>bottom_left_x</th>\n",
       "    </tr>\n",
       "    <tr>\n",
       "      <th>time</th>\n",
       "      <th></th>\n",
       "      <th></th>\n",
       "      <th></th>\n",
       "      <th></th>\n",
       "      <th></th>\n",
       "    </tr>\n",
       "  </thead>\n",
       "  <tbody>\n",
       "    <tr>\n",
       "      <th>0.00</th>\n",
       "      <td>0.017453</td>\n",
       "      <td>-0.941567</td>\n",
       "      <td>0.000000</td>\n",
       "      <td>0.086083</td>\n",
       "      <td>-0.118982</td>\n",
       "    </tr>\n",
       "    <tr>\n",
       "      <th>0.01</th>\n",
       "      <td>0.017406</td>\n",
       "      <td>-0.939028</td>\n",
       "      <td>-0.009407</td>\n",
       "      <td>0.086078</td>\n",
       "      <td>-0.118982</td>\n",
       "    </tr>\n",
       "    <tr>\n",
       "      <th>0.02</th>\n",
       "      <td>0.017265</td>\n",
       "      <td>-0.931426</td>\n",
       "      <td>-0.018764</td>\n",
       "      <td>0.086061</td>\n",
       "      <td>-0.118982</td>\n",
       "    </tr>\n",
       "    <tr>\n",
       "      <th>0.03</th>\n",
       "      <td>0.017031</td>\n",
       "      <td>-0.918801</td>\n",
       "      <td>-0.028019</td>\n",
       "      <td>0.086033</td>\n",
       "      <td>-0.118983</td>\n",
       "    </tr>\n",
       "    <tr>\n",
       "      <th>0.04</th>\n",
       "      <td>0.016705</td>\n",
       "      <td>-0.901222</td>\n",
       "      <td>-0.037123</td>\n",
       "      <td>0.085994</td>\n",
       "      <td>-0.118983</td>\n",
       "    </tr>\n",
       "    <tr>\n",
       "      <th>0.05</th>\n",
       "      <td>0.016290</td>\n",
       "      <td>-0.878783</td>\n",
       "      <td>-0.046027</td>\n",
       "      <td>0.085944</td>\n",
       "      <td>-0.118984</td>\n",
       "    </tr>\n",
       "    <tr>\n",
       "      <th>0.06</th>\n",
       "      <td>0.015786</td>\n",
       "      <td>-0.851605</td>\n",
       "      <td>-0.054683</td>\n",
       "      <td>0.085884</td>\n",
       "      <td>-0.118985</td>\n",
       "    </tr>\n",
       "    <tr>\n",
       "      <th>0.07</th>\n",
       "      <td>0.015197</td>\n",
       "      <td>-0.819835</td>\n",
       "      <td>-0.063044</td>\n",
       "      <td>0.085813</td>\n",
       "      <td>-0.118986</td>\n",
       "    </tr>\n",
       "    <tr>\n",
       "      <th>0.08</th>\n",
       "      <td>0.014526</td>\n",
       "      <td>-0.783645</td>\n",
       "      <td>-0.071065</td>\n",
       "      <td>0.085733</td>\n",
       "      <td>-0.118987</td>\n",
       "    </tr>\n",
       "    <tr>\n",
       "      <th>0.09</th>\n",
       "      <td>0.013777</td>\n",
       "      <td>-0.743228</td>\n",
       "      <td>-0.078703</td>\n",
       "      <td>0.085643</td>\n",
       "      <td>-0.118989</td>\n",
       "    </tr>\n",
       "    <tr>\n",
       "      <th>0.10</th>\n",
       "      <td>0.012953</td>\n",
       "      <td>-0.698804</td>\n",
       "      <td>-0.085916</td>\n",
       "      <td>0.085545</td>\n",
       "      <td>-0.118990</td>\n",
       "    </tr>\n",
       "    <tr>\n",
       "      <th>0.11</th>\n",
       "      <td>0.012060</td>\n",
       "      <td>-0.650612</td>\n",
       "      <td>-0.092666</td>\n",
       "      <td>0.085438</td>\n",
       "      <td>-0.118991</td>\n",
       "    </tr>\n",
       "    <tr>\n",
       "      <th>0.12</th>\n",
       "      <td>0.011102</td>\n",
       "      <td>-0.598911</td>\n",
       "      <td>-0.098917</td>\n",
       "      <td>0.085324</td>\n",
       "      <td>-0.118993</td>\n",
       "    </tr>\n",
       "    <tr>\n",
       "      <th>0.13</th>\n",
       "      <td>0.010083</td>\n",
       "      <td>-0.543981</td>\n",
       "      <td>-0.104634</td>\n",
       "      <td>0.085202</td>\n",
       "      <td>-0.118994</td>\n",
       "    </tr>\n",
       "    <tr>\n",
       "      <th>0.14</th>\n",
       "      <td>0.009011</td>\n",
       "      <td>-0.486117</td>\n",
       "      <td>-0.109787</td>\n",
       "      <td>0.085074</td>\n",
       "      <td>-0.118995</td>\n",
       "    </tr>\n",
       "    <tr>\n",
       "      <th>0.15</th>\n",
       "      <td>0.007890</td>\n",
       "      <td>-0.425632</td>\n",
       "      <td>-0.114347</td>\n",
       "      <td>0.084940</td>\n",
       "      <td>-0.118996</td>\n",
       "    </tr>\n",
       "    <tr>\n",
       "      <th>0.16</th>\n",
       "      <td>0.006726</td>\n",
       "      <td>-0.362852</td>\n",
       "      <td>-0.118292</td>\n",
       "      <td>0.084801</td>\n",
       "      <td>-0.118997</td>\n",
       "    </tr>\n",
       "    <tr>\n",
       "      <th>0.17</th>\n",
       "      <td>0.005526</td>\n",
       "      <td>-0.298116</td>\n",
       "      <td>-0.121598</td>\n",
       "      <td>0.084658</td>\n",
       "      <td>-0.118998</td>\n",
       "    </tr>\n",
       "    <tr>\n",
       "      <th>0.18</th>\n",
       "      <td>0.004296</td>\n",
       "      <td>-0.231771</td>\n",
       "      <td>-0.124249</td>\n",
       "      <td>0.084512</td>\n",
       "      <td>-0.118999</td>\n",
       "    </tr>\n",
       "    <tr>\n",
       "      <th>0.19</th>\n",
       "      <td>0.003043</td>\n",
       "      <td>-0.164177</td>\n",
       "      <td>-0.126229</td>\n",
       "      <td>0.084362</td>\n",
       "      <td>-0.118999</td>\n",
       "    </tr>\n",
       "    <tr>\n",
       "      <th>0.20</th>\n",
       "      <td>0.001774</td>\n",
       "      <td>-0.095698</td>\n",
       "      <td>-0.127529</td>\n",
       "      <td>0.084211</td>\n",
       "      <td>-0.119000</td>\n",
       "    </tr>\n",
       "    <tr>\n",
       "      <th>0.21</th>\n",
       "      <td>0.000495</td>\n",
       "      <td>-0.026703</td>\n",
       "      <td>-0.128141</td>\n",
       "      <td>0.084059</td>\n",
       "      <td>-0.119000</td>\n",
       "    </tr>\n",
       "    <tr>\n",
       "      <th>0.22</th>\n",
       "      <td>-0.000787</td>\n",
       "      <td>0.042437</td>\n",
       "      <td>-0.128063</td>\n",
       "      <td>0.083906</td>\n",
       "      <td>-0.119000</td>\n",
       "    </tr>\n",
       "    <tr>\n",
       "      <th>0.23</th>\n",
       "      <td>-0.002064</td>\n",
       "      <td>0.111347</td>\n",
       "      <td>-0.127293</td>\n",
       "      <td>0.083754</td>\n",
       "      <td>-0.119000</td>\n",
       "    </tr>\n",
       "    <tr>\n",
       "      <th>0.24</th>\n",
       "      <td>-0.003330</td>\n",
       "      <td>0.179657</td>\n",
       "      <td>-0.125838</td>\n",
       "      <td>0.083604</td>\n",
       "      <td>-0.118999</td>\n",
       "    </tr>\n",
       "    <tr>\n",
       "      <th>0.25</th>\n",
       "      <td>-0.004578</td>\n",
       "      <td>0.246998</td>\n",
       "      <td>-0.123704</td>\n",
       "      <td>0.083456</td>\n",
       "      <td>-0.118999</td>\n",
       "    </tr>\n",
       "    <tr>\n",
       "      <th>0.26</th>\n",
       "      <td>-0.005802</td>\n",
       "      <td>0.313008</td>\n",
       "      <td>-0.120902</td>\n",
       "      <td>0.083310</td>\n",
       "      <td>-0.118998</td>\n",
       "    </tr>\n",
       "    <tr>\n",
       "      <th>0.27</th>\n",
       "      <td>-0.006994</td>\n",
       "      <td>0.377329</td>\n",
       "      <td>-0.117449</td>\n",
       "      <td>0.083169</td>\n",
       "      <td>-0.118997</td>\n",
       "    </tr>\n",
       "    <tr>\n",
       "      <th>0.28</th>\n",
       "      <td>-0.008149</td>\n",
       "      <td>0.439616</td>\n",
       "      <td>-0.113362</td>\n",
       "      <td>0.083032</td>\n",
       "      <td>-0.118996</td>\n",
       "    </tr>\n",
       "    <tr>\n",
       "      <th>0.29</th>\n",
       "      <td>-0.009260</td>\n",
       "      <td>0.499533</td>\n",
       "      <td>-0.108665</td>\n",
       "      <td>0.082900</td>\n",
       "      <td>-0.118995</td>\n",
       "    </tr>\n",
       "    <tr>\n",
       "      <th>...</th>\n",
       "      <td>...</td>\n",
       "      <td>...</td>\n",
       "      <td>...</td>\n",
       "      <td>...</td>\n",
       "      <td>...</td>\n",
       "    </tr>\n",
       "    <tr>\n",
       "      <th>4.71</th>\n",
       "      <td>-0.017441</td>\n",
       "      <td>0.940921</td>\n",
       "      <td>0.004747</td>\n",
       "      <td>0.081931</td>\n",
       "      <td>-0.118982</td>\n",
       "    </tr>\n",
       "    <tr>\n",
       "      <th>4.72</th>\n",
       "      <td>-0.017347</td>\n",
       "      <td>0.935825</td>\n",
       "      <td>0.014135</td>\n",
       "      <td>0.081942</td>\n",
       "      <td>-0.118982</td>\n",
       "    </tr>\n",
       "    <tr>\n",
       "      <th>4.73</th>\n",
       "      <td>-0.017159</td>\n",
       "      <td>0.925684</td>\n",
       "      <td>0.023447</td>\n",
       "      <td>0.081964</td>\n",
       "      <td>-0.118983</td>\n",
       "    </tr>\n",
       "    <tr>\n",
       "      <th>4.74</th>\n",
       "      <td>-0.016878</td>\n",
       "      <td>0.910550</td>\n",
       "      <td>0.032632</td>\n",
       "      <td>0.081998</td>\n",
       "      <td>-0.118983</td>\n",
       "    </tr>\n",
       "    <tr>\n",
       "      <th>4.75</th>\n",
       "      <td>-0.016507</td>\n",
       "      <td>0.890506</td>\n",
       "      <td>0.041642</td>\n",
       "      <td>0.082041</td>\n",
       "      <td>-0.118984</td>\n",
       "    </tr>\n",
       "    <tr>\n",
       "      <th>4.76</th>\n",
       "      <td>-0.016046</td>\n",
       "      <td>0.865661</td>\n",
       "      <td>0.050426</td>\n",
       "      <td>0.082096</td>\n",
       "      <td>-0.118985</td>\n",
       "    </tr>\n",
       "    <tr>\n",
       "      <th>4.77</th>\n",
       "      <td>-0.015499</td>\n",
       "      <td>0.836148</td>\n",
       "      <td>0.058939</td>\n",
       "      <td>0.082161</td>\n",
       "      <td>-0.118986</td>\n",
       "    </tr>\n",
       "    <tr>\n",
       "      <th>4.78</th>\n",
       "      <td>-0.014869</td>\n",
       "      <td>0.802125</td>\n",
       "      <td>0.067134</td>\n",
       "      <td>0.082235</td>\n",
       "      <td>-0.118987</td>\n",
       "    </tr>\n",
       "    <tr>\n",
       "      <th>4.79</th>\n",
       "      <td>-0.014158</td>\n",
       "      <td>0.763778</td>\n",
       "      <td>0.074967</td>\n",
       "      <td>0.082319</td>\n",
       "      <td>-0.118988</td>\n",
       "    </tr>\n",
       "    <tr>\n",
       "      <th>4.80</th>\n",
       "      <td>-0.013371</td>\n",
       "      <td>0.721312</td>\n",
       "      <td>0.082396</td>\n",
       "      <td>0.082413</td>\n",
       "      <td>-0.118989</td>\n",
       "    </tr>\n",
       "    <tr>\n",
       "      <th>4.81</th>\n",
       "      <td>-0.012511</td>\n",
       "      <td>0.674956</td>\n",
       "      <td>0.089381</td>\n",
       "      <td>0.082514</td>\n",
       "      <td>-0.118991</td>\n",
       "    </tr>\n",
       "    <tr>\n",
       "      <th>4.82</th>\n",
       "      <td>-0.011585</td>\n",
       "      <td>0.624961</td>\n",
       "      <td>0.095883</td>\n",
       "      <td>0.082624</td>\n",
       "      <td>-0.118992</td>\n",
       "    </tr>\n",
       "    <tr>\n",
       "      <th>4.83</th>\n",
       "      <td>-0.010595</td>\n",
       "      <td>0.571595</td>\n",
       "      <td>0.101869</td>\n",
       "      <td>0.082742</td>\n",
       "      <td>-0.118993</td>\n",
       "    </tr>\n",
       "    <tr>\n",
       "      <th>4.84</th>\n",
       "      <td>-0.009549</td>\n",
       "      <td>0.515148</td>\n",
       "      <td>0.107305</td>\n",
       "      <td>0.082866</td>\n",
       "      <td>-0.118995</td>\n",
       "    </tr>\n",
       "    <tr>\n",
       "      <th>4.85</th>\n",
       "      <td>-0.008451</td>\n",
       "      <td>0.455922</td>\n",
       "      <td>0.112162</td>\n",
       "      <td>0.082996</td>\n",
       "      <td>-0.118996</td>\n",
       "    </tr>\n",
       "    <tr>\n",
       "      <th>4.86</th>\n",
       "      <td>-0.007308</td>\n",
       "      <td>0.394238</td>\n",
       "      <td>0.116415</td>\n",
       "      <td>0.083132</td>\n",
       "      <td>-0.118997</td>\n",
       "    </tr>\n",
       "    <tr>\n",
       "      <th>4.87</th>\n",
       "      <td>-0.006125</td>\n",
       "      <td>0.330429</td>\n",
       "      <td>0.120040</td>\n",
       "      <td>0.083272</td>\n",
       "      <td>-0.118998</td>\n",
       "    </tr>\n",
       "    <tr>\n",
       "      <th>4.88</th>\n",
       "      <td>-0.004909</td>\n",
       "      <td>0.264837</td>\n",
       "      <td>0.123018</td>\n",
       "      <td>0.083416</td>\n",
       "      <td>-0.118999</td>\n",
       "    </tr>\n",
       "    <tr>\n",
       "      <th>4.89</th>\n",
       "      <td>-0.003667</td>\n",
       "      <td>0.197817</td>\n",
       "      <td>0.125332</td>\n",
       "      <td>0.083564</td>\n",
       "      <td>-0.118999</td>\n",
       "    </tr>\n",
       "    <tr>\n",
       "      <th>4.90</th>\n",
       "      <td>-0.002405</td>\n",
       "      <td>0.129731</td>\n",
       "      <td>0.126970</td>\n",
       "      <td>0.083714</td>\n",
       "      <td>-0.119000</td>\n",
       "    </tr>\n",
       "    <tr>\n",
       "      <th>4.91</th>\n",
       "      <td>-0.001130</td>\n",
       "      <td>0.060945</td>\n",
       "      <td>0.127924</td>\n",
       "      <td>0.083866</td>\n",
       "      <td>-0.119000</td>\n",
       "    </tr>\n",
       "    <tr>\n",
       "      <th>4.92</th>\n",
       "      <td>0.000151</td>\n",
       "      <td>-0.008169</td>\n",
       "      <td>0.128188</td>\n",
       "      <td>0.084018</td>\n",
       "      <td>-0.119000</td>\n",
       "    </tr>\n",
       "    <tr>\n",
       "      <th>4.93</th>\n",
       "      <td>0.001432</td>\n",
       "      <td>-0.077240</td>\n",
       "      <td>0.127761</td>\n",
       "      <td>0.084170</td>\n",
       "      <td>-0.119000</td>\n",
       "    </tr>\n",
       "    <tr>\n",
       "      <th>4.94</th>\n",
       "      <td>0.002704</td>\n",
       "      <td>-0.145894</td>\n",
       "      <td>0.126645</td>\n",
       "      <td>0.084322</td>\n",
       "      <td>-0.119000</td>\n",
       "    </tr>\n",
       "    <tr>\n",
       "      <th>4.95</th>\n",
       "      <td>0.003962</td>\n",
       "      <td>-0.213761</td>\n",
       "      <td>0.124846</td>\n",
       "      <td>0.084472</td>\n",
       "      <td>-0.118999</td>\n",
       "    </tr>\n",
       "    <tr>\n",
       "      <th>4.96</th>\n",
       "      <td>0.005199</td>\n",
       "      <td>-0.280476</td>\n",
       "      <td>0.122373</td>\n",
       "      <td>0.084619</td>\n",
       "      <td>-0.118998</td>\n",
       "    </tr>\n",
       "    <tr>\n",
       "      <th>4.97</th>\n",
       "      <td>0.006408</td>\n",
       "      <td>-0.345678</td>\n",
       "      <td>0.119241</td>\n",
       "      <td>0.084763</td>\n",
       "      <td>-0.118998</td>\n",
       "    </tr>\n",
       "    <tr>\n",
       "      <th>4.98</th>\n",
       "      <td>0.007582</td>\n",
       "      <td>-0.409016</td>\n",
       "      <td>0.115466</td>\n",
       "      <td>0.084903</td>\n",
       "      <td>-0.118997</td>\n",
       "    </tr>\n",
       "    <tr>\n",
       "      <th>4.99</th>\n",
       "      <td>0.008715</td>\n",
       "      <td>-0.470149</td>\n",
       "      <td>0.111068</td>\n",
       "      <td>0.085039</td>\n",
       "      <td>-0.118995</td>\n",
       "    </tr>\n",
       "    <tr>\n",
       "      <th>5.00</th>\n",
       "      <td>0.009801</td>\n",
       "      <td>-0.528746</td>\n",
       "      <td>0.106071</td>\n",
       "      <td>0.085168</td>\n",
       "      <td>-0.118994</td>\n",
       "    </tr>\n",
       "  </tbody>\n",
       "</table>\n",
       "<p>501 rows × 5 columns</p>\n",
       "</div>"
      ],
      "text/plain": [
       "      book_angle  book_angle_acc  book_angle_vel  bottom_left_y  bottom_left_x\n",
       "time                                                                          \n",
       "0.00    0.017453       -0.941567        0.000000       0.086083      -0.118982\n",
       "0.01    0.017406       -0.939028       -0.009407       0.086078      -0.118982\n",
       "0.02    0.017265       -0.931426       -0.018764       0.086061      -0.118982\n",
       "0.03    0.017031       -0.918801       -0.028019       0.086033      -0.118983\n",
       "0.04    0.016705       -0.901222       -0.037123       0.085994      -0.118983\n",
       "0.05    0.016290       -0.878783       -0.046027       0.085944      -0.118984\n",
       "0.06    0.015786       -0.851605       -0.054683       0.085884      -0.118985\n",
       "0.07    0.015197       -0.819835       -0.063044       0.085813      -0.118986\n",
       "0.08    0.014526       -0.783645       -0.071065       0.085733      -0.118987\n",
       "0.09    0.013777       -0.743228       -0.078703       0.085643      -0.118989\n",
       "0.10    0.012953       -0.698804       -0.085916       0.085545      -0.118990\n",
       "0.11    0.012060       -0.650612       -0.092666       0.085438      -0.118991\n",
       "0.12    0.011102       -0.598911       -0.098917       0.085324      -0.118993\n",
       "0.13    0.010083       -0.543981       -0.104634       0.085202      -0.118994\n",
       "0.14    0.009011       -0.486117       -0.109787       0.085074      -0.118995\n",
       "0.15    0.007890       -0.425632       -0.114347       0.084940      -0.118996\n",
       "0.16    0.006726       -0.362852       -0.118292       0.084801      -0.118997\n",
       "0.17    0.005526       -0.298116       -0.121598       0.084658      -0.118998\n",
       "0.18    0.004296       -0.231771       -0.124249       0.084512      -0.118999\n",
       "0.19    0.003043       -0.164177       -0.126229       0.084362      -0.118999\n",
       "0.20    0.001774       -0.095698       -0.127529       0.084211      -0.119000\n",
       "0.21    0.000495       -0.026703       -0.128141       0.084059      -0.119000\n",
       "0.22   -0.000787        0.042437       -0.128063       0.083906      -0.119000\n",
       "0.23   -0.002064        0.111347       -0.127293       0.083754      -0.119000\n",
       "0.24   -0.003330        0.179657       -0.125838       0.083604      -0.118999\n",
       "0.25   -0.004578        0.246998       -0.123704       0.083456      -0.118999\n",
       "0.26   -0.005802        0.313008       -0.120902       0.083310      -0.118998\n",
       "0.27   -0.006994        0.377329       -0.117449       0.083169      -0.118997\n",
       "0.28   -0.008149        0.439616       -0.113362       0.083032      -0.118996\n",
       "0.29   -0.009260        0.499533       -0.108665       0.082900      -0.118995\n",
       "...          ...             ...             ...            ...            ...\n",
       "4.71   -0.017441        0.940921        0.004747       0.081931      -0.118982\n",
       "4.72   -0.017347        0.935825        0.014135       0.081942      -0.118982\n",
       "4.73   -0.017159        0.925684        0.023447       0.081964      -0.118983\n",
       "4.74   -0.016878        0.910550        0.032632       0.081998      -0.118983\n",
       "4.75   -0.016507        0.890506        0.041642       0.082041      -0.118984\n",
       "4.76   -0.016046        0.865661        0.050426       0.082096      -0.118985\n",
       "4.77   -0.015499        0.836148        0.058939       0.082161      -0.118986\n",
       "4.78   -0.014869        0.802125        0.067134       0.082235      -0.118987\n",
       "4.79   -0.014158        0.763778        0.074967       0.082319      -0.118988\n",
       "4.80   -0.013371        0.721312        0.082396       0.082413      -0.118989\n",
       "4.81   -0.012511        0.674956        0.089381       0.082514      -0.118991\n",
       "4.82   -0.011585        0.624961        0.095883       0.082624      -0.118992\n",
       "4.83   -0.010595        0.571595        0.101869       0.082742      -0.118993\n",
       "4.84   -0.009549        0.515148        0.107305       0.082866      -0.118995\n",
       "4.85   -0.008451        0.455922        0.112162       0.082996      -0.118996\n",
       "4.86   -0.007308        0.394238        0.116415       0.083132      -0.118997\n",
       "4.87   -0.006125        0.330429        0.120040       0.083272      -0.118998\n",
       "4.88   -0.004909        0.264837        0.123018       0.083416      -0.118999\n",
       "4.89   -0.003667        0.197817        0.125332       0.083564      -0.118999\n",
       "4.90   -0.002405        0.129731        0.126970       0.083714      -0.119000\n",
       "4.91   -0.001130        0.060945        0.127924       0.083866      -0.119000\n",
       "4.92    0.000151       -0.008169        0.128188       0.084018      -0.119000\n",
       "4.93    0.001432       -0.077240        0.127761       0.084170      -0.119000\n",
       "4.94    0.002704       -0.145894        0.126645       0.084322      -0.119000\n",
       "4.95    0.003962       -0.213761        0.124846       0.084472      -0.118999\n",
       "4.96    0.005199       -0.280476        0.122373       0.084619      -0.118998\n",
       "4.97    0.006408       -0.345678        0.119241       0.084763      -0.118998\n",
       "4.98    0.007582       -0.409016        0.115466       0.084903      -0.118997\n",
       "4.99    0.008715       -0.470149        0.111068       0.085039      -0.118995\n",
       "5.00    0.009801       -0.528746        0.106071       0.085168      -0.118994\n",
       "\n",
       "[501 rows x 5 columns]"
      ]
     },
     "execution_count": 23,
     "metadata": {},
     "output_type": "execute_result"
    }
   ],
   "source": [
    "trajectories"
   ]
  },
  {
   "cell_type": "markdown",
   "metadata": {},
   "source": [
    "The data frames have useful plotting functions associated with them, so it is rather easy to plot the various coordinates and measurements versus time:"
   ]
  },
  {
   "cell_type": "code",
   "execution_count": 24,
   "metadata": {},
   "outputs": [
    {
     "data": {
      "image/png": "[encoded data removed]",
      "text/plain": [
       "<matplotlib.figure.Figure at 0x7f500d3e06d8>"
      ]
     },
     "metadata": {},
     "output_type": "display_data"
    }
   ],
   "source": [
    "trajectories.plot();"
   ]
  },
  {
   "cell_type": "markdown",
   "metadata": {},
   "source": [
    "It is often a little clearer if each column is in a subplots, especially if they have different units, as these do:"
   ]
  },
  {
   "cell_type": "code",
   "execution_count": 25,
   "metadata": {},
   "outputs": [
    {
     "data": {
      "image/png": "[encoded data removed]",
      "text/plain": [
       "<matplotlib.figure.Figure at 0x7f50042b2320>"
      ]
     },
     "metadata": {},
     "output_type": "display_data"
    }
   ],
   "source": [
    "trajectories.plot(subplots=True);"
   ]
  },
  {
   "cell_type": "markdown",
   "metadata": {},
   "source": [
    "A single column can be accessed and plotted too:"
   ]
  },
  {
   "cell_type": "code",
   "execution_count": 26,
   "metadata": {},
   "outputs": [
    {
     "data": {
      "image/png": "[encoded data removed]",
      "text/plain": [
       "<matplotlib.figure.Figure at 0x7f500d422128>"
      ]
     },
     "metadata": {},
     "output_type": "display_data"
    }
   ],
   "source": [
    "plt.figure()\n",
    "trajectories['book_angle'].plot();"
   ]
  },
  {
   "cell_type": "markdown",
   "metadata": {},
   "source": [
    "Maybe you want to use degrees for the book angle instead, just make a new column:"
   ]
  },
  {
   "cell_type": "code",
   "execution_count": 27,
   "metadata": {},
   "outputs": [
    {
     "data": {
      "image/png": "[encoded data removed]",
      "text/plain": [
       "<matplotlib.figure.Figure at 0x7f50041a7e10>"
      ]
     },
     "metadata": {},
     "output_type": "display_data"
    }
   ],
   "source": [
    "trajectories['book_angle_deg'] = np.rad2deg(trajectories['book_angle'])\n",
    "plt.figure()\n",
    "trajectories['book_angle_deg'].plot();"
   ]
  },
  {
   "cell_type": "markdown",
   "metadata": {},
   "source": [
    "> **Exercise:** Create the free response of the system with different initial coordinate values and parameter values.\n",
    ">\n",
    "> -   Does the simulation always work, if not what doesn't work? *Hint: try a tall stack of books, can you find a stack height that is significant?*\n",
    "> -   What mathematical function can be used describe the change in the book angle?\n",
    "> -   Why does the book corner x position seem to oscillate faster?\n",
    "\n",
    "## Animate The Motion\n",
    "\n",
    "Now that we we have a time varying response, we can animate the configuration figure to visualize how the system moves. There is one minor change that needs to be made to the configuration plot function first. We need to make sure that it also returns any of the objects that change with time. Update the function by add the `Rectangle` as a second returned value:"
   ]
  },
  {
   "cell_type": "code",
   "execution_count": 28,
   "metadata": {},
   "outputs": [],
   "source": [
    "def create_plot(radius, length, thickness, book_angle, bottom_left_x, bottom_left_y):\n",
    "    fig, ax = plt.subplots(1, 1)\n",
    "    ax.set_xlim((-0.15, 0.15))\n",
    "    ax.set_ylim((0.0, 0.2))\n",
    "    ax.set_xlabel('x [m]')\n",
    "    ax.set_ylabel('y [m]')\n",
    "    ax.set_aspect('equal')\n",
    "\n",
    "    circ = Circle((0.0, radius), radius=radius)\n",
    "\n",
    "    # NOTE : The rectangle's position and angle will change with time.\n",
    "    rect = Rectangle((bottom_left_x, bottom_left_y),\n",
    "                     length, thickness,\n",
    "                     angle=-np.rad2deg(book_angle),\n",
    "                     color='black')\n",
    "\n",
    "    ax.add_patch(circ)\n",
    "    ax.add_patch(rect)\n",
    "\n",
    "    # make sure to return the rectangle, which moves at each time step!\n",
    "    return fig, rect\n",
    "\n",
    "sys.config_plot_func = create_plot"
   ]
  },
  {
   "cell_type": "markdown",
   "metadata": {},
   "source": [
    "Now, an animation update function can be created which updates the bottom left corner's x and y coordinate at each time step. The last argument in the function signature must be the object(s) that changes."
   ]
  },
  {
   "cell_type": "code",
   "execution_count": 29,
   "metadata": {},
   "outputs": [],
   "source": [
    "def update_frame(book_angle, bottom_left_x, bottom_left_y, rect):\n",
    "    rect.set_xy((bottom_left_x, bottom_left_y))\n",
    "    rect._angle = -np.rad2deg(book_angle)"
   ]
  },
  {
   "cell_type": "markdown",
   "metadata": {},
   "source": [
    "Lastly, add this function to the system:"
   ]
  },
  {
   "cell_type": "code",
   "execution_count": 30,
   "metadata": {},
   "outputs": [],
   "source": [
    "sys.config_plot_update_func = update_frame"
   ]
  },
  {
   "cell_type": "markdown",
   "metadata": {},
   "source": [
    "The visualization can now be animated with:"
   ]
  },
  {
   "cell_type": "code",
   "execution_count": 31,
   "metadata": {},
   "outputs": [
    {
     "data": {
      "text/plain": [
       "<matplotlib.animation.FuncAnimation at 0x7f50040d89e8>"
      ]
     },
     "execution_count": 31,
     "metadata": {},
     "output_type": "execute_result"
    },
    {
     "data": {
      "image/png": "[encoded data removed]",
      "text/plain": [
       "<matplotlib.figure.Figure at 0x7f5004115be0>"
      ]
     },
     "metadata": {},
     "output_type": "display_data"
    }
   ],
   "source": [
    "sys.animate_configuration(interval=8)"
   ]
  },
  {
   "cell_type": "markdown",
   "metadata": {},
   "source": [
    "The interval parameter helps speed it up closer to real time. See the documentation for matplotlib's [FuncAnimation](https://matplotlib.org/api/_as_gen/matplotlib.animation.FuncAnimation.html#matplotlib.animation.FuncAnimation) for more options.\n",
    "\n",
    "> **Exercise:** There is a special variable `time` that can be specified in the plot setup and update functions. Add this variable to the function signatures and create some text on the plot that displays the current time using:\n",
    ">\n",
    "> -   `text = ax.text(-0.125, 0.025, 'Time = {:0.3f} s'.format(time))`\n",
    "> -   `text.set_text('Time = {:0.3f} s'.format(time))`\n",
    "\n",
    "## Time Series Analysis\n",
    "\n",
    "Now that we have some data produced from the simulation we can see how it compares to what we can measure in real life.\n",
    "\n",
    "> **Exercise:** Either using the video of the oscillation or the demo available in the classroom, count the number of oscillations in a few seconds and compute the period of the oscillation.\n",
    ">\n",
    "> **Exercise:** From the above plots you can see that the oscillation is periodic and sinusoidal. Using your program, create a function that calculates the period of the oscillations to three significant figures when the initial book angle is 2 degrees. Compare the period predicted by the system to the period measured in class. You can also compare it to the value given from `sys.period()`.\n",
    ">\n",
    "> *Hint: Look for sign changes with np.sign(), use boolean indexing to extract important times, and finally np.diff() and np.mean() can be useful for finding the delta times and averaging. Note that np.diff() returns one fewer item in the array it operates on.*"
   ]
  },
  {
   "cell_type": "code",
   "execution_count": 32,
   "metadata": {},
   "outputs": [],
   "source": [
    "def find_period(time, theta):\n",
    "    \"\"\"Computes the period of oscillation based on the trajectory of theta.\n",
    "\n",
    "    Parameters\n",
    "    ==========\n",
    "    time : array_like, shape(n,)\n",
    "        An array of monotonically increasing time values.\n",
    "    theta : array_like, shape(n,)\n",
    "        An array of values for theta at each time in ``t``.\n",
    "\n",
    "    Returns\n",
    "    =======\n",
    "    period : float\n",
    "        An estimate of the period of oscillation.\n",
    "\n",
    "    \"\"\"\n",
    "    # delete the following line and replace with your code\n",
    "    period = None\n",
    "\n",
    "    return period\n",
    "\n",
    "find_period(trajectories.index, trajectories.book_angle)"
   ]
  },
  {
   "cell_type": "markdown",
   "metadata": {},
   "source": [
    "> **Exercise:** Plot the period versus change in mass, length, and radius. Is there anything interesting about these plots? Explain you interpretations in a markdown cell."
   ]
  }
 ],
 "metadata": {},
 "nbformat": 4,
 "nbformat_minor": 2
}
