{
 "cells": [
  {
   "cell_type": "markdown",
   "metadata": {},
   "source": [
    "# 3. Measuring a Bicycle Wheel's Inertia\n",
    "\n",
    "This notebook introduces the relationship of vibrational motion to the inertia of a system and how one might estimate the inertia given measured vibrational data. The determination of the radial and axial moments of inertia of a bicycle wheel are used as a motivating example.\n",
    "\n",
    "After the completion of this assignment students will be able to:\n",
    "\n",
    "- import measurement data into Python\n",
    "- visualize the vibrational measurements\n",
    "- use interactive plots to cause a simulation to match measurements\n",
    "- use curve fitting to estimate the period of oscillation\n",
    "- understand the concept of natural frequency and its relationship to mass/inertia and stiffness\n",
    "- state two of the three fundamental characteristics that govern vibration (mass/inertia and stiffness)\n",
    "- discover the center of percussion of a compound pendulum\n",
    "\n",
    "## Inertia and Vibration\n",
    "\n",
    "One of the fundamental properties that affects how systems vibrate is the inertia of a system. Inertia is colloquially defined as the *tendency to do nothing or to remain unchanged*. A vibrating system is changing with respect to time, thus we may infer that inertia will try to prevent the system from changing. There are two specific types of inertia that we will address in this class: [mass](https://en.wikipedia.org/wiki/Mass) which is a resistance to linear motion and [moment of inertia](https://en.wikipedia.org/wiki/Moment_of_inertia) which is a resistenace to rotational motion. The moment of inertia is more specifically a descriptor for the distribution of mass in a system.\n",
    "\n",
    "Most people are familiar with an ordinary bicycle wheel, so we will look into the inertial characteristics of bicycle wheels and how this relates to vibration. A bicycle wheel is mostly symetric about a plane that passes through the cross sectional center line of the circular rim in addition to being symmetric about any radial plane normal to the wheel plane. Recalling from dynamics, this means that the moment of inertia will have three [priniciapl moments of inertia](http://www.physics.arizona.edu/~varnes/Teaching/321Fall2004/Notes/Lecture34.pdf), two of which are equal due to the nature of the symmetry. The inertia about the axle of the wheel is the rotational inertia (resists the wheel rolling) and the inertia about any radial axis resists motions like turning the handlebars, etc. We demonstrated in the previous lesson that the inertia of the book affected the period of oscillation, and thus if a bicycle wheel is vibrated its inertia should affect the vibration in some way also.\n",
    "\n",
    "# Torsional Pendulum\n",
    "\n",
    "Vibrations of a mass or inertia occur when there is a force that acts on the system which displaces it from its equilibrium. A common way to measure inertia is to use a torsional spring with a known linear force/displacement ratio, the spring constant or stiffness, to resist motion and thus create this force. If we attach a torsional spring along a radial line of the bicycle wheel, through its center of mass and glue the other end to the ceiling it is possible to create a *torsional pendulum*. If you twist the wheel about the axis of the torsional spring it will start vibrating.\n",
    "\n",
    "The video belows shows such a setup. A bicycle wheel is attached to the ceiling by a slender steel rod. The rod's axis passes through the center of mass of the wheel. When the bicycle wheel is given an initial angular displacement from the equilibrium, it vibrates."
   ]
  },
  {
   "cell_type": "code",
   "execution_count": 1,
   "metadata": {},
   "outputs": [
    {
     "data": {
      "image/jpeg": "[encoded data removed]",
      "text/html": [
       "\n",
       "        <iframe\n",
       "            width=\"640\"\n",
       "            height=\"480\"\n",
       "            src=\"https://www.youtube.com/embed/uuc1_RTYZLw\"\n",
       "            frameborder=\"0\"\n",
       "            allowfullscreen\n",
       "        ></iframe>\n",
       "        "
      ],
      "text/plain": [
       "<IPython.lib.display.YouTubeVideo at 0x7fb0c406a128>"
      ]
     },
     "execution_count": 1,
     "metadata": {},
     "output_type": "execute_result"
    }
   ],
   "source": [
    "from IPython.display import YouTubeVideo\n",
    "YouTubeVideo('uuc1_RTYZLw', width=640, height=480)"
   ]
  },
  {
   "cell_type": "markdown",
   "metadata": {},
   "source": [
    "A free body diagram can be sketched of this system:\n",
    "\n",
    "<img src=\"fig/03/bicycle-wheel-radial-inertia-measurement-fbd.png\" alt=\"image\" width=\"400\" />\n",
    "\n",
    "**Exercise**\n",
    "\n",
    "This system is slightly different than the book and cup system in the previous lesson. There are two fundamental properties of the system that make this it vibrate. What are these two things and how is it differen than the book on the cup?"
   ]
  },
  {
   "cell_type": "markdown",
   "metadata": {},
   "source": [
    "*Write your answer here*"
   ]
  },
  {
   "cell_type": "markdown",
   "metadata": {},
   "source": [
    "## Data\n",
    "\n",
    "During the experiment shown in the above video I recorded some important constants about the system and measured the angular velocity of the system about the rod's axis with a [angular velocity gyro](https://en.wikipedia.org/wiki/Vibrating_structure_gyroscope) (which also functions internally based on vibrations). A gyro is a micro electromechanical device that outputs a voltage proportional to the angular velocity it experiences. The data is stored in a plain text comma separated value file. The Unix `head` command can show the first set of lines and can be invoke in Jupyter using the prepended `!`."
   ]
  },
  {
   "cell_type": "code",
   "execution_count": 2,
   "metadata": {},
   "outputs": [
    {
     "name": "stdout",
     "output_type": "stream",
     "text": [
      "time,angular_velocity\r\n",
      "0.0,3.236790061330015\r\n",
      "0.0020000000000000018,3.2304788385296246\r\n",
      "0.003999999999999997,3.2195776355287498\r\n",
      "0.005999999999999998,3.2092501800752573\r\n",
      "0.008,3.1926115018876944\r\n",
      "0.009999999999999995,3.1880215217073844\r\n",
      "0.011999999999999997,3.1765465712743266\r\n",
      "0.013999999999999999,3.1490066903384144\r\n",
      "0.016,3.123188052093832\r\n"
     ]
    }
   ],
   "source": [
    "!head data/03/bicycle-wheel-radial-inertia-rate-gyro-measurement.csv"
   ]
  },
  {
   "cell_type": "markdown",
   "metadata": {},
   "source": [
    "The data from the measurement can be loaded into a Panda's `DataFrame` with Panda's `read_csv()` function. The time index is in seconds and the angular velocity is in radians per second."
   ]
  },
  {
   "cell_type": "code",
   "execution_count": 3,
   "metadata": {
    "collapsed": true
   },
   "outputs": [],
   "source": [
    "import pandas as pd"
   ]
  },
  {
   "cell_type": "code",
   "execution_count": 4,
   "metadata": {
    "collapsed": true
   },
   "outputs": [],
   "source": [
    "radial_gyro_meas = pd.read_csv('data/03/bicycle-wheel-radial-inertia-rate-gyro-measurement.csv', index_col='time')"
   ]
  },
  {
   "cell_type": "markdown",
   "metadata": {},
   "source": [
    "This file has 1001 rows:"
   ]
  },
  {
   "cell_type": "code",
   "execution_count": 5,
   "metadata": {},
   "outputs": [
    {
     "data": {
      "text/plain": [
       "1001"
      ]
     },
     "execution_count": 5,
     "metadata": {},
     "output_type": "execute_result"
    }
   ],
   "source": [
    "len(radial_gyro_meas)"
   ]
  },
  {
   "cell_type": "markdown",
   "metadata": {},
   "source": [
    "The `head()` and `tail()` functions associated with a `DataFrame` (identical to the Unix `head` and `tail`) can be used to inspect the beginning and end of the data:"
   ]
  },
  {
   "cell_type": "code",
   "execution_count": 6,
   "metadata": {},
   "outputs": [
    {
     "data": {
      "text/html": [
       "<div>\n",
       "<style>\n",
       "    .dataframe thead tr:only-child th {\n",
       "        text-align: right;\n",
       "    }\n",
       "\n",
       "    .dataframe thead th {\n",
       "        text-align: left;\n",
       "    }\n",
       "\n",
       "    .dataframe tbody tr th {\n",
       "        vertical-align: top;\n",
       "    }\n",
       "</style>\n",
       "<table border=\"1\" class=\"dataframe\">\n",
       "  <thead>\n",
       "    <tr style=\"text-align: right;\">\n",
       "      <th></th>\n",
       "      <th>angular_velocity</th>\n",
       "    </tr>\n",
       "    <tr>\n",
       "      <th>time</th>\n",
       "      <th></th>\n",
       "    </tr>\n",
       "  </thead>\n",
       "  <tbody>\n",
       "    <tr>\n",
       "      <th>0.000</th>\n",
       "      <td>3.236790</td>\n",
       "    </tr>\n",
       "    <tr>\n",
       "      <th>0.002</th>\n",
       "      <td>3.230479</td>\n",
       "    </tr>\n",
       "    <tr>\n",
       "      <th>0.004</th>\n",
       "      <td>3.219578</td>\n",
       "    </tr>\n",
       "    <tr>\n",
       "      <th>0.006</th>\n",
       "      <td>3.209250</td>\n",
       "    </tr>\n",
       "    <tr>\n",
       "      <th>0.008</th>\n",
       "      <td>3.192612</td>\n",
       "    </tr>\n",
       "  </tbody>\n",
       "</table>\n",
       "</div>"
      ],
      "text/plain": [
       "       angular_velocity\n",
       "time                   \n",
       "0.000          3.236790\n",
       "0.002          3.230479\n",
       "0.004          3.219578\n",
       "0.006          3.209250\n",
       "0.008          3.192612"
      ]
     },
     "execution_count": 6,
     "metadata": {},
     "output_type": "execute_result"
    }
   ],
   "source": [
    "radial_gyro_meas.head()"
   ]
  },
  {
   "cell_type": "code",
   "execution_count": 7,
   "metadata": {},
   "outputs": [
    {
     "data": {
      "text/html": [
       "<div>\n",
       "<style>\n",
       "    .dataframe thead tr:only-child th {\n",
       "        text-align: right;\n",
       "    }\n",
       "\n",
       "    .dataframe thead th {\n",
       "        text-align: left;\n",
       "    }\n",
       "\n",
       "    .dataframe tbody tr th {\n",
       "        vertical-align: top;\n",
       "    }\n",
       "</style>\n",
       "<table border=\"1\" class=\"dataframe\">\n",
       "  <thead>\n",
       "    <tr style=\"text-align: right;\">\n",
       "      <th></th>\n",
       "      <th>angular_velocity</th>\n",
       "    </tr>\n",
       "    <tr>\n",
       "      <th>time</th>\n",
       "      <th></th>\n",
       "    </tr>\n",
       "  </thead>\n",
       "  <tbody>\n",
       "    <tr>\n",
       "      <th>1.992</th>\n",
       "      <td>-0.271675</td>\n",
       "    </tr>\n",
       "    <tr>\n",
       "      <th>1.994</th>\n",
       "      <td>-0.207989</td>\n",
       "    </tr>\n",
       "    <tr>\n",
       "      <th>1.996</th>\n",
       "      <td>-0.144303</td>\n",
       "    </tr>\n",
       "    <tr>\n",
       "      <th>1.998</th>\n",
       "      <td>-0.085207</td>\n",
       "    </tr>\n",
       "    <tr>\n",
       "      <th>2.000</th>\n",
       "      <td>-0.030127</td>\n",
       "    </tr>\n",
       "  </tbody>\n",
       "</table>\n",
       "</div>"
      ],
      "text/plain": [
       "       angular_velocity\n",
       "time                   \n",
       "1.992         -0.271675\n",
       "1.994         -0.207989\n",
       "1.996         -0.144303\n",
       "1.998         -0.085207\n",
       "2.000         -0.030127"
      ]
     },
     "execution_count": 7,
     "metadata": {},
     "output_type": "execute_result"
    }
   ],
   "source": [
    "radial_gyro_meas.tail()"
   ]
  },
  {
   "cell_type": "markdown",
   "metadata": {},
   "source": [
    "This can then be plotted to see what the measurement looks like. I use the `'.'` style to show the individual measurements more clearly. You can zoom in to see the individual measurements. Also, remember to enable the plotting display with:"
   ]
  },
  {
   "cell_type": "code",
   "execution_count": 8,
   "metadata": {
    "collapsed": true
   },
   "outputs": [],
   "source": [
    "%matplotlib inline"
   ]
  },
  {
   "cell_type": "code",
   "execution_count": 9,
   "metadata": {},
   "outputs": [
    {
     "data": {
      "image/png": "[encoded data removed]",
      "text/plain": [
       "<matplotlib.figure.Figure at 0x7fb0670e1f28>"
      ]
     },
     "metadata": {},
     "output_type": "display_data"
    }
   ],
   "source": [
    "radial_gyro_meas.plot(style='.');"
   ]
  },
  {
   "cell_type": "markdown",
   "metadata": {},
   "source": [
    "**Exercise**\n",
    "\n",
    "Use your period estimation function from the previous lesson to try to get an estimate of the period of this oscillation."
   ]
  },
  {
   "cell_type": "code",
   "execution_count": 10,
   "metadata": {},
   "outputs": [
    {
     "data": {
      "text/plain": [
       "0.42100000000000004"
      ]
     },
     "execution_count": 10,
     "metadata": {},
     "output_type": "execute_result"
    }
   ],
   "source": [
    "from resonance.functions import estimate_period\n",
    "estimate_period(radial_gyro_meas.index, radial_gyro_meas.angular_velocity)"
   ]
  },
  {
   "cell_type": "markdown",
   "metadata": {},
   "source": [
    "# Simulating the system\n",
    "\n",
    "There is a system in the `resonance` package that represents a basic torsional pendulum that can be used to simulate this system:"
   ]
  },
  {
   "cell_type": "code",
   "execution_count": 11,
   "metadata": {
    "collapsed": true
   },
   "outputs": [],
   "source": [
    "from resonance.linear_systems import TorsionalPendulumSystem"
   ]
  },
  {
   "cell_type": "code",
   "execution_count": 12,
   "metadata": {
    "collapsed": true
   },
   "outputs": [],
   "source": [
    "sys = TorsionalPendulumSystem()"
   ]
  },
  {
   "cell_type": "markdown",
   "metadata": {},
   "source": [
    "Note that the constants are not yet set:"
   ]
  },
  {
   "cell_type": "code",
   "execution_count": 13,
   "metadata": {},
   "outputs": [
    {
     "data": {
      "text/plain": [
       "{'rotational_inertia': 0.0,\n",
       " 'torsional_damping': 0.0,\n",
       " 'torsional_stiffness': 0.0}"
      ]
     },
     "execution_count": 13,
     "metadata": {},
     "output_type": "execute_result"
    }
   ],
   "source": [
    "sys.constants"
   ]
  },
  {
   "cell_type": "markdown",
   "metadata": {},
   "source": [
    "**Exercise**\n",
    "\n",
    "Calculate the stiffness of the circular cross section rod based on your knowledge of torsional elastic mechanics. Here are some of the torsion rod's geometry and material properties:\n",
    "\n",
    "-   Length of the torsion rod, $l$ : 1.05 m\n",
    "-   Diameter of the torsion rod, $d$ : 6.35 mm\n",
    "-   Modulus of Rigidity of steel, $G$ : 77 GPa\n",
    "\n",
    "Set the system's `torsional_stiffness` to the value you calculate."
   ]
  },
  {
   "cell_type": "code",
   "execution_count": 14,
   "metadata": {},
   "outputs": [
    {
     "data": {
      "text/plain": [
       "{'rotational_inertia': 0.0,\n",
       " 'torsional_damping': 0.0,\n",
       " 'torsional_stiffness': 11.705668520051944}"
      ]
     },
     "execution_count": 14,
     "metadata": {},
     "output_type": "execute_result"
    }
   ],
   "source": [
    "import numpy as np\n",
    "\n",
    "stiffness = 77.0E9 * np.pi * 0.00635**4 / 32 / 1.05  # N/m\n",
    "stiffness\n",
    "\n",
    "sys.constants['torsional_stiffness'] = stiffness\n",
    "\n",
    "sys.constants"
   ]
  },
  {
   "cell_type": "markdown",
   "metadata": {},
   "source": [
    "**Exercise**\n",
    "\n",
    "As a starting estimate of the inertia of the bicycle wheel, use the axial moment of inertia of an infinitely thin hoop of mass, $m$. See Wikipedia's [List of moments of inertia](https://en.wikipedia.org/wiki/List_of_moments_of_inertia) for the equation. The bicycle wheel used in the data collection had these values:\n",
    "\n",
    "-   Outer radius of the bicycle wheel, $R$ : 0.336 m\n",
    "-   Mass of the bicycle wheel, $m$ : 1.55 kg\n",
    "\n",
    "Set the rotational inertia value in the system to the value you calculate."
   ]
  },
  {
   "cell_type": "code",
   "execution_count": 15,
   "metadata": {},
   "outputs": [
    {
     "data": {
      "text/plain": [
       "{'rotational_inertia': 0.04374720000000001,\n",
       " 'torsional_damping': 0.0,\n",
       " 'torsional_stiffness': 11.705668520051944}"
      ]
     },
     "execution_count": 15,
     "metadata": {},
     "output_type": "execute_result"
    }
   ],
   "source": [
    "mass = 1.55  # kg\n",
    "radius = 0.336  # m\n",
    "radial_inertia = mass * radius**2 / 4.0 # kg m**2\n",
    "sys.constants['rotational_inertia'] = radial_inertia\n",
    "sys.constants"
   ]
  },
  {
   "cell_type": "markdown",
   "metadata": {},
   "source": [
    "**Exercise**\n",
    "\n",
    "Use the above constants and simulate the system with an initial angular velocity that matches the initial measured angular velocity in the measurements and store the result in a variable named `trajectory`. You can set the initial angular velocity by accessing the `System.speeds` dictionary and assigning a value. One way to select a single value from a Pandas `DataFrame` is to use the `DataFrame.loc[]` notation. This will allow you to select a row by it's index (a time value). Calculate the period of oscillation of this simulation and see if it is similar to the period you estimated from the data above. If the period is different, why might this be so?"
   ]
  },
  {
   "cell_type": "code",
   "execution_count": 16,
   "metadata": {},
   "outputs": [
    {
     "data": {
      "text/plain": [
       "0.38250000000000012"
      ]
     },
     "execution_count": 16,
     "metadata": {},
     "output_type": "execute_result"
    }
   ],
   "source": [
    "sys.speeds['torsion_angle_vel'] = radial_gyro_meas.loc[0.0]['angular_velocity']\n",
    "\n",
    "duration = radial_gyro_meas.index[-1] - radial_gyro_meas.index[0]\n",
    "\n",
    "trajectory = sys.free_response(duration)\n",
    "\n",
    "estimate_period(trajectory.index, trajectory.torsion_angle)"
   ]
  },
  {
   "cell_type": "markdown",
   "metadata": {},
   "source": [
    "## Interactive Plots\n",
    "\n",
    "You should see that the computational system does not quite predict the actual period of the oscillation. One useful tool for interactively changing the constants of the system is a Jupyter \"widget\". Widgets let you create sliders, drop downs, value entry boxes, etc to interactively change the results of the simulation. Below is an example of how you can create a widget that updates a plot interactively. In this case we'd like to adjust the inertia value until the period of oscillation of the simulation matches the period of the actual data.\n",
    "\n",
    "The first step is to create a plot of the data, as we did above, but make sure to assign the axis that command creates to a variable `ax` so that we can add more information to the plot. The second step is to define a function which has an input that you want to adjust interactively, in our case the radial inertia. This function should compute the new simulation trajectory, set the values for the simulation line with the new data, and finally redraw the figure."
   ]
  },
  {
   "cell_type": "code",
   "execution_count": 17,
   "metadata": {
    "collapsed": true
   },
   "outputs": [],
   "source": [
    "import matplotlib.pyplot as plt"
   ]
  },
  {
   "cell_type": "code",
   "execution_count": 18,
   "metadata": {},
   "outputs": [
    {
     "data": {
      "image/png": "[encoded data removed]",
      "text/plain": [
       "<matplotlib.figure.Figure at 0x7fb064d171d0>"
      ]
     },
     "metadata": {},
     "output_type": "display_data"
    }
   ],
   "source": [
    "fig, ax = plt.subplots(1, 1)\n",
    "\n",
    "meas_lines = ax.plot(radial_gyro_meas.index, radial_gyro_meas.angular_velocity, '.')  # create initial plot\n",
    "sim_lines = ax.plot(trajectory.index, trajectory.torsion_angle_vel)  # add a line to the plot\n",
    "\n",
    "ax.set_ylabel('Angular Rate [rad/s]')\n",
    "ax.set_xlabel('Time [s]')\n",
    "ax.legend(['Measured', 'Simulation'], loc=1)\n",
    "\n",
    "# now create a function that has an input that you'd like to varying interactively\n",
    "# the function should compute the updated trajectory with this new value and change the data on the line\n",
    "def plot_trajectory_comparison(rotational_inertia=0.04):\n",
    "   sys.constants['rotational_inertia'] = rotational_inertia  # set the new inertia value\n",
    "   trajectory = sys.free_response(duration)  # simulate the system with new value\n",
    "   sim_lines[0].set_data(trajectory.index, trajectory.torsion_angle_vel)  # set the x and y data of the simulation line to new data\n",
    "   fig.canvas.draw()  # redraw the figure with the updated line\n",
    "\n",
    "# call the function to make the initial plot\n",
    "plot_trajectory_comparison()"
   ]
  },
  {
   "cell_type": "markdown",
   "metadata": {},
   "source": [
    "Now the fun part. You can use the `interact` function from the `ipywidgets` package to make the plot interactive. You pass in the function that does the plot updating and then a range for the slider for the axial inertia as `(smallest_value, largest_value, step_size)`. This will create a slider that updates the plot as you change the value."
   ]
  },
  {
   "cell_type": "code",
   "execution_count": 19,
   "metadata": {
    "collapsed": true
   },
   "outputs": [],
   "source": [
    "from ipywidgets import interact"
   ]
  },
  {
   "cell_type": "code",
   "execution_count": 20,
   "metadata": {},
   "outputs": [],
   "source": [
    "widget = interact(plot_trajectory_comparison, rotational_inertia=(0.0, 0.2, 0.001));"
   ]
  },
  {
   "cell_type": "markdown",
   "metadata": {},
   "source": [
    "Here is a way to get to the value that the widget is set too (it's a bit obtuse, but we'll show different methods later):"
   ]
  },
  {
   "cell_type": "code",
   "execution_count": 21,
   "metadata": {},
   "outputs": [
    {
     "data": {
      "text/plain": [
       "(FloatSlider(value=0.04, description='rotational_inertia', max=0.2, step=0.001),\n",
       " Output())"
      ]
     },
     "execution_count": 21,
     "metadata": {},
     "output_type": "execute_result"
    }
   ],
   "source": [
    "widget.widget.children"
   ]
  },
  {
   "cell_type": "code",
   "execution_count": 22,
   "metadata": {},
   "outputs": [
    {
     "data": {
      "text/plain": [
       "0.04"
      ]
     },
     "execution_count": 22,
     "metadata": {},
     "output_type": "execute_result"
    }
   ],
   "source": [
    "widget.widget.children[0].value"
   ]
  },
  {
   "cell_type": "markdown",
   "metadata": {},
   "source": [
    "# How does inertia relate to the period?\n",
    "\n",
    "By now it should be pretty clear that there is a relationship between the inertia of the system and the period of oscillation. It would be nice to plot the period versus the change in inertia to try and determine what the relationship is. Say we want to check a range of inertia values from X to Y, we can create those values with:"
   ]
  },
  {
   "cell_type": "code",
   "execution_count": 23,
   "metadata": {
    "collapsed": true
   },
   "outputs": [],
   "source": [
    "import numpy as np"
   ]
  },
  {
   "cell_type": "code",
   "execution_count": 24,
   "metadata": {
    "collapsed": true
   },
   "outputs": [],
   "source": [
    "inertias = np.linspace(0.001, 0.2, num=50)"
   ]
  },
  {
   "cell_type": "markdown",
   "metadata": {},
   "source": [
    "## Python For Loops\n",
    "\n",
    "Instead of typing the simulation code out for each of the 50 inertia values, we can use a loop to iterate through each value and save some typing. Python loops are constructed with the `for` command and, in the simplest case, the `in` command. Here is an example that iterates through the inertia values, computes what the hoop radius would be in the mass was fixed, and prints the value of the radius on each iteration:"
   ]
  },
  {
   "cell_type": "code",
   "execution_count": 25,
   "metadata": {},
   "outputs": [
    {
     "name": "stdout",
     "output_type": "stream",
     "text": [
      "0.0359210604054\n",
      "0.0808122035642\n",
      "0.108493787422\n",
      "0.130426958768\n",
      "0.149169303939\n",
      "0.165806425997\n",
      "0.18092003915\n",
      "0.194864953828\n",
      "0.207876501545\n",
      "0.220120261582\n",
      "0.231717973457\n",
      "0.242762247657\n",
      "0.253325479476\n",
      "0.263465535158\n",
      "0.273229533324\n",
      "0.282656447909\n",
      "0.291778952649\n",
      "0.300624760911\n",
      "0.30921762003\n",
      "0.317578063162\n",
      "0.325723987243\n",
      "0.333671103828\n",
      "0.34143329538\n",
      "0.349022900192\n",
      "0.356450942659\n",
      "0.3637273212\n",
      "0.370860962965\n",
      "0.377859952251\n",
      "0.384731637872\n",
      "0.391482723557\n",
      "0.398119344554\n",
      "0.40464713291\n",
      "0.411071273427\n",
      "0.417396551856\n",
      "0.423627396618\n",
      "0.429767915077\n",
      "0.43582192521\n",
      "0.441792983373\n",
      "0.447684408733\n",
      "0.453499304836\n",
      "0.459240578728\n",
      "0.464910957942\n",
      "0.470513005643\n",
      "0.476049134169\n",
      "0.481521617176\n",
      "0.486932600543\n",
      "0.492284112212\n",
      "0.497578071061\n",
      "0.502816294948\n",
      "0.508000508001\n"
     ]
    }
   ],
   "source": [
    "for inertia in inertias:\n",
    "    radius = np.sqrt(2 * inertia / mass)\n",
    "    print(radius)"
   ]
  },
  {
   "cell_type": "markdown",
   "metadata": {},
   "source": [
    "It is also often useful to store the computed values in a list or array as the loop iterates so you can use the values in future computations. Here is a way to store the values in a Python list and then convert the list to a NumPy array."
   ]
  },
  {
   "cell_type": "code",
   "execution_count": 26,
   "metadata": {},
   "outputs": [
    {
     "data": {
      "text/plain": [
       "array([ 0.03592106,  0.0808122 ,  0.10849379,  0.13042696,  0.1491693 ,\n",
       "        0.16580643,  0.18092004,  0.19486495,  0.2078765 ,  0.22012026,\n",
       "        0.23171797,  0.24276225,  0.25332548,  0.26346554,  0.27322953,\n",
       "        0.28265645,  0.29177895,  0.30062476,  0.30921762,  0.31757806,\n",
       "        0.32572399,  0.3336711 ,  0.3414333 ,  0.3490229 ,  0.35645094,\n",
       "        0.36372732,  0.37086096,  0.37785995,  0.38473164,  0.39148272,\n",
       "        0.39811934,  0.40464713,  0.41107127,  0.41739655,  0.4236274 ,\n",
       "        0.42976792,  0.43582193,  0.44179298,  0.44768441,  0.4534993 ,\n",
       "        0.45924058,  0.46491096,  0.47051301,  0.47604913,  0.48152162,\n",
       "        0.4869326 ,  0.49228411,  0.49757807,  0.50281629,  0.50800051])"
      ]
     },
     "execution_count": 26,
     "metadata": {},
     "output_type": "execute_result"
    }
   ],
   "source": [
    "radii = []  # create an empty list\n",
    "for inertia in inertias:\n",
    "    radius = np.sqrt(2 * inertia / mass)\n",
    "    radii.append(radius)  # add the radius to the end of the list\n",
    "radii = np.array(radii)  # convert the list to a NumPy array\n",
    "radii"
   ]
  },
  {
   "cell_type": "markdown",
   "metadata": {},
   "source": [
    "If you want to work with the NumPy array up front you can create an empty NumPy array and then fill it by using the correct index value. This index value can be exposed using the `enumerate()` function. For example:"
   ]
  },
  {
   "cell_type": "code",
   "execution_count": 27,
   "metadata": {},
   "outputs": [
    {
     "data": {
      "text/plain": [
       "array([ 0.,  0.,  0.,  0.,  0.,  0.,  0.,  0.,  0.,  0.,  0.,  0.,  0.,\n",
       "        0.,  0.,  0.,  0.,  0.,  0.,  0.,  0.,  0.,  0.,  0.,  0.,  0.,\n",
       "        0.,  0.,  0.,  0.,  0.,  0.,  0.,  0.,  0.,  0.,  0.,  0.,  0.,\n",
       "        0.,  0.,  0.,  0.,  0.,  0.,  0.,  0.,  0.,  0.,  0.])"
      ]
     },
     "execution_count": 27,
     "metadata": {},
     "output_type": "execute_result"
    }
   ],
   "source": [
    "radii = np.zeros_like(inertias)\n",
    "radii"
   ]
  },
  {
   "cell_type": "code",
   "execution_count": 28,
   "metadata": {},
   "outputs": [
    {
     "data": {
      "text/plain": [
       "array([ 0.03592106,  0.0808122 ,  0.10849379,  0.13042696,  0.1491693 ,\n",
       "        0.16580643,  0.18092004,  0.19486495,  0.2078765 ,  0.22012026,\n",
       "        0.23171797,  0.24276225,  0.25332548,  0.26346554,  0.27322953,\n",
       "        0.28265645,  0.29177895,  0.30062476,  0.30921762,  0.31757806,\n",
       "        0.32572399,  0.3336711 ,  0.3414333 ,  0.3490229 ,  0.35645094,\n",
       "        0.36372732,  0.37086096,  0.37785995,  0.38473164,  0.39148272,\n",
       "        0.39811934,  0.40464713,  0.41107127,  0.41739655,  0.4236274 ,\n",
       "        0.42976792,  0.43582193,  0.44179298,  0.44768441,  0.4534993 ,\n",
       "        0.45924058,  0.46491096,  0.47051301,  0.47604913,  0.48152162,\n",
       "        0.4869326 ,  0.49228411,  0.49757807,  0.50281629,  0.50800051])"
      ]
     },
     "execution_count": 28,
     "metadata": {},
     "output_type": "execute_result"
    }
   ],
   "source": [
    "for i, inertia in enumerate(inertias):\n",
    "    radius = np.sqrt(2 * inertia / mass)\n",
    "    radii[i] = radius\n",
    "radii"
   ]
  },
  {
   "cell_type": "markdown",
   "metadata": {},
   "source": [
    "It is also worth noting that NumPy provides *vectorized* functions and that loops are not needed for the above example, for example:"
   ]
  },
  {
   "cell_type": "code",
   "execution_count": 29,
   "metadata": {},
   "outputs": [
    {
     "data": {
      "text/plain": [
       "array([ 0.03592106,  0.0808122 ,  0.10849379,  0.13042696,  0.1491693 ,\n",
       "        0.16580643,  0.18092004,  0.19486495,  0.2078765 ,  0.22012026,\n",
       "        0.23171797,  0.24276225,  0.25332548,  0.26346554,  0.27322953,\n",
       "        0.28265645,  0.29177895,  0.30062476,  0.30921762,  0.31757806,\n",
       "        0.32572399,  0.3336711 ,  0.3414333 ,  0.3490229 ,  0.35645094,\n",
       "        0.36372732,  0.37086096,  0.37785995,  0.38473164,  0.39148272,\n",
       "        0.39811934,  0.40464713,  0.41107127,  0.41739655,  0.4236274 ,\n",
       "        0.42976792,  0.43582193,  0.44179298,  0.44768441,  0.4534993 ,\n",
       "        0.45924058,  0.46491096,  0.47051301,  0.47604913,  0.48152162,\n",
       "        0.4869326 ,  0.49228411,  0.49757807,  0.50281629,  0.50800051])"
      ]
     },
     "execution_count": 29,
     "metadata": {},
     "output_type": "execute_result"
    }
   ],
   "source": [
    "radii = np.sqrt(2 * inertias / mass)\n",
    "radii"
   ]
  },
  {
   "cell_type": "markdown",
   "metadata": {},
   "source": [
    "It is a good idea to use vectorized functions instead of loops when working with arrays if you can, because they are much faster:"
   ]
  },
  {
   "cell_type": "code",
   "execution_count": 30,
   "metadata": {},
   "outputs": [
    {
     "name": "stdout",
     "output_type": "stream",
     "text": [
      "230 µs ± 28.5 µs per loop (mean ± std. dev. of 7 runs, 1000 loops each)\n"
     ]
    }
   ],
   "source": [
    "%%timeit -n 1000\n",
    "\n",
    "radii = []\n",
    "for inertia in inertias:\n",
    "    radius = np.sqrt(2 * inertia / mass)\n",
    "    radii.append(radius)\n",
    "radii = np.array(radii)"
   ]
  },
  {
   "cell_type": "code",
   "execution_count": 31,
   "metadata": {},
   "outputs": [
    {
     "name": "stdout",
     "output_type": "stream",
     "text": [
      "8.47 µs ± 3.18 µs per loop (mean ± std. dev. of 7 runs, 1000 loops each)\n"
     ]
    }
   ],
   "source": [
    "%%timeit  -n 1000\n",
    "\n",
    "np.sqrt(2.0 * inertias / mass)"
   ]
  },
  {
   "cell_type": "markdown",
   "metadata": {},
   "source": [
    "**Exercise**\n",
    "\n",
    "Use a loop to construct a list of periods for different inertia values. After you have both arrays, plot the inertias on the $X$ axis and the frequencies on the $Y$ axis. Is there any functional relationship that describes the relationship between the variables?"
   ]
  },
  {
   "cell_type": "code",
   "execution_count": 32,
   "metadata": {},
   "outputs": [
    {
     "data": {
      "image/png": "[encoded data removed]",
      "text/plain": [
       "<matplotlib.figure.Figure at 0x7fb064cf3e48>"
      ]
     },
     "metadata": {},
     "output_type": "display_data"
    }
   ],
   "source": [
    "periods = []\n",
    "for inertia in inertias:\n",
    "    sys.constants['rotational_inertia'] = inertia\n",
    "    trajectory = sys.free_response(duration)\n",
    "    periods.append(estimate_period(trajectory.index, trajectory.torsion_angle))\n",
    "\n",
    "fig, ax = plt.subplots(1, 1)\n",
    "ax.plot(inertias, periods)\n",
    "ax.set_xlabel('Inertia [$kg \\cdot m^2$]')\n",
    "ax.set_ylabel('Period [s]');"
   ]
  },
  {
   "cell_type": "markdown",
   "metadata": {},
   "source": [
    "Trying plotting the inertia versus the square root of the inertia to see if there are any similarities."
   ]
  },
  {
   "cell_type": "code",
   "execution_count": 33,
   "metadata": {},
   "outputs": [
    {
     "data": {
      "image/png": "[encoded data removed]",
      "text/plain": [
       "<matplotlib.figure.Figure at 0x7fb0ba168320>"
      ]
     },
     "metadata": {},
     "output_type": "display_data"
    }
   ],
   "source": [
    "plt.figure()\n",
    "plt.plot(inertias, np.sqrt(inertias))\n",
    "plt.xlabel('$I$')\n",
    "plt.ylabel('$\\sqrt{I}$');"
   ]
  },
  {
   "cell_type": "markdown",
   "metadata": {},
   "source": [
    "It turns out that the period of oscillation, $T$, is proportional to the square root of the oscillating inertia.\n",
    "\n",
    "$$ T \\propto \\sqrt{I} $$\n",
    "\n",
    "and more precisely the proportionality coefficient ends up being:\n",
    "\n",
    "$$ \\frac{2\\pi}{\\sqrt{k}} $$\n",
    "\n",
    "we will discuss why this is the case when we get to modeling in later notebooks."
   ]
  },
  {
   "cell_type": "code",
   "execution_count": 34,
   "metadata": {},
   "outputs": [
    {
     "data": {
      "image/png": "[encoded data removed]",
      "text/plain": [
       "<matplotlib.figure.Figure at 0x7fb0ba0e99b0>"
      ]
     },
     "metadata": {},
     "output_type": "display_data"
    }
   ],
   "source": [
    "plt.figure()\n",
    "x = np.linspace(0, 0.2, 100)\n",
    "plt.plot(inertias, 2 * np.pi / np.sqrt(sys.constants['torsional_stiffness']) * np.sqrt(inertias))\n",
    "plt.plot(inertias, periods)\n",
    "plt.xlabel('$I$')\n",
    "plt.ylabel(r'$\\frac{2 \\pi}{\\sqrt{k}} \\sqrt{I}$');"
   ]
  },
  {
   "cell_type": "markdown",
   "metadata": {},
   "source": [
    "# Frequency and Period\n",
    "\n",
    "We've been talking about the period of oscillation so far, which is defined as the time between a repeating configuration, i.e. seconds per cycle of oscillation. The inverse of period is frequency: the number of cycles per second. The unit [Hertz](https://en.wikipedia.org/wiki/Hertz) is a special unit for cycles per second.\n",
    "\n",
    "**Exercise**\n",
    "\n",
    "Given a period of 1.35 seconds, (1) what is the frequency in Hertz? and (2) what is the is frequency in radians per second? (3) create two functions, one that coverts period to frequency in radians per second called `period2freq` and one that does the opposite called `freq2period`."
   ]
  },
  {
   "cell_type": "code",
   "execution_count": 35,
   "metadata": {},
   "outputs": [
    {
     "data": {
      "text/plain": [
       "0.7407407407407407"
      ]
     },
     "execution_count": 35,
     "metadata": {},
     "output_type": "execute_result"
    }
   ],
   "source": [
    "T = 1.35  # s\n",
    "f = 1.0 / 1.35  # H\n",
    "f"
   ]
  },
  {
   "cell_type": "code",
   "execution_count": 36,
   "metadata": {},
   "outputs": [
    {
     "data": {
      "text/plain": [
       "4.654211338651545"
      ]
     },
     "execution_count": 36,
     "metadata": {},
     "output_type": "execute_result"
    }
   ],
   "source": [
    "omega = 2 * np.pi * f  # rad/s\n",
    "omega"
   ]
  },
  {
   "cell_type": "code",
   "execution_count": 37,
   "metadata": {
    "collapsed": true
   },
   "outputs": [],
   "source": [
    "def period2freq(period):\n",
    "    return 1.0 / period * 2.0 * np.pi"
   ]
  },
  {
   "cell_type": "code",
   "execution_count": 38,
   "metadata": {
    "collapsed": true
   },
   "outputs": [],
   "source": [
    "def freq2period(freq):\n",
    "    return 1.0 / freq * 2.0 * np.pi"
   ]
  },
  {
   "cell_type": "code",
   "execution_count": 39,
   "metadata": {},
   "outputs": [
    {
     "data": {
      "text/plain": [
       "6.283185307179586"
      ]
     },
     "execution_count": 39,
     "metadata": {},
     "output_type": "execute_result"
    }
   ],
   "source": [
    "period2freq(1.0)"
   ]
  },
  {
   "cell_type": "code",
   "execution_count": 40,
   "metadata": {},
   "outputs": [
    {
     "data": {
      "text/plain": [
       "1.000000048889152"
      ]
     },
     "execution_count": 40,
     "metadata": {},
     "output_type": "execute_result"
    }
   ],
   "source": [
    "freq2period(6.283185)"
   ]
  },
  {
   "cell_type": "markdown",
   "metadata": {},
   "source": [
    "The fundamental frequency of osciallation of the generalized coordinate of a single degree of freedom system is called the [*natural frequency*](https://en.wikipedia.org/wiki/Natural_frequency). The natural frequency is named because it is the frequency a system tends to osciallate at when no driving forces are applied."
   ]
  },
  {
   "cell_type": "markdown",
   "metadata": {},
   "source": [
    "# Curve Fitting\n",
    "\n",
    "Above, we interactive adjusted the inertia such that the simulation's period matched the measured data. Another way to determine the period of oscillation more accurately is to try and find the best fitting curve through the data points. The Python package `scipy` provides a very conveinent function called [`curve_fit`](https://docs.scipy.org/doc/scipy/reference/generated/scipy.optimize.curve_fit.html). This function implements a [least squares method](https://en.wikipedia.org/wiki/Least_squares) that finds an optimal fit based on parameterized function provided by the user. Let's see how it works."
   ]
  },
  {
   "cell_type": "code",
   "execution_count": 41,
   "metadata": {
    "collapsed": true
   },
   "outputs": [],
   "source": [
    "from scipy.optimize import curve_fit"
   ]
  },
  {
   "cell_type": "markdown",
   "metadata": {},
   "source": [
    "First define a Python function where the first input argument are the \"x\" values (an array) and the remaining arguments are the parameters that can be adjusted to find the optimal fit. In this case, a simple cosine function with an adjustable amplitude and frequency is created."
   ]
  },
  {
   "cell_type": "code",
   "execution_count": 42,
   "metadata": {
    "collapsed": true
   },
   "outputs": [],
   "source": [
    "def cos_func(times, amplitude, frequency):\n",
    "    return amplitude * np.cos(frequency * times)"
   ]
  },
  {
   "cell_type": "markdown",
   "metadata": {},
   "source": [
    "To check that it works, provide some values:"
   ]
  },
  {
   "cell_type": "code",
   "execution_count": 43,
   "metadata": {},
   "outputs": [
    {
     "data": {
      "text/plain": [
       "array([ 5.        ,  2.61509054, -2.26452058, -4.98386109, -2.94877861,\n",
       "        1.89933186,  4.93554853,  3.26343065, -1.52188188, -4.85537421,\n",
       "       -3.55701539,  1.13460728,  4.7438557 ,  3.82763759, -0.74000816,\n",
       "       -4.60171293, -4.07355022,  0.34063186,  4.42986349,  4.29316578,\n",
       "        0.06094341, -4.22941677, -4.48506653, -0.46212525,  4.00166678,\n",
       "        4.64801363,  0.86032381, -3.74808376, -4.78095517, -1.2529685 ,\n",
       "        3.47030474,  4.88303294,  1.63752457, -3.17012294, -4.95358797,\n",
       "       -2.01150948,  2.8494762 ,  4.99216479,  2.37250897, -2.51043448,\n",
       "       -4.99851436, -2.71819257,  2.15518649,  4.97259569,  3.04632869,\n",
       "       -1.78602555, -4.9145761 , -3.35479905,  1.4053348 ,  4.82483014])"
      ]
     },
     "execution_count": 43,
     "metadata": {},
     "output_type": "execute_result"
    }
   ],
   "source": [
    "cos_func(np.linspace(0, 10), 5.0, 5.0)"
   ]
  },
  {
   "cell_type": "markdown",
   "metadata": {},
   "source": [
    "Now, provide this function to `curve_fit` along with the measure data (x and y) and an initial guess for the amplitude and frequency. A good initial guess is important, as the optimal solution can't always be found from an arbitrary initial guess. The function `curve_fit` returns to items. The first is the optimal values of the two parametes and the second is the covariance matrix that gives an idea of how certain the value of the parameters are. We will just work with the first value for now."
   ]
  },
  {
   "cell_type": "code",
   "execution_count": 44,
   "metadata": {
    "collapsed": true
   },
   "outputs": [],
   "source": [
    "popt, pcov = curve_fit(cos_func,  # our function\n",
    "                       radial_gyro_meas.index,  # measured x values\n",
    "                       radial_gyro_meas.angular_velocity,  # measured y values\n",
    "                       p0=(3.0, period2freq(0.44)))  # the initial guess for the two parameters"
   ]
  },
  {
   "cell_type": "markdown",
   "metadata": {},
   "source": [
    "Now we see the optimal values for the amplitude and frequency:"
   ]
  },
  {
   "cell_type": "code",
   "execution_count": 45,
   "metadata": {},
   "outputs": [
    {
     "data": {
      "text/plain": [
       "array([  2.6234929 ,  14.92324255])"
      ]
     },
     "execution_count": 45,
     "metadata": {},
     "output_type": "execute_result"
    }
   ],
   "source": [
    "popt"
   ]
  },
  {
   "cell_type": "markdown",
   "metadata": {},
   "source": [
    "It is useful to plot the optimal function versus the measured data:"
   ]
  },
  {
   "cell_type": "code",
   "execution_count": 46,
   "metadata": {},
   "outputs": [
    {
     "data": {
      "image/png": "[encoded data removed]",
      "text/plain": [
       "<matplotlib.figure.Figure at 0x7fb05ed964e0>"
      ]
     },
     "metadata": {},
     "output_type": "display_data"
    }
   ],
   "source": [
    "fig, ax = plt.subplots(1, 1)\n",
    "ax.plot(radial_gyro_meas.index, radial_gyro_meas.angular_velocity, '.')\n",
    "ax.plot(radial_gyro_meas.index, cos_func(radial_gyro_meas.index, popt[0], popt[1]));"
   ]
  },
  {
   "cell_type": "markdown",
   "metadata": {},
   "source": [
    "That looks like a pretty nice fit! The period of this fitted function can now be computed:"
   ]
  },
  {
   "cell_type": "code",
   "execution_count": 47,
   "metadata": {},
   "outputs": [
    {
     "data": {
      "text/plain": [
       "0.42103351768573721"
      ]
     },
     "execution_count": 47,
     "metadata": {},
     "output_type": "execute_result"
    }
   ],
   "source": [
    "freq2period(popt[1])"
   ]
  },
  {
   "cell_type": "markdown",
   "metadata": {},
   "source": [
    "**Exercise**\n",
    "\n",
    "This system, just like the book on a cup system has an amplitude that decreases with respect to time. This decrease is often referred to as a *decaying amplitude*. We just fit the mathematical function:\n",
    "\n",
    "$$ \\dot{\\theta}(t) = A \\cos{\\omega t} $$\n",
    "\n",
    "where $A$ is the amplitude of the angular rate $\\dot{\\theta}$ and $\\omega$ is the frequency of oscillation in radians per second. One way to account for the decay in amplitude oscillation is to introduce a multiplicative factor of $e^{-\\lambda t}$ into the equation. This will cause exponential decay at the rate $\\lambda$ (units are 1 / s). The mathematical equation will look like:\n",
    "\n",
    "$$ \\dot{\\theta}(t) = A e^{-\\lambda t} \\cos{\\omega t} $$\n",
    "\n",
    "Recall that $e^{-\\lambda t}$ looks like:"
   ]
  },
  {
   "cell_type": "code",
   "execution_count": 48,
   "metadata": {},
   "outputs": [
    {
     "data": {
      "image/png": "[encoded data removed]",
      "text/plain": [
       "<matplotlib.figure.Figure at 0x7fb05ed962e8>"
      ]
     },
     "metadata": {},
     "output_type": "display_data"
    }
   ],
   "source": [
    "plt.figure()\n",
    "t = np.linspace(0, 2, num=100)\n",
    "plt.plot(t, np.exp(-1.5 * t));"
   ]
  },
  {
   "cell_type": "markdown",
   "metadata": {},
   "source": [
    "Use decaying oscillation mathematical function to create a curve fitting function and find the values of $A$, $\\lambda$, and $\\omega$ that best fit the data. Calculate the period of oscillation and compare it to the period from the purely sinusoid fit from above. Is there any difference in the period of oscillation?"
   ]
  },
  {
   "cell_type": "code",
   "execution_count": 49,
   "metadata": {
    "collapsed": true
   },
   "outputs": [],
   "source": [
    "def decaying_sinusoid(t, a, lam, w):\n",
    "    return a * np.exp(lam * t) * np.cos(w * t)"
   ]
  },
  {
   "cell_type": "code",
   "execution_count": 50,
   "metadata": {
    "collapsed": true
   },
   "outputs": [],
   "source": [
    "popt, pcov = curve_fit(decaying_sinusoid,\n",
    "                       radial_gyro_meas.index,\n",
    "                       radial_gyro_meas.angular_velocity,\n",
    "                       p0=(3.0, -0.0002, period2freq(0.44)))"
   ]
  },
  {
   "cell_type": "code",
   "execution_count": 51,
   "metadata": {},
   "outputs": [
    {
     "data": {
      "image/png": "[encoded data removed]",
      "text/plain": [
       "<matplotlib.figure.Figure at 0x7fb0ba0154a8>"
      ]
     },
     "metadata": {},
     "output_type": "display_data"
    }
   ],
   "source": [
    "fig, ax = plt.subplots(1, 1)\n",
    "ax.plot(radial_gyro_meas.index, radial_gyro_meas, '.')\n",
    "ax.plot(radial_gyro_meas.index, decaying_sinusoid(radial_gyro_meas.index, popt[0], popt[1], popt[2]));"
   ]
  },
  {
   "cell_type": "code",
   "execution_count": 52,
   "metadata": {},
   "outputs": [
    {
     "data": {
      "text/plain": [
       "0.4211942223551739"
      ]
     },
     "execution_count": 52,
     "metadata": {},
     "output_type": "execute_result"
    }
   ],
   "source": [
    "freq2period(popt[2])"
   ]
  },
  {
   "cell_type": "markdown",
   "metadata": {},
   "source": [
    "The natural frequency of a decayed oscillation is slightly different than that of a non-decaying oscillation."
   ]
  },
  {
   "cell_type": "markdown",
   "metadata": {},
   "source": [
    "This function does an excellent job at fitting the measurements!"
   ]
  },
  {
   "cell_type": "markdown",
   "metadata": {},
   "source": [
    "**Exercise**\n",
    "\n",
    "The system also has a constant called `viscous_damping`. This is constant represents the proportion of a force that is linearly related to the angular velocity of the oscillation of the wheel. The faster it rotates the more force is applied to slow it down. This will cause more damping in the simulation the higher the value is. It is a resonable representation of the damping from air resistance on the wheel. Make an interactive plot like you did above with two adjustable constants: `viscous_damping` and `radial_inertia`. Adjust the parameters until the simulation matches. Does the simulation match the best fit from above?"
   ]
  },
  {
   "cell_type": "code",
   "execution_count": 53,
   "metadata": {},
   "outputs": [
    {
     "data": {
      "image/png": "[encoded data removed]",
      "text/plain": [
       "<matplotlib.figure.Figure at 0x7fb0ba10ad30>"
      ]
     },
     "metadata": {},
     "output_type": "display_data"
    }
   ],
   "source": [
    "ax = radial_gyro_meas.plot(style='.')\n",
    "line = ax.plot(trajectory.index, trajectory.torsion_angle_vel)\n",
    "ax.set_ylabel('Angular Rate [rad/s]')\n",
    "ax.set_xlabel('Time [s]')\n",
    "ax.legend(['Measured', 'Simulation'], loc=1)\n",
    "\n",
    "def plot_trajectory_comparison(rotational_inertia=0.044, torsional_damping=0.0):\n",
    "   sys.constants['rotational_inertia'] = rotational_inertia  # set the new inertia value\n",
    "   sys.constants['torsional_damping'] = torsional_damping\n",
    "   traj = sys.free_response(duration)  # simulate the system with new value\n",
    "   line[0].set_data(traj.index, traj.torsion_angle_vel)  # set the x and y data of the simulation line to new data\n",
    "   plt.gcf().canvas.draw()  # redraw the figure with the updated line\n",
    "\n",
    "# call the function to make the initial plot\n",
    "plot_trajectory_comparison()"
   ]
  },
  {
   "cell_type": "code",
   "execution_count": 54,
   "metadata": {},
   "outputs": [
    {
     "data": {
      "text/plain": [
       "<matplotlib.figure.Figure at 0x7fb064d8e0b8>"
      ]
     },
     "metadata": {},
     "output_type": "display_data"
    }
   ],
   "source": [
    "widget = interact(plot_trajectory_comparison,\n",
    "                  rotational_inertia=(0.0, 0.2, 0.001),\n",
    "                  torsional_damping=(0.0, 0.05, 0.001));"
   ]
  },
  {
   "cell_type": "code",
   "execution_count": 55,
   "metadata": {},
   "outputs": [
    {
     "data": {
      "text/plain": [
       "0.044"
      ]
     },
     "execution_count": 55,
     "metadata": {},
     "output_type": "execute_result"
    }
   ],
   "source": [
    "widget.widget.children[0].value"
   ]
  },
  {
   "cell_type": "code",
   "execution_count": 56,
   "metadata": {},
   "outputs": [
    {
     "data": {
      "text/plain": [
       "0.0"
      ]
     },
     "execution_count": 56,
     "metadata": {},
     "output_type": "execute_result"
    }
   ],
   "source": [
    "widget.widget.children[1].value"
   ]
  },
  {
   "cell_type": "markdown",
   "metadata": {},
   "source": [
    "# Compound Pendulum\n",
    "\n",
    "At this point we have figured out the moment of inertia about any radial axis that passes through the center of the wheel. We would also like to find the moment of inertia about the wheel's axle, the *spin moment of inertia*. This momennt of interia affects how fast the bicycle wheel can be acelerated and decelerated. We could potentally hang the bicycle wheel on the torsion rod such that the axle's axis aligns with the torsion bar's axis. But there is a simpler way that only requires a fulcrum point and gravity to act as our (constant force) \"spring\". The video below shows a children's bicycle wheel hanging by the inner diameter of the rim on a small circular rod and a angular velocity gyro is attached to the wheel with it's measurement axis align with the wheel's axle. This arrangement is called a [*compound pendulum*](https://en.wikipedia.org/wiki/Pendulum#Compound_pendulum). A compound pendulum is any single degree of freedom pendulum in whch the swinging portion can be considered a [*rigid body*](https://en.wikipedia.org/wiki/Rigid_body)."
   ]
  },
  {
   "cell_type": "code",
   "execution_count": 57,
   "metadata": {},
   "outputs": [
    {
     "data": {
      "image/jpeg": "[encoded data removed]",
      "text/html": [
       "\n",
       "        <iframe\n",
       "            width=\"640\"\n",
       "            height=\"480\"\n",
       "            src=\"https://www.youtube.com/embed/D2tSoGqhtx0\"\n",
       "            frameborder=\"0\"\n",
       "            allowfullscreen\n",
       "        ></iframe>\n",
       "        "
      ],
      "text/plain": [
       "<IPython.lib.display.YouTubeVideo at 0x7fb064df47b8>"
      ]
     },
     "execution_count": 57,
     "metadata": {},
     "output_type": "execute_result"
    }
   ],
   "source": [
    "YouTubeVideo('D2tSoGqhtx0', width=640, height=480)"
   ]
  },
  {
   "cell_type": "markdown",
   "metadata": {},
   "source": [
    "The figure below shows a free body diagram of a compound pendulum. In our case the wheel is the rigid body and the revolute joint is the fulcrum.\n",
    "\n",
    "<img src=\"fig/03/bicycle-wheel-axial-inertia-measurement-fbd.png\" \\>"
   ]
  },
  {
   "cell_type": "markdown",
   "metadata": {},
   "source": [
    "The data from the measurement of the same full sized bicycle wheel from the previous analysis can be loaded with:"
   ]
  },
  {
   "cell_type": "code",
   "execution_count": 58,
   "metadata": {
    "collapsed": true
   },
   "outputs": [],
   "source": [
    "axial_gyro_meas = pd.read_csv('data/03/bicycle-wheel-axial-inertia-rate-gyro-measurement.csv',\n",
    "                              index_col='time')"
   ]
  },
  {
   "cell_type": "code",
   "execution_count": 59,
   "metadata": {},
   "outputs": [
    {
     "data": {
      "text/html": [
       "<div>\n",
       "<style>\n",
       "    .dataframe thead tr:only-child th {\n",
       "        text-align: right;\n",
       "    }\n",
       "\n",
       "    .dataframe thead th {\n",
       "        text-align: left;\n",
       "    }\n",
       "\n",
       "    .dataframe tbody tr th {\n",
       "        vertical-align: top;\n",
       "    }\n",
       "</style>\n",
       "<table border=\"1\" class=\"dataframe\">\n",
       "  <thead>\n",
       "    <tr style=\"text-align: right;\">\n",
       "      <th></th>\n",
       "      <th>angular_velocity</th>\n",
       "    </tr>\n",
       "    <tr>\n",
       "      <th>time</th>\n",
       "      <th></th>\n",
       "    </tr>\n",
       "  </thead>\n",
       "  <tbody>\n",
       "    <tr>\n",
       "      <th>0.000</th>\n",
       "      <td>0.641871</td>\n",
       "    </tr>\n",
       "    <tr>\n",
       "      <th>0.002</th>\n",
       "      <td>0.632117</td>\n",
       "    </tr>\n",
       "    <tr>\n",
       "      <th>0.004</th>\n",
       "      <td>0.616626</td>\n",
       "    </tr>\n",
       "    <tr>\n",
       "      <th>0.006</th>\n",
       "      <td>0.618921</td>\n",
       "    </tr>\n",
       "    <tr>\n",
       "      <th>0.008</th>\n",
       "      <td>0.613757</td>\n",
       "    </tr>\n",
       "  </tbody>\n",
       "</table>\n",
       "</div>"
      ],
      "text/plain": [
       "       angular_velocity\n",
       "time                   \n",
       "0.000          0.641871\n",
       "0.002          0.632117\n",
       "0.004          0.616626\n",
       "0.006          0.618921\n",
       "0.008          0.613757"
      ]
     },
     "execution_count": 59,
     "metadata": {},
     "output_type": "execute_result"
    }
   ],
   "source": [
    "axial_gyro_meas.head()"
   ]
  },
  {
   "cell_type": "code",
   "execution_count": 60,
   "metadata": {},
   "outputs": [
    {
     "data": {
      "image/png": "[encoded data removed]",
      "text/plain": [
       "<matplotlib.figure.Figure at 0x7fb0ba0bf048>"
      ]
     },
     "metadata": {},
     "output_type": "display_data"
    }
   ],
   "source": [
    "axial_gyro_meas.plot(style='.');"
   ]
  },
  {
   "cell_type": "markdown",
   "metadata": {},
   "source": [
    "Note that this measurement has much less damping than the torsional pendulum. ONce again our goal is to determine what the moment of the inertia of the bicycle wheel is. We can use a `CompoundPedulumSystem` to simulate this motion:"
   ]
  },
  {
   "cell_type": "code",
   "execution_count": 61,
   "metadata": {
    "collapsed": true
   },
   "outputs": [],
   "source": [
    "from resonance.linear_systems import CompoundPendulumSystem"
   ]
  },
  {
   "cell_type": "code",
   "execution_count": 62,
   "metadata": {
    "collapsed": true
   },
   "outputs": [],
   "source": [
    "cpend_sys = CompoundPendulumSystem()"
   ]
  },
  {
   "cell_type": "markdown",
   "metadata": {},
   "source": [
    "The mass and radius of the wheel is the same as above. You can estimate the moment of inertia about the axle as:\n",
    "\n",
    "$$ I = m r^2 $$\n",
    "\n",
    "But the inertia about the joint has to be computed using the parallel axis theorem.\n",
    "\n",
    "**Exercise**\n",
    "\n",
    "Using the parallel axis thereom, compute an estimate of the inertia about the joint if the distance from the axle to the joint is 0.296 meters. Store both results in variables named `inertia_about_axle` and `inertia_about_joint`.\n",
    "\n",
    "https://en.wikipedia.org/wiki/Parallel_axis_theorem"
   ]
  },
  {
   "cell_type": "code",
   "execution_count": 63,
   "metadata": {},
   "outputs": [
    {
     "data": {
      "text/plain": [
       "0.17498880000000003"
      ]
     },
     "execution_count": 63,
     "metadata": {},
     "output_type": "execute_result"
    }
   ],
   "source": [
    "mass = 1.55  # kg\n",
    "radius = 0.336  # m\n",
    "inertia_about_axle = mass * radius**2\n",
    "inertia_about_axle"
   ]
  },
  {
   "cell_type": "code",
   "execution_count": 64,
   "metadata": {},
   "outputs": [
    {
     "data": {
      "text/plain": [
       "0.3107936"
      ]
     },
     "execution_count": 64,
     "metadata": {},
     "output_type": "execute_result"
    }
   ],
   "source": [
    "inertia_about_joint = inertia_about_axle + mass * 0.296**2\n",
    "inertia_about_joint"
   ]
  },
  {
   "cell_type": "markdown",
   "metadata": {},
   "source": [
    "Now simulate the pendulum with an initial angular velocity that is the same as measurement and see how well they match."
   ]
  },
  {
   "cell_type": "code",
   "execution_count": 65,
   "metadata": {},
   "outputs": [
    {
     "data": {
      "text/plain": [
       "{'acc_due_to_gravity': 0.0,\n",
       " 'inertia_about_joint': 0.0,\n",
       " 'joint_to_mass_center': 0.0,\n",
       " 'pendulum_mass': 0.0}"
      ]
     },
     "execution_count": 65,
     "metadata": {},
     "output_type": "execute_result"
    }
   ],
   "source": [
    "cpend_sys.constants"
   ]
  },
  {
   "cell_type": "code",
   "execution_count": 66,
   "metadata": {
    "collapsed": true
   },
   "outputs": [],
   "source": [
    "cpend_sys.constants['acc_due_to_gravity'] = 9.81  # m/**2\n",
    "cpend_sys.constants['inertia_about_joint'] = inertia_about_joint  # kg m**2\n",
    "cpend_sys.constants['joint_to_mass_center'] = 0.296  # m\n",
    "cpend_sys.constants['pendulum_mass'] = mass  # kg"
   ]
  },
  {
   "cell_type": "code",
   "execution_count": 67,
   "metadata": {
    "collapsed": true
   },
   "outputs": [],
   "source": [
    "cpend_sys.speeds['angle_vel'] = axial_gyro_meas.loc[0.0]['angular_velocity']"
   ]
  },
  {
   "cell_type": "code",
   "execution_count": 68,
   "metadata": {
    "collapsed": true
   },
   "outputs": [],
   "source": [
    "trajectory = cpend_sys.free_response(5)"
   ]
  },
  {
   "cell_type": "code",
   "execution_count": 69,
   "metadata": {},
   "outputs": [
    {
     "data": {
      "image/png": "[encoded data removed]",
      "text/plain": [
       "<matplotlib.figure.Figure at 0x7fb0ba12c7f0>"
      ]
     },
     "metadata": {},
     "output_type": "display_data"
    }
   ],
   "source": [
    "fig, ax = plt.subplots(1, 1)\n",
    "ax.plot(axial_gyro_meas.index, axial_gyro_meas, '.')\n",
    "line = ax.plot(trajectory.index, trajectory['angle_vel'])\n",
    "def plot(inertia=0.5):\n",
    "    cpend_sys.constants['inertia_about_joint'] = inertia\n",
    "    traj = cpend_sys.free_response(5)\n",
    "    line[0].set_data(traj.index, traj['angle_vel'])"
   ]
  },
  {
   "cell_type": "code",
   "execution_count": 70,
   "metadata": {},
   "outputs": [],
   "source": [
    "interact(plot, inertia=(0.0, 1.0, 0.001));"
   ]
  },
  {
   "cell_type": "markdown",
   "metadata": {},
   "source": [
    "Use your `decaying_sinusoid` function to find a best fit for this data."
   ]
  },
  {
   "cell_type": "code",
   "execution_count": 71,
   "metadata": {
    "collapsed": true
   },
   "outputs": [],
   "source": [
    "popt, pcov = curve_fit(decaying_sinusoid,\n",
    "                       axial_gyro_meas.index,\n",
    "                       axial_gyro_meas.angular_velocity,\n",
    "                       p0=(0.6, -0.0002, 1.0 / 0.44 * np.pi * 2))"
   ]
  },
  {
   "cell_type": "code",
   "execution_count": 72,
   "metadata": {},
   "outputs": [
    {
     "data": {
      "text/plain": [
       "array([ 0.66570798, -0.02310175,  4.39126144])"
      ]
     },
     "execution_count": 72,
     "metadata": {},
     "output_type": "execute_result"
    }
   ],
   "source": [
    "popt"
   ]
  },
  {
   "cell_type": "code",
   "execution_count": 73,
   "metadata": {},
   "outputs": [
    {
     "data": {
      "image/png": "[encoded data removed]",
      "text/plain": [
       "<matplotlib.figure.Figure at 0x7fb05ec3ce10>"
      ]
     },
     "metadata": {},
     "output_type": "display_data"
    }
   ],
   "source": [
    "ax = axial_gyro_meas.plot(style='.')\n",
    "ax.plot(axial_gyro_meas.index, decaying_sinusoid(axial_gyro_meas.index, *popt));"
   ]
  },
  {
   "cell_type": "code",
   "execution_count": 74,
   "metadata": {},
   "outputs": [
    {
     "data": {
      "text/plain": [
       "1.430838358947675"
      ]
     },
     "execution_count": 74,
     "metadata": {},
     "output_type": "execute_result"
    }
   ],
   "source": [
    "freq2period(popt[2])"
   ]
  },
  {
   "cell_type": "markdown",
   "metadata": {},
   "source": [
    "Finally, using the period of oscialltion, $T$, from the data above, you can compute the inertia about the joint using the `CompoundPendulumSystem` or this relationship:\n",
    "\n",
    "$$ I_o = T^2 \\frac{mgl}{4\\pi^2} $$"
   ]
  },
  {
   "cell_type": "code",
   "execution_count": 75,
   "metadata": {},
   "outputs": [
    {
     "data": {
      "text/plain": [
       "0.23340697435979041"
      ]
     },
     "execution_count": 75,
     "metadata": {},
     "output_type": "execute_result"
    }
   ],
   "source": [
    "actual_inertia_about_joint = freq2period(popt[2])**2 / 4/ np.pi**2 * mass * 9.81 * 0.296\n",
    "actual_inertia_about_joint"
   ]
  },
  {
   "cell_type": "markdown",
   "metadata": {},
   "source": [
    "**Exercise**\n",
    "\n",
    "Use the parallel axis thereom to find the moment of inertia about the axle."
   ]
  },
  {
   "cell_type": "code",
   "execution_count": 76,
   "metadata": {},
   "outputs": [
    {
     "data": {
      "text/plain": [
       "0.097602174359790433"
      ]
     },
     "execution_count": 76,
     "metadata": {},
     "output_type": "execute_result"
    }
   ],
   "source": [
    "actual_inertia_about_axle = actual_inertia_about_joint - mass * 0.296**2\n",
    "actual_inertia_about_axle"
   ]
  },
  {
   "cell_type": "markdown",
   "metadata": {},
   "source": [
    "# Center of Percussion\n",
    "\n",
    "The [center of percussion](https://en.wikipedia.org/wiki/Center_of_percussion) of a compound pendulum is described as the location on the pendulum that corrsponds to the length of a simple pendulum of the same mass which has the same frequency of oscillation. The following video demonstrates the principle:"
   ]
  },
  {
   "cell_type": "code",
   "execution_count": 77,
   "metadata": {},
   "outputs": [
    {
     "data": {
      "image/jpeg": "[encoded data removed]",
      "text/html": [
       "\n",
       "        <iframe\n",
       "            width=\"640\"\n",
       "            height=\"480\"\n",
       "            src=\"https://www.youtube.com/embed/Dw3UpKQVhVY\"\n",
       "            frameborder=\"0\"\n",
       "            allowfullscreen\n",
       "        ></iframe>\n",
       "        "
      ],
      "text/plain": [
       "<IPython.lib.display.YouTubeVideo at 0x7fb05eccef60>"
      ]
     },
     "execution_count": 77,
     "metadata": {},
     "output_type": "execute_result"
    }
   ],
   "source": [
    "YouTubeVideo('Dw3UpKQVhVY', width=640, height=480)"
   ]
  },
  {
   "cell_type": "markdown",
   "metadata": {},
   "source": [
    " Using a `SimplePendulumSystem` we can simulate it alongside the compound pendulum to determine the center of percussion."
   ]
  },
  {
   "cell_type": "code",
   "execution_count": 78,
   "metadata": {
    "collapsed": true
   },
   "outputs": [],
   "source": [
    "from resonance.linear_systems import SimplePendulumSystem\n",
    "spend_sys = SimplePendulumSystem()"
   ]
  },
  {
   "cell_type": "code",
   "execution_count": 79,
   "metadata": {},
   "outputs": [
    {
     "data": {
      "text/plain": [
       "{'acc_due_to_gravity': 0.0, 'pendulum_length': 0.0, 'pendulum_mass': 0.0}"
      ]
     },
     "execution_count": 79,
     "metadata": {},
     "output_type": "execute_result"
    }
   ],
   "source": [
    "spend_sys.constants"
   ]
  },
  {
   "cell_type": "code",
   "execution_count": 80,
   "metadata": {
    "collapsed": true
   },
   "outputs": [],
   "source": [
    "spend_sys.constants['acc_due_to_gravity'] = 9.81\n",
    "spend_sys.constants['pendulum_mass'] = 1.55\n",
    "spend_sys.constants['pendulum_length'] = 0.3\n",
    "spend_sys.speeds['angle_vel'] = axial_gyro_meas.loc[0.0]['angular_velocity']"
   ]
  },
  {
   "cell_type": "code",
   "execution_count": 81,
   "metadata": {
    "collapsed": true
   },
   "outputs": [],
   "source": [
    "spend_traj = spend_sys.free_response(5)"
   ]
  },
  {
   "cell_type": "code",
   "execution_count": 82,
   "metadata": {
    "collapsed": true
   },
   "outputs": [],
   "source": [
    "cpend_sys.constants['inertia_about_joint'] = actual_inertia_about_joint\n",
    "cpend_traj = cpend_sys.free_response(5)"
   ]
  },
  {
   "cell_type": "code",
   "execution_count": 83,
   "metadata": {},
   "outputs": [
    {
     "data": {
      "image/png": "[encoded data removed]",
      "text/plain": [
       "<matplotlib.figure.Figure at 0x7fb05ec08518>"
      ]
     },
     "metadata": {},
     "output_type": "display_data"
    }
   ],
   "source": [
    "fig, ax = plt.subplots(1, 1)\n",
    "ax.plot(cpend_traj.index, cpend_traj.angle)\n",
    "line = ax.plot(spend_traj.index, spend_traj.angle)\n",
    "def plot(pend_length=0.3):\n",
    "    spend_sys.constants['pendulum_length'] = pend_length\n",
    "    spend_traj = spend_sys.free_response(5)\n",
    "    line[0].set_data(spend_traj.index, spend_traj.angle)\n",
    "plot()"
   ]
  },
  {
   "cell_type": "code",
   "execution_count": 84,
   "metadata": {},
   "outputs": [],
   "source": [
    "interact(plot, pend_length=(0, 1.0, 0.01));"
   ]
  },
  {
   "cell_type": "markdown",
   "metadata": {},
   "source": [
    "# More on center of percussion\n",
    "\n",
    "The baseball bat: https://physics.csuchico.edu/baseball/DrBaseball/SweetSpot/"
   ]
  }
 ],
 "metadata": {
  "kernelspec": {
   "display_name": "Python 3",
   "language": "python",
   "name": "python3"
  },
  "language_info": {
   "codemirror_mode": {
    "name": "ipython",
    "version": 3
   },
   "file_extension": ".py",
   "mimetype": "text/x-python",
   "name": "python",
   "nbconvert_exporter": "python",
   "pygments_lexer": "ipython3",
   "version": "3.6.2"
  }
 },
 "nbformat": 4,
 "nbformat_minor": 2
}
