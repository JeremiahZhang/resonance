{
 "cells": [
  {
   "cell_type": "markdown",
   "metadata": {},
   "source": [
    "# 9 Modeling a Washing Machine Vibration"
   ]
  },
  {
   "cell_type": "markdown",
   "metadata": {},
   "source": [
    "As an example we will study a model of washing machine vibrating. A washing machine typically has a structure that sits on the ground, usually on padded feet that provide some damping and then there is a drum that spins relative to the machine's main housing structure. Inside the drum, clothes can end up clumped in ways that cause the mass center of the contents of the drum to lie somewhere other than the spin axis. See this video for an example of what can happen:"
   ]
  },
  {
   "cell_type": "code",
   "execution_count": 1,
   "metadata": {},
   "outputs": [
    {
     "data": {
      "image/jpeg": "[encoded data removed]",
      "text/html": [
       "\n",
       "        <iframe\n",
       "            width=\"400\"\n",
       "            height=\"300\"\n",
       "            src=\"https://www.youtube.com/embed/JqdAKPzdHDo\"\n",
       "            frameborder=\"0\"\n",
       "            allowfullscreen\n",
       "        ></iframe>\n",
       "        "
      ],
      "text/plain": [
       "<IPython.lib.display.YouTubeVideo at 0x7fa84c9c0a90>"
      ]
     },
     "execution_count": 1,
     "metadata": {},
     "output_type": "execute_result"
    }
   ],
   "source": [
    "from IPython.display import YouTubeVideo\n",
    "YouTubeVideo('JqdAKPzdHDo')"
   ]
  },
  {
   "cell_type": "markdown",
   "metadata": {},
   "source": [
    "## Process for using Lagrange's method for forming equations of planar\n",
    "\n",
    "1. Decide on assumptions and simplifications that you should make about the real system. It's generally best to start with the simplest model possible and increase complexity if needed.\n",
    "2. Draw a free body diagram to help visualize the system and all forces acting on it.\n",
    "3. Pick generalized coordinates. These should be a minimal description to fully describe the configuration. (i.e. for a simple pendulum use the angle as the coordinate instead of the x and y position of the mass)\n",
    "4. Write out the expressions for kinetic energy, potential energy, and dissipative energy.\n",
    "5. Form the magnitudes of the velocities for each particle, magnitudes of velocities of each rigid body mass center, and the magnitude of the angular velocities of the rigid bodies.\n",
    "6. Form the Lagrangian.\n",
    "7. Form Lagrange's equation of the second kind.\n",
    "\n",
    "For nonlinear analysis:\n",
    "\n",
    "1. Introduce variables for generalized speeds and put nonlinear equations in first order form.\n",
    "\n",
    "For linear analysis:\n",
    "\n",
    "1. Determine the equilibrium point (set velocities and accelerations to zero and solve for generalized coordinates).\n",
    "2. Linearize the nonlinear equations about the equilibrium point by either assuming small angles or calculating the first two terms of a Taylor series expansion.\n",
    "3. Extract the mass, damping, and stiffness coefficients and the forcing vector.\n",
    "\n",
    "## Lagrange's Equation of the Second Kind\n",
    "\n",
    "$$\\frac{d}{dt}\\left(\\frac{\\partial L}{\\partial \\dot{q}_i}\\right) - \\frac{\\partial L}{\\partial q_i} = Q_i \\quad \\textrm{ for } i = 1, \\ldots, n$$\n",
    "\n",
    "- $n$: number of generalized coordinates\n",
    "- $q_i$: ith generalized coordinate\n",
    "- $\\dot{q}_i$: time derivative of the ith generalized coordinate\n",
    "- $L$: Lagrangian, $L = T - U$\n",
    "- $T$: Kinetic energy of the system (sum of the translational energies of each particle and translational/rotational energies of each rigid body)\n",
    "- $U$: Potential energy of the system (sum of potentials due to gravity, springs, etc)\n",
    "- $Q$: Non-conservative generalized forces\n",
    "    - For viscous damping elements in a system $Q_i = -\\frac{\\partial R}{\\partial \\dot{q}_i}$, where $R = \\frac{1}{2}\\sum_{j=1}^n c_j v_j^2$\n",
    "    \n",
    "## Extra resources\n",
    "\n",
    "- Free book chapters on modeling mechanical systems and Lagrange's equations: http://moodle.autolab.uni-pannon.hu/Mecha_tananyag/mechatronikai_modellezes_angol/ch11.html\n",
    "- Wikipedia article on Lagrangian mechanics: https://en.wikipedia.org/wiki/Lagrangian_mechanics\n",
    "- MIT Opencourseware lecture notes on Lagrangian mechanics: https://ocw.mit.edu/courses/aeronautics-and-astronautics/16-07-dynamics-fall-2009/lecture-notes/MIT16_07F09_Lec20.pdf"
   ]
  },
  {
   "cell_type": "markdown",
   "metadata": {},
   "source": [
    "# Imports and code setup"
   ]
  },
  {
   "cell_type": "code",
   "execution_count": 2,
   "metadata": {},
   "outputs": [],
   "source": [
    "import sympy as sm"
   ]
  },
  {
   "cell_type": "markdown",
   "metadata": {},
   "source": [
    "Here is a hack that will let $\\frac{d y}{dt}$ appear as $\\dot{y}$."
   ]
  },
  {
   "cell_type": "code",
   "execution_count": 3,
   "metadata": {},
   "outputs": [],
   "source": [
    "from sympy.printing.latex import LatexPrinter\n",
    "\n",
    "class TimeDerivativePrinter(LatexPrinter):\n",
    "    def _print_Derivative(self, expr):\n",
    "        dim = len(expr.variables)\n",
    "        t = sm.Symbol('t')\n",
    "        if dim == 1 and expr.variables == (t,):\n",
    "            return r\"\\dot{{{}}}\".format(self._print(expr.args[0]))\n",
    "        elif dim == 2 and expr.variables == (t, t): \n",
    "            return r\"\\ddot{{{}}}\".format(self._print(expr.args[0]))\n",
    "        else:\n",
    "            return self._print(expr)\n",
    "        \n",
    "def latex(expr, **settings):\n",
    "    return TimeDerivativePrinter(settings).doprint(expr)"
   ]
  },
  {
   "cell_type": "code",
   "execution_count": 4,
   "metadata": {},
   "outputs": [],
   "source": [
    "sm.init_printing(latex_printer=latex)"
   ]
  },
  {
   "cell_type": "markdown",
   "metadata": {},
   "source": [
    "# Modeling\n",
    "\n",
    "I want to make the model (at least the first one) to be as simple as I can such that we can try to show the vibrations. Here are some assumptions:\n",
    "\n",
    "- The washing can only move up and down relative to the ground.\n",
    "- The \"connection\" of the washing machine to the ground may behave like a linear spring and damper.\n",
    "- The washing machine can't leave the floor.\n",
    "- The clothes can be represented by a point mass for now, just to cause the drum to be off balanced.\n",
    "\n",
    "With those in mind, here is a basic free body diagram of the system:\n",
    "\n",
    "![](fig/08/washing-machine-01.png)"
   ]
  },
  {
   "cell_type": "markdown",
   "metadata": {},
   "source": [
    "# Define the constants"
   ]
  },
  {
   "cell_type": "code",
   "execution_count": 5,
   "metadata": {},
   "outputs": [],
   "source": [
    "mw, mc, md, Icd, k, c, e, w, g, y0 = sm.symbols('m_w, m_c, m_d, I_cd, k, c, e, omega, g, y_0')"
   ]
  },
  {
   "cell_type": "markdown",
   "metadata": {},
   "source": [
    "# Define the generalized coordinates\n",
    "\n",
    "All generalized coordinates should be functions of time."
   ]
  },
  {
   "cell_type": "code",
   "execution_count": 6,
   "metadata": {},
   "outputs": [],
   "source": [
    "t = sm.symbols('t')"
   ]
  },
  {
   "cell_type": "code",
   "execution_count": 7,
   "metadata": {},
   "outputs": [],
   "source": [
    "y = sm.Function('y')(t)"
   ]
  },
  {
   "cell_type": "code",
   "execution_count": 8,
   "metadata": {},
   "outputs": [
    {
     "data": {
      "image/png": "[encoded data removed]",
      "text/latex": [
       "$$y{\\left (t \\right )}$$"
      ],
      "text/plain": [
       "y(t)"
      ]
     },
     "execution_count": 8,
     "metadata": {},
     "output_type": "execute_result"
    }
   ],
   "source": [
    "y"
   ]
  },
  {
   "cell_type": "code",
   "execution_count": 9,
   "metadata": {},
   "outputs": [
    {
     "data": {
      "image/png": "[encoded data removed]",
      "text/latex": [
       "$$\\dot{y{\\left (t \\right )}}$$"
      ],
      "text/plain": [
       "d       \n",
       "──(y(t))\n",
       "dt      "
      ]
     },
     "execution_count": 9,
     "metadata": {},
     "output_type": "execute_result"
    }
   ],
   "source": [
    "y.diff(t)"
   ]
  },
  {
   "cell_type": "code",
   "execution_count": 10,
   "metadata": {},
   "outputs": [
    {
     "data": {
      "image/png": "[encoded data removed]",
      "text/latex": [
       "$$\\ddot{y{\\left (t \\right )}}$$"
      ],
      "text/plain": [
       "  2      \n",
       " d       \n",
       "───(y(t))\n",
       "  2      \n",
       "dt       "
      ]
     },
     "execution_count": 10,
     "metadata": {},
     "output_type": "execute_result"
    }
   ],
   "source": [
    "y.diff(t, 2)"
   ]
  },
  {
   "cell_type": "markdown",
   "metadata": {},
   "source": [
    "# Form the total kinetic energy of the system"
   ]
  },
  {
   "cell_type": "code",
   "execution_count": 11,
   "metadata": {},
   "outputs": [
    {
     "data": {
      "image/png": "[encoded data removed]",
      "text/latex": [
       "$$\\frac{I_{cd} \\omega^{2}}{2} + \\frac{m_{c}}{2} \\left(e^{2} \\omega^{2} \\sin^{2}{\\left (\\omega t \\right )} + \\left(e \\omega \\cos{\\left (\\omega t \\right )} + \\dot{y{\\left (t \\right )}}\\right)^{2}\\right) + \\frac{m_{d}}{2} \\left(\\dot{y{\\left (t \\right )}}\\right)^{2} + \\frac{m_{w}}{2} \\left(\\dot{y{\\left (t \\right )}}\\right)^{2}$$"
      ],
      "text/plain": [
       "              ⎛                                           2⎞                 2\n",
       "              ⎜ 2  2    2        ⎛               d       ⎞ ⎟       ⎛d       ⎞ \n",
       "      2   m_c⋅⎜e ⋅ω ⋅sin (ω⋅t) + ⎜e⋅ω⋅cos(ω⋅t) + ──(y(t))⎟ ⎟   m_d⋅⎜──(y(t))⎟ \n",
       "I_cd⋅ω        ⎝                  ⎝               dt      ⎠ ⎠       ⎝dt      ⎠ \n",
       "─────── + ────────────────────────────────────────────────── + ───────────────\n",
       "   2                              2                                   2       \n",
       "\n",
       "                 2\n",
       "       ⎛d       ⎞ \n",
       "   m_w⋅⎜──(y(t))⎟ \n",
       "       ⎝dt      ⎠ \n",
       " + ───────────────\n",
       "          2       "
      ]
     },
     "execution_count": 11,
     "metadata": {},
     "output_type": "execute_result"
    }
   ],
   "source": [
    "T = (mw * y.diff()**2 / 2 +  # vertical motion of washing machine\n",
    "     md * y.diff()**2 / 2 +  # vertical motion of the drum\n",
    "     Icd * w**2 / 2 +  # rotation of the drum\n",
    "     mc * ((y.diff() + w * e * sm.cos(w * t))**2 + (w * e * sm.sin(w * t))**2) / 2)  # motion of the clothes mass center\n",
    "T"
   ]
  },
  {
   "cell_type": "markdown",
   "metadata": {},
   "source": [
    "# Form the total potential energy of the system"
   ]
  },
  {
   "cell_type": "code",
   "execution_count": 12,
   "metadata": {},
   "outputs": [
    {
     "data": {
      "image/png": "[encoded data removed]",
      "text/latex": [
       "$$g m_{c} \\left(e \\sin{\\left (\\omega t \\right )} + y{\\left (t \\right )}\\right) + g m_{d} y{\\left (t \\right )} + g m_{w} y{\\left (t \\right )} + \\frac{k}{2} \\left(- y_{0} + y{\\left (t \\right )}\\right)^{2}$$"
      ],
      "text/plain": [
       "                                                                    2\n",
       "                                                      k⋅(-y₀ + y(t)) \n",
       "g⋅m_c⋅(e⋅sin(ω⋅t) + y(t)) + g⋅m_d⋅y(t) + g⋅m_w⋅y(t) + ───────────────\n",
       "                                                             2       "
      ]
     },
     "execution_count": 12,
     "metadata": {},
     "output_type": "execute_result"
    }
   ],
   "source": [
    "U = (mw * g * y +  # due to raising height of washing machine\n",
    "     md * g * y +  # due to raising height of drum\n",
    "     mc * g * (y + e * sm.sin(w * t)) +   # due to raising height of clothes\n",
    "     k * (y - y0)**2 / 2)  # due to stretch away from free length of spring\n",
    "U"
   ]
  },
  {
   "cell_type": "markdown",
   "metadata": {},
   "source": [
    "# Form the total dissipative energy of the system"
   ]
  },
  {
   "cell_type": "code",
   "execution_count": 13,
   "metadata": {},
   "outputs": [
    {
     "data": {
      "image/png": "[encoded data removed]",
      "text/latex": [
       "$$\\frac{c}{2} \\left(\\dot{y{\\left (t \\right )}}\\right)^{2}$$"
      ],
      "text/plain": [
       "            2\n",
       "  ⎛d       ⎞ \n",
       "c⋅⎜──(y(t))⎟ \n",
       "  ⎝dt      ⎠ \n",
       "─────────────\n",
       "      2      "
      ]
     },
     "execution_count": 13,
     "metadata": {},
     "output_type": "execute_result"
    }
   ],
   "source": [
    "R = c * y.diff()**2 / 2  # due to dashpot\n",
    "R"
   ]
  },
  {
   "cell_type": "markdown",
   "metadata": {},
   "source": [
    "# Form the Lagrangian"
   ]
  },
  {
   "cell_type": "code",
   "execution_count": 14,
   "metadata": {},
   "outputs": [
    {
     "data": {
      "image/png": "[encoded data removed]",
      "text/latex": [
       "$$\\frac{I_{cd} \\omega^{2}}{2} - g m_{c} \\left(e \\sin{\\left (\\omega t \\right )} + y{\\left (t \\right )}\\right) - g m_{d} y{\\left (t \\right )} - g m_{w} y{\\left (t \\right )} - \\frac{k}{2} \\left(- y_{0} + y{\\left (t \\right )}\\right)^{2} + \\frac{m_{c}}{2} \\left(e^{2} \\omega^{2} \\sin^{2}{\\left (\\omega t \\right )} + \\left(e \\omega \\cos{\\left (\\omega t \\right )} + \\dot{y{\\left (t \\right )}}\\right)^{2}\\right) + \\frac{m_{d}}{2} \\left(\\dot{y{\\left (t \\right )}}\\right)^{2} + \\frac{m_{w}}{2} \\left(\\dot{y{\\left (t \\right )}}\\right)^{2}$$"
      ],
      "text/plain": [
       "                                                                              \n",
       "                                                                              \n",
       "      2                                                                       \n",
       "I_cd⋅ω                                                          k⋅(-y₀ + y(t))\n",
       "─────── - g⋅m_c⋅(e⋅sin(ω⋅t) + y(t)) - g⋅m_d⋅y(t) - g⋅m_w⋅y(t) - ──────────────\n",
       "   2                                                                   2      \n",
       "\n",
       "        ⎛                                           2⎞                 2      \n",
       "        ⎜ 2  2    2        ⎛               d       ⎞ ⎟       ⎛d       ⎞       \n",
       "2   m_c⋅⎜e ⋅ω ⋅sin (ω⋅t) + ⎜e⋅ω⋅cos(ω⋅t) + ──(y(t))⎟ ⎟   m_d⋅⎜──(y(t))⎟    m_w\n",
       "        ⎝                  ⎝               dt      ⎠ ⎠       ⎝dt      ⎠       \n",
       "─ + ────────────────────────────────────────────────── + ─────────────── + ───\n",
       "                            2                                   2             \n",
       "\n",
       "           2\n",
       " ⎛d       ⎞ \n",
       "⋅⎜──(y(t))⎟ \n",
       " ⎝dt      ⎠ \n",
       "────────────\n",
       "    2       "
      ]
     },
     "execution_count": 14,
     "metadata": {},
     "output_type": "execute_result"
    }
   ],
   "source": [
    "L = T - U\n",
    "L"
   ]
  },
  {
   "cell_type": "markdown",
   "metadata": {},
   "source": [
    "## Form Lagrange's Equation of the Second Kind\n",
    "\n",
    "There is only one generalized coordinate, $y$, so there will be one equation of motion for this single degree of freedom system.\n",
    "\n",
    "\n",
    "$$f(y, \\dot{y}, \\ddot{y}) = \\frac{d}{dt}\\left(\\frac{\\partial L}{\\partial \\dot{y}}\\right) - \\frac{\\partial L}{\\partial y} + \\frac{\\partial R}{\\partial\\dot{y}} = 0$$"
   ]
  },
  {
   "cell_type": "code",
   "execution_count": 15,
   "metadata": {},
   "outputs": [
    {
     "data": {
      "image/png": "[encoded data removed]",
      "text/latex": [
       "$$c \\dot{y{\\left (t \\right )}} + g m_{c} + g m_{d} + g m_{w} + \\frac{k}{2} \\left(- 2 y_{0} + 2 y{\\left (t \\right )}\\right) + \\frac{m_{c}}{2} \\left(- 2 e \\omega^{2} \\sin{\\left (\\omega t \\right )} + 2 \\ddot{y{\\left (t \\right )}}\\right) + m_{d} \\ddot{y{\\left (t \\right )}} + m_{w} \\ddot{y{\\left (t \\right )}}$$"
      ],
      "text/plain": [
       "                                                              ⎛               \n",
       "                                                              ⎜       2       \n",
       "                                                          m_c⋅⎜- 2⋅e⋅ω ⋅sin(ω⋅\n",
       "                                                              ⎜               \n",
       "  d                                  k⋅(-2⋅y₀ + 2⋅y(t))       ⎝               \n",
       "c⋅──(y(t)) + g⋅m_c + g⋅m_d + g⋅m_w + ────────────────── + ────────────────────\n",
       "  dt                                         2                              2 \n",
       "                                                                              \n",
       "\n",
       "         2      ⎞                                \n",
       "        d       ⎟                                \n",
       "t) + 2⋅───(y(t))⎟                                \n",
       "         2      ⎟         2               2      \n",
       "       dt       ⎠        d               d       \n",
       "───────────────── + m_d⋅───(y(t)) + m_w⋅───(y(t))\n",
       "                          2               2      \n",
       "                        dt              dt       "
      ]
     },
     "execution_count": 15,
     "metadata": {},
     "output_type": "execute_result"
    }
   ],
   "source": [
    "f = L.diff(y.diff()).diff(t) - L.diff(y) + R.diff(y.diff())\n",
    "f"
   ]
  },
  {
   "cell_type": "markdown",
   "metadata": {},
   "source": [
    "`.expand()` and `.collect()` can be used to show the equation in terms of each $y$ term."
   ]
  },
  {
   "cell_type": "code",
   "execution_count": 16,
   "metadata": {},
   "outputs": [
    {
     "data": {
      "image/png": "[encoded data removed]",
      "text/latex": [
       "$$c \\dot{y{\\left (t \\right )}} - e m_{c} \\omega^{2} \\sin{\\left (\\omega t \\right )} + g m_{c} + g m_{d} + g m_{w} - k y_{0} + k y{\\left (t \\right )} + \\left(m_{c} + m_{d} + m_{w}\\right) \\ddot{y{\\left (t \\right )}}$$"
      ],
      "text/plain": [
       "                                                                              \n",
       "  d                 2                                                         \n",
       "c⋅──(y(t)) - e⋅m_c⋅ω ⋅sin(ω⋅t) + g⋅m_c + g⋅m_d + g⋅m_w - k⋅y₀ + k⋅y(t) + (m_c \n",
       "  dt                                                                          \n",
       "                                                                              \n",
       "\n",
       "               2      \n",
       "              d       \n",
       "+ m_d + m_w)⋅───(y(t))\n",
       "               2      \n",
       "             dt       "
      ]
     },
     "execution_count": 16,
     "metadata": {},
     "output_type": "execute_result"
    }
   ],
   "source": [
    "f = f.expand().collect((y, y.diff(), y.diff(t, 2)))\n",
    "f"
   ]
  },
  {
   "cell_type": "markdown",
   "metadata": {},
   "source": [
    "Notice that the rotational centroidal inertia of the drum plays no role in the dynamics because it can't affect the vertical motion of the machine. We could have ignored that from the beginning if we made that realization and further simplified the model description. Note also that the left hand side of this equation is linear in $y,\\dot{y},\\ddot{y}$. Lastly, note the constant term $$-m_T g + k y_0$$. This term has to do with the free length and the total weight.\n",
    "\n",
    "$$m_T \\ddot{y} + c \\dot{y} + k y = em_c\\omega^2\\sin(\\omega t) - m_T g + k y_0$$\n",
    "\n",
    "where\n",
    "\n",
    "$$m_T = m_c + m_d + m_w$$"
   ]
  },
  {
   "cell_type": "markdown",
   "metadata": {},
   "source": [
    "# Equilibrium\n",
    "\n",
    "The above equations are valid, but with linear systems, we are typically interested in vibration about the equilibrium. The value of $y$ for equilibrium should be the value of the free length of the spring minus the distance compressed under the static load of the machine, i.e.:\n",
    "\n",
    "$$y_{eq} = y_0 - \\frac{m_T g}{k}$$\n",
    "\n",
    "If you set the velocities and accelerations to zero in the equation of motion, this leaves the static force balance and solve it for the generalized coordinate will give the equilibrium value."
   ]
  },
  {
   "cell_type": "code",
   "execution_count": 17,
   "metadata": {},
   "outputs": [
    {
     "data": {
      "image/png": "[encoded data removed]",
      "text/latex": [
       "$$\\frac{1}{k} \\left(- g m_{c} - g m_{d} - g m_{w} + k y_{0}\\right)$$"
      ],
      "text/plain": [
       "-g⋅m_c - g⋅m_d - g⋅m_w + k⋅y₀\n",
       "─────────────────────────────\n",
       "              k              "
      ]
     },
     "execution_count": 17,
     "metadata": {},
     "output_type": "execute_result"
    }
   ],
   "source": [
    "yeq = sm.solve(f.subs({y.diff(t, 2): 0, y.diff(t): 0, w: 0}), y)[0]  # note that solve returns a list, so [0] is needed\n",
    "yeq"
   ]
  },
  {
   "cell_type": "markdown",
   "metadata": {},
   "source": [
    "Now that we know the value of $y$ the system is at a equilibrium, we can write the equation of motion in terms it's motion with respect to the motion $\\Delta y$ about the equilibrium, i.e. $y = y_{eq} + \\Delta y$."
   ]
  },
  {
   "cell_type": "code",
   "execution_count": 18,
   "metadata": {},
   "outputs": [
    {
     "data": {
      "image/png": "[encoded data removed]",
      "text/latex": [
       "$$\\Delta y{\\left (t \\right )}$$"
      ],
      "text/plain": [
       "\\Delta y(t)"
      ]
     },
     "execution_count": 18,
     "metadata": {},
     "output_type": "execute_result"
    }
   ],
   "source": [
    "dely = sm.Function('\\Delta y')(t)\n",
    "dely"
   ]
  },
  {
   "cell_type": "code",
   "execution_count": 19,
   "metadata": {},
   "outputs": [
    {
     "data": {
      "image/png": "[encoded data removed]",
      "text/latex": [
       "$$c \\dot{\\Delta y{\\left (t \\right )}} - e m_{c} \\omega^{2} \\sin{\\left (\\omega t \\right )} + k \\Delta y{\\left (t \\right )} + \\left(m_{c} + m_{d} + m_{w}\\right) \\ddot{\\Delta y{\\left (t \\right )}}$$"
      ],
      "text/plain": [
       "                                                                            2 \n",
       "  d                        2                                               d  \n",
       "c⋅──(\\Delta y(t)) - e⋅m_c⋅ω ⋅sin(ω⋅t) + k⋅\\Delta y(t) + (m_c + m_d + m_w)⋅───(\n",
       "  dt                                                                        2 \n",
       "                                                                          dt  \n",
       "\n",
       "            \n",
       "            \n",
       "\\Delta y(t))\n",
       "            \n",
       "            "
      ]
     },
     "execution_count": 19,
     "metadata": {},
     "output_type": "execute_result"
    }
   ],
   "source": [
    "f_eq = f.subs({y.diff(t, 2): dely.diff(t, 2)}).subs({y.diff(t): dely.diff(t)}).subs({y: yeq + dely}).simplify()\n",
    "f_eq"
   ]
  },
  {
   "cell_type": "markdown",
   "metadata": {},
   "source": [
    "# Linear equations in canonical form\n",
    "\n",
    "Notice how the gravity related force terms and the need for the spring's free length were eliminated.\n",
    "\n",
    "The equation above also is linear wrt $\\Delta y$, $\\Delta\\dot{y}$, and $\\Delta\\ddot{y}$. The $m$, $c$, and $k$ coefficients can be extracted:"
   ]
  },
  {
   "cell_type": "code",
   "execution_count": 20,
   "metadata": {},
   "outputs": [
    {
     "data": {
      "image/png": "[encoded data removed]",
      "text/latex": [
       "$$m_{c} + m_{d} + m_{w}$$"
      ],
      "text/plain": [
       "m_c + m_d + m_w"
      ]
     },
     "execution_count": 20,
     "metadata": {},
     "output_type": "execute_result"
    }
   ],
   "source": [
    "m_coeff = f_eq.coeff(dely.diff(t, 2))\n",
    "m_coeff"
   ]
  },
  {
   "cell_type": "code",
   "execution_count": 21,
   "metadata": {},
   "outputs": [
    {
     "data": {
      "image/png": "[encoded data removed]",
      "text/latex": [
       "$$c$$"
      ],
      "text/plain": [
       "c"
      ]
     },
     "execution_count": 21,
     "metadata": {},
     "output_type": "execute_result"
    }
   ],
   "source": [
    "c_coeff = f_eq.coeff(dely.diff(t))\n",
    "c_coeff"
   ]
  },
  {
   "cell_type": "code",
   "execution_count": 22,
   "metadata": {},
   "outputs": [
    {
     "data": {
      "image/png": "[encoded data removed]",
      "text/latex": [
       "$$k$$"
      ],
      "text/plain": [
       "k"
      ]
     },
     "execution_count": 22,
     "metadata": {},
     "output_type": "execute_result"
    }
   ],
   "source": [
    "k_coeff = f_eq.coeff(dely)\n",
    "k_coeff"
   ]
  },
  {
   "cell_type": "markdown",
   "metadata": {},
   "source": [
    "The remaining term is the right hand side forcing term:"
   ]
  },
  {
   "cell_type": "code",
   "execution_count": 23,
   "metadata": {},
   "outputs": [
    {
     "data": {
      "image/png": "[encoded data removed]",
      "text/latex": [
       "$$e m_{c} \\omega^{2} \\sin{\\left (\\omega t \\right )}$$"
      ],
      "text/plain": [
       "       2         \n",
       "e⋅m_c⋅ω ⋅sin(ω⋅t)"
      ]
     },
     "execution_count": 23,
     "metadata": {},
     "output_type": "execute_result"
    }
   ],
   "source": [
    "forcing = -(f_eq - m_coeff * dely.diff(t, 2) - c_coeff * dely.diff(t) - k_coeff * dely)\n",
    "forcing"
   ]
  },
  {
   "cell_type": "markdown",
   "metadata": {},
   "source": [
    "Now we have a linear single degree of freedom system with a sinusoidal forcing term that takes this form:\n",
    "\n",
    "$$ m \\Delta\\ddot{y}(t) + c \\Delta\\dot{y}(t) + k \\Delta y(t) = f_0 \\sin(\\omega t) $$"
   ]
  },
  {
   "cell_type": "code",
   "execution_count": 24,
   "metadata": {},
   "outputs": [
    {
     "data": {
      "image/png": "[encoded data removed]",
      "text/latex": [
       "$$c \\dot{\\Delta y{\\left (t \\right )}} + k \\Delta y{\\left (t \\right )} + \\left(m_{c} + m_{d} + m_{w}\\right) \\ddot{\\Delta y{\\left (t \\right )}} = e m_{c} \\omega^{2} \\sin{\\left (\\omega t \\right )}$$"
      ],
      "text/plain": [
       "                                                        2                     \n",
       "  d                                                    d                      \n",
       "c⋅──(\\Delta y(t)) + k⋅\\Delta y(t) + (m_c + m_d + m_w)⋅───(\\Delta y(t)) = e⋅m_c\n",
       "  dt                                                    2                     \n",
       "                                                      dt                      \n",
       "\n",
       "            \n",
       "  2         \n",
       "⋅ω ⋅sin(ω⋅t)\n",
       "            \n",
       "            "
      ]
     },
     "execution_count": 24,
     "metadata": {},
     "output_type": "execute_result"
    }
   ],
   "source": [
    "sm.Eq(m_coeff * dely.diff(t, 2) + c_coeff * dely.diff(t) + k_coeff * dely, forcing)"
   ]
  },
  {
   "cell_type": "markdown",
   "metadata": {},
   "source": [
    "# The free length and equlibrium\n",
    "\n",
    "Notice that the equation of motion of vibration about the equilibrium does not involve the free length or the weight of the machine. If you originally define your origin with respect to the static equilibrium you can write $U$ without the gravity potential energy terms related to the total weight because the energy stored in the compressed spring always equates to the energy gained from raising or lowering the mass. The free body diagram would look more like:\n",
    "\n",
    "![](fig/08/washing-machine-02.png)\n",
    "\n",
    "So the equation of motion can be formed more easily like:"
   ]
  },
  {
   "cell_type": "code",
   "execution_count": 25,
   "metadata": {},
   "outputs": [
    {
     "data": {
      "image/png": "[encoded data removed]",
      "text/latex": [
       "$$e g m_{c} \\sin{\\left (\\omega t \\right )} + \\frac{k}{2} y^{2}{\\left (t \\right )}$$"
      ],
      "text/plain": [
       "                      2   \n",
       "                   k⋅y (t)\n",
       "e⋅g⋅m_c⋅sin(ω⋅t) + ───────\n",
       "                      2   "
      ]
     },
     "execution_count": 25,
     "metadata": {},
     "output_type": "execute_result"
    }
   ],
   "source": [
    "U = (mc * g * e * sm.sin(w * t) +  # potential from height raise of mass of the clothes only\n",
    "     k * y**2 / 2)  # potential due to stretch of spring away from equilibrium\n",
    "U"
   ]
  },
  {
   "cell_type": "code",
   "execution_count": 26,
   "metadata": {},
   "outputs": [
    {
     "data": {
      "image/png": "[encoded data removed]",
      "text/latex": [
       "$$c \\dot{y{\\left (t \\right )}} - e m_{c} \\omega^{2} \\sin{\\left (\\omega t \\right )} + k y{\\left (t \\right )} + \\left(m_{c} + m_{d} + m_{w}\\right) \\ddot{y{\\left (t \\right )}} = 0$$"
      ],
      "text/plain": [
       "                                                              2          \n",
       "  d                 2                                        d           \n",
       "c⋅──(y(t)) - e⋅m_c⋅ω ⋅sin(ω⋅t) + k⋅y(t) + (m_c + m_d + m_w)⋅───(y(t)) = 0\n",
       "  dt                                                          2          \n",
       "                                                            dt           "
      ]
     },
     "execution_count": 26,
     "metadata": {},
     "output_type": "execute_result"
    }
   ],
   "source": [
    "L = T - U\n",
    "f = L.diff(y.diff()).diff(t) - L.diff(y) + R.diff(y.diff())\n",
    "sm.Eq(f.expand().collect(y.diff(t, 2)), 0)"
   ]
  },
  {
   "cell_type": "markdown",
   "metadata": {},
   "source": [
    "Same equation of motion as above, but with fewer steps!"
   ]
  }
 ],
 "metadata": {
  "anaconda-cloud": {},
  "kernelspec": {
   "display_name": "Python [default]",
   "language": "python",
   "name": "python3"
  },
  "language_info": {
   "codemirror_mode": {
    "name": "ipython",
    "version": 3
   },
   "file_extension": ".py",
   "mimetype": "text/x-python",
   "name": "python",
   "nbconvert_exporter": "python",
   "pygments_lexer": "ipython3",
   "version": "3.5.4"
  }
 },
 "nbformat": 4,
 "nbformat_minor": 2
}
