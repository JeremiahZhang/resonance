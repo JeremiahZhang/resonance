{
 "cells": [
  {
   "cell_type": "markdown",
   "metadata": {},
   "source": [
    "# Introduction\n",
    "\n",
    "The center of mass of a book (modeled as a homogeneous cuboid of mass $m$, length $l$, and height $h$) lies directly above the top of a cylinder of radius $r$. There is sufficient friction to prevent slipping of the two surfaces when the book is perturbed from this equilibrium position. Let $\\theta$ be the angle between the vertical and the radial line that passes through the contact point when the book oscillates in a vertical plane perpendicular to the axis of the cylinder."
   ]
  },
  {
   "cell_type": "markdown",
   "metadata": {},
   "source": [
    "![balancing book figure](fig/balancing-book.svg)"
   ]
  },
  {
   "cell_type": "markdown",
   "metadata": {},
   "source": [
    "# Non-linear Equation of Motion\n",
    "\n",
    "The book oscillates at an angular rate, $\\dot{\\theta}$, and the magnitude of the velocity of the center of mass of the book can be shown to be $v = \\frac{1}{2} \\sqrt{\\left(h^{2} + 4 r^{2} \\theta^{2}\\right) \\dot{\\theta}^{2}}$. The moment of inertia of the book is approximately $\\frac{m}{12} \\left(h^{2} + l^{2}\\right)$.\n",
    "\n",
    "Thus, the total kinetic energy is:\n",
    "\n",
    "$$T = \\frac{m \\dot{\\theta}^{2}}{24} \\left(h^{2} + l^{2}\\right) + \\frac{m \\dot{\\theta}^{2}}{8} \\left(h^{2} + 4 r^{2} \\theta^{2}\\right)$$\n",
    "\n",
    "The potential energy is:\n",
    "\n",
    "$$U = - g m \\left(\\frac{h}{2} - r \\theta \\operatorname{sin}\\left(\\theta\\right) + r - \\left(\\frac{h}{2} + r\\right) \\operatorname{cos}\\left(\\theta\\right)\\right)$$\n",
    "\n",
    "The Langragian can be formed and then finally the equation of motion:\n",
    "\n",
    "$$ - \\frac{g h}{2} m \\operatorname{sin}\\left(\\theta\\right) + g m r \\theta \\operatorname{cos}\\left(\\theta\\right) + \\frac{h^{2} m}{3} \\ddot{\\theta} + \\frac{l^{2} m}{12} \\ddot{\\theta} + m r^{2} \\theta^{2} \\ddot{\\theta} + m r^{2} \\theta \\dot{\\theta}^{2} = 0$$\n"
   ]
  },
  {
   "cell_type": "code",
   "execution_count": null,
   "metadata": {
    "collapsed": true
   },
   "outputs": [],
   "source": [
    "import numpy as np\n",
    "import matplotlib.pyplot as plt"
   ]
  },
  {
   "cell_type": "code",
   "execution_count": null,
   "metadata": {
    "collapsed": true
   },
   "outputs": [],
   "source": [
    "%matplotlib notebook"
   ]
  },
  {
   "cell_type": "markdown",
   "metadata": {},
   "source": [
    "# Question\n",
    "\n",
    "Linearize the non-linear equation of motion about $\\theta=0$ and type the result below:"
   ]
  },
  {
   "cell_type": "markdown",
   "metadata": {},
   "source": [
    "$$- \\frac{g h}{2} \\theta + g r \\theta + \\frac{h^{2} \\ddot{\\theta}}{3} + \\frac{l^{2} \\ddot{\\theta}}{12}=0$$"
   ]
  },
  {
   "cell_type": "markdown",
   "metadata": {},
   "source": [
    "# Question\n",
    "\n",
    "Derive an approximate expression for the natural frequency of small oscillations and compute the natural frequency in rad/s and Hz along with the period of osciallation. Use the parameters $m= 1.058\\textrm{ kg}$, $l = 0.238 \\textrm{ m}$, $g = 9.81 \\textrm{ ms}^{-1}$, $h = 0.029 \\textrm{ m}$, and $r=0.042 \\textrm{ m}$, which correspond to the course texbook and a typical coffee mug."
   ]
  },
  {
   "cell_type": "markdown",
   "metadata": {},
   "source": [
    "$$\\omega_n = \\sqrt{\\frac{6g(2r-h)}{4h^2 + l^2}}$$"
   ]
  },
  {
   "cell_type": "code",
   "execution_count": null,
   "metadata": {
    "collapsed": true
   },
   "outputs": [],
   "source": [
    "m = 1.058  # kg\n",
    "l = 0.238  # m\n",
    "g = 9.81  # m/s^2\n",
    "h = 0.029  # m\n",
    "r = 0.042 # m"
   ]
  },
  {
   "cell_type": "code",
   "execution_count": null,
   "metadata": {},
   "outputs": [],
   "source": [
    "from IPython.display import Latex\n",
    "\n",
    "omega_n = np.sqrt(6 * g * (2 * r - h) / (4 * h**2 + l**2))\n",
    "Latex('$\\omega_n = {:1.3f} \\\\textrm{{ rad/s}}$'.format(omega_n))"
   ]
  },
  {
   "cell_type": "code",
   "execution_count": null,
   "metadata": {},
   "outputs": [],
   "source": [
    "Latex('$f_n = {:1.3f} \\\\textrm{{ Hz}}$'.format(omega_n / 2 / np.pi))"
   ]
  },
  {
   "cell_type": "code",
   "execution_count": null,
   "metadata": {},
   "outputs": [],
   "source": [
    "Tn = 1 / (omega_n / 2 / np.pi)\n",
    "Latex('$T_n = {:1.3f} \\\\textrm{{ s}}$'.format(Tn))"
   ]
  },
  {
   "cell_type": "markdown",
   "metadata": {},
   "source": [
    "# Question 2\n",
    "\n",
    "Describe how the mass affects the natural frequency of the system."
   ]
  },
  {
   "cell_type": "markdown",
   "metadata": {},
   "source": [
    "The natural frequency of the system is not affected by the mass."
   ]
  },
  {
   "cell_type": "markdown",
   "metadata": {},
   "source": [
    "# Question 3\n",
    "\n",
    "Are there any limits to the size of the book (the ratios $h/r$ or $l/r$) by a requirement of  stability of the oscillations? Said another way, how high a pile of books can you balance? Hint; it is probably difficult to balance a very high pile of book. Recall that if the effective stiffness is negative you will get unstable behavior in an $m$ $k$ model."
   ]
  },
  {
   "cell_type": "markdown",
   "metadata": {},
   "source": [
    "If the effective stiffness is less than zero, $k < 0$, the system will be unstable about the equilibrium point. The effective stiffness is:\n",
    "\n",
    "$$k = r-\\frac{h}{2}$$\n",
    "\n",
    "so\n",
    "\n",
    "$$r > \\frac{h}{2}$$\n",
    "\n",
    "for the system to be stable."
   ]
  },
  {
   "cell_type": "markdown",
   "metadata": {},
   "source": [
    "# Question 4\n",
    "\n",
    "Simulate the linear and non-linear equations of motion that predict the free response of the book released from rest at an initial angle $\\theta_0=1\\textrm{ deg}$ for 10 seconds. Use `scipy.integrate.odeint` for the numerical integration. Plot the results of each simulation on the same graph."
   ]
  },
  {
   "cell_type": "code",
   "execution_count": null,
   "metadata": {},
   "outputs": [],
   "source": [
    "from scipy.integrate import odeint"
   ]
  },
  {
   "cell_type": "code",
   "execution_count": null,
   "metadata": {
    "collapsed": true
   },
   "outputs": [],
   "source": [
    "def eval_nonlin_rhs(x, t):\n",
    "    \"\"\"Evaluates the right hand side of the non-linear differential equations.\n",
    "    \n",
    "    Parameters\n",
    "    ==========\n",
    "    x : array_like, shape(2, )\n",
    "        An array of the states: [theta, omega].\n",
    "    t : float\n",
    "        The value of time.\n",
    "        \n",
    "    Returns\n",
    "    =======\n",
    "    xdot : array_like, shape(2, )\n",
    "        An array of the derivatives of the states: [thetadot, omegadot].\n",
    "    \n",
    "    \"\"\"\n",
    "    \n",
    "    theta, omega = x\n",
    "    \n",
    "    thetadot = omega\n",
    "    \n",
    "    I = h**2 / 3 + l**2 / 12 + r**2 * theta**2\n",
    "    \n",
    "    omegadot = -(g * r * theta * np.cos(theta) + r**2 * theta * omega**2 - g * h * np.sin(theta) / 2) / I\n",
    "    \n",
    "    return thetadot, omegadot"
   ]
  },
  {
   "cell_type": "code",
   "execution_count": null,
   "metadata": {
    "collapsed": true
   },
   "outputs": [],
   "source": [
    "def eval_lin_rhs(x, t):\n",
    "    \"\"\"Evaluates the right hand side of the non-linear differential equations.\n",
    "    \n",
    "    Parameters\n",
    "    ==========\n",
    "    x : array_like, shape(2, )\n",
    "        An array of the states: [theta, omega].\n",
    "    t : float\n",
    "        The value of time.\n",
    "        \n",
    "    Returns\n",
    "    =======\n",
    "    xdot : array_like, shape(2, )\n",
    "        An array of the derivatives of the states: [thetadot, omegadot].\n",
    "    \n",
    "    \"\"\"\n",
    "    \n",
    "    theta, omega = x\n",
    "    \n",
    "    thetadot = omega\n",
    "    \n",
    "    I = h**2 / 3 + l**2 / 12\n",
    "    \n",
    "    omegadot = g * theta * (h / 2 - r) / I\n",
    "    \n",
    "    return thetadot, omegadot"
   ]
  },
  {
   "cell_type": "markdown",
   "metadata": {},
   "source": [
    "Simulate the system."
   ]
  },
  {
   "cell_type": "code",
   "execution_count": null,
   "metadata": {
    "collapsed": true
   },
   "outputs": [],
   "source": [
    "t = np.linspace(0, 10, num=1000)"
   ]
  },
  {
   "cell_type": "code",
   "execution_count": null,
   "metadata": {},
   "outputs": [],
   "source": [
    "x_nonlin = odeint(eval_nonlin_rhs, [np.deg2rad(1), 0], t)\n",
    "x_lin = odeint(eval_lin_rhs, [np.deg2rad(1), 0], t)"
   ]
  },
  {
   "cell_type": "markdown",
   "metadata": {},
   "source": [
    "Plot the trajectory of $\\theta$."
   ]
  },
  {
   "cell_type": "code",
   "execution_count": null,
   "metadata": {},
   "outputs": [],
   "source": [
    "fig, ax = plt.subplots(1, 1)\n",
    "\n",
    "ax.plot(t, np.rad2deg(x_nonlin[:, 0]))\n",
    "ax.plot(t, np.rad2deg(x_lin[:, 0]))\n",
    "\n",
    "ax.set_xlabel('Time [s]')\n",
    "ax.set_ylabel('$\\\\theta$ [deg]')\n",
    "ax.legend(['Non-linear', 'Linear']);"
   ]
  },
  {
   "cell_type": "markdown",
   "metadata": {},
   "source": [
    "# Question\n",
    "\n",
    "Using your program, create a function that calculates the period of the non-linear model to three significant figures of the 11 oscillations when $\\theta_0= 1, 10 \\textrm{ and } 20 \\textrm{ deg}$. Compare these results to the period predicted by the linear model. By how much and why do they differ?\n",
    "\n",
    "*Hint: Look for sign changes with `np.sign()`, use boolean indexing to extract important times, and finally `np.diff()` and `np.mean()` can be useful for finding the delta times and averaging. Note that `np.diff()` returns one fewer item in the array it operates on.*"
   ]
  },
  {
   "cell_type": "code",
   "execution_count": null,
   "metadata": {},
   "outputs": [],
   "source": [
    "def find_period(t, theta):\n",
    "    \"\"\"Computes the period of oscillation based on the trajectory of theta.\n",
    "    \n",
    "    Parameters\n",
    "    ==========\n",
    "    t : array_like, shape(n,)\n",
    "        An array of monotonically increasing time values.\n",
    "    theta : array_like, shape(n,)\n",
    "        An array of values for theta at each time in ``t``.\n",
    "        \n",
    "    Returns\n",
    "    =======\n",
    "    T : float\n",
    "        An estimate of the period of oscillation.\n",
    "        \n",
    "    \"\"\"\n",
    "    \n",
    "    peak_idxs = np.diff(np.sign(theta)) < 0\n",
    "    peak_idxs = np.hstack((peak_idxs, False))\n",
    "    T = np.diff(t[peak_idxs]).mean()\n",
    "       \n",
    "    return T"
   ]
  },
  {
   "cell_type": "code",
   "execution_count": null,
   "metadata": {},
   "outputs": [],
   "source": [
    "T_d = find_period(t, x_nonlin[:, 0])\n",
    "T_d"
   ]
  },
  {
   "cell_type": "code",
   "execution_count": null,
   "metadata": {},
   "outputs": [],
   "source": [
    "x_nonlin = odeint(eval_nonlin_rhs, [np.deg2rad(10), 0], t)\n",
    "T_d = find_period(t, x_nonlin[:, 0])\n",
    "T_d"
   ]
  },
  {
   "cell_type": "code",
   "execution_count": null,
   "metadata": {},
   "outputs": [],
   "source": [
    "x_nonlin = odeint(eval_nonlin_rhs, [np.deg2rad(20), 0], t)\n",
    "T_d = find_period(t, x_nonlin[:, 0])\n",
    "T_d"
   ]
  },
  {
   "cell_type": "markdown",
   "metadata": {},
   "source": [
    "# Question\n",
    "\n",
    "Using your plot above plot the linear and non-linear time repsonses for $\\theta_0=20 \\textrm{ deg}$. What do you observe?"
   ]
  },
  {
   "cell_type": "code",
   "execution_count": null,
   "metadata": {},
   "outputs": [],
   "source": [
    "x_nonlin = odeint(eval_nonlin_rhs, [np.deg2rad(20), 0], t)\n",
    "x_lin = odeint(eval_lin_rhs, [np.deg2rad(20), 0], t)\n",
    "\n",
    "fig, ax = plt.subplots(1, 1)\n",
    "\n",
    "ax.plot(t, np.rad2deg(x_nonlin[:, 0]))\n",
    "ax.plot(t, np.rad2deg(x_lin[:, 0]))\n",
    "\n",
    "ax.set_xlabel('Time [s]')\n",
    "ax.set_ylabel('$\\\\theta$ [deg]')\n",
    "ax.legend(['Non-linear', 'Linear']);"
   ]
  },
  {
   "cell_type": "markdown",
   "metadata": {},
   "source": [
    "As time increases the non-linear system's period grows each cycle, whereas the linear system, as expected, has a constant period."
   ]
  },
  {
   "cell_type": "markdown",
   "metadata": {
    "collapsed": true
   },
   "source": [
    "# Question\n",
    "\n",
    "Make a plot of the period vs $\\theta_0=1,2,..,25$ for the non-linear system. Also plot a horizontal line for the linear period for comparison using `ax.axhline()`.\n",
    "\n",
    "*Hint: Use a `for` loop to iterate through `np.arange(1, 25)` and collect your results in an initially empty list with `.append()`."
   ]
  },
  {
   "cell_type": "code",
   "execution_count": null,
   "metadata": {},
   "outputs": [],
   "source": [
    "initial_thetas = np.arange(1, 25)  # deg\n",
    "\n",
    "periods = []\n",
    "\n",
    "for theta0 in initial_thetas:\n",
    "    x = odeint(eval_nonlin_rhs, [np.deg2rad(theta0), 0], t) \n",
    "    periods.append(find_period(t, x[:, 0]))"
   ]
  },
  {
   "cell_type": "code",
   "execution_count": null,
   "metadata": {},
   "outputs": [],
   "source": [
    "fig, ax = plt.subplots(1, 1)\n",
    "\n",
    "ax.plot(initial_thetas, periods)\n",
    "ax.axhline(Tn, color='black')\n",
    "\n",
    "ax.set_xlabel(r'$\\theta_0$ [rad]')\n",
    "ax.set_ylabel(r'$T$ Period [s]')\n",
    "ax.legend(['Non-linear', 'Linear']);"
   ]
  },
  {
   "cell_type": "markdown",
   "metadata": {},
   "source": [
    "# Question\n",
    "\n",
    "Compare the period predicted by your model to the period measured in class. If it does not match, what are the possible explanations? Is the linear model a good model to use for predicting motion of the system?"
   ]
  },
  {
   "cell_type": "markdown",
   "metadata": {},
   "source": [
    "In class, we measured 7 cycles at 5.93 seconds so the period is:"
   ]
  },
  {
   "cell_type": "code",
   "execution_count": null,
   "metadata": {},
   "outputs": [],
   "source": [
    "Tn_meas = 5.93 / 7\n",
    "Tn_meas, Tn"
   ]
  },
  {
   "cell_type": "markdown",
   "metadata": {},
   "source": [
    "The percent error is less than 1%! Pretty good model!"
   ]
  },
  {
   "cell_type": "code",
   "execution_count": null,
   "metadata": {},
   "outputs": [],
   "source": [
    "(Tn - Tn_meas) / Tn * 100"
   ]
  },
  {
   "cell_type": "markdown",
   "metadata": {},
   "source": [
    "# Question\n",
    "\n",
    "Derive the expression for the magnitude of the velocity of the center of mass of the book and the height value used in the potential energy expression."
   ]
  },
  {
   "cell_type": "markdown",
   "metadata": {},
   "source": [
    "There are three components of velocity you must account for. The magnitude of the tangential velocity component is $(r + h/2) \\dot{\\theta} - r \\dot{\\theta}$ and the radial component is $r\\theta\\dot{\\theta}$. If you the find the mangitude with respect to these two components you get:\n",
    "\n",
    "$$|v| = \\sqrt{\\left[\\left(r + \\frac{h}{2}\\right)\\dot{\\theta} - r\\dot{\\theta}\\right]^2 + (r\\theta\\dot{\\theta})^2}$$\n",
    "\n",
    "which reduces to\n",
    "\n",
    "$$|v| = \\frac{1}{2} \\sqrt{\\left(h^{2} + 4 r^{2} \\theta^{2}\\right)\\dot{\\theta}^2}$$\n",
    "\n",
    "For the potential energy the height above the center of the circle can be shown to be:\n",
    "\n",
    "$$h = \\left(r + \\frac{h}{2}\\right) \\cos\\theta + r \\theta \\sin\\theta$$\n",
    "\n",
    "The potential increases as $\\theta$ increases so:\n",
    "\n",
    "$$ U = mgh = mg \\left[\\left(r + \\frac{h}{2}\\right) \\cos\\theta + r \\theta \\sin\\theta\\right]$$"
   ]
  }
 ],
 "metadata": {
  "anaconda-cloud": {},
  "kernelspec": {
   "display_name": "Python 3",
   "language": "python",
   "name": "python3"
  },
  "language_info": {
   "codemirror_mode": {
    "name": "ipython",
    "version": 3
   },
   "file_extension": ".py",
   "mimetype": "text/x-python",
   "name": "python",
   "nbconvert_exporter": "python",
   "pygments_lexer": "ipython3",
   "version": "3.6.2"
  }
 },
 "nbformat": 4,
 "nbformat_minor": 1
}
