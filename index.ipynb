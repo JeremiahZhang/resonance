{
 "cells": [
  {
   "cell_type": "markdown",
   "metadata": {},
   "source": [
    "$$\n",
    "\\def\\CC{\\bf C}\n",
    "\\def\\QQ{\\bf Q}\n",
    "\\def\\RR{\\bf R}\n",
    "\\def\\ZZ{\\bf Z}\n",
    "\\def\\NN{\\bf N}\n",
    "$$\n",
    "# Resonance: Learning Mechanical Vibration Engineering Through Computation\n",
    "\n",
    "## Notebooks\n",
    "\n",
    "1.  [Introduction to Jupyter](01-intro-jupyter.html)\n",
    "2.  [Introducing Mechanical Vibrations By Investigating a Book Oscillating on a Cylindrical Cup](02-book-balancing-intro.html)"
   ]
  }
 ],
 "metadata": {},
 "nbformat": 4,
 "nbformat_minor": 2
}
