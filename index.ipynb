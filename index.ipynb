{
 "cells": [
  {
   "cell_type": "markdown",
   "metadata": {},
   "source": [
    "$$\n",
    "\\def\\CC{\\bf C}\n",
    "\\def\\QQ{\\bf Q}\n",
    "\\def\\RR{\\bf R}\n",
    "\\def\\ZZ{\\bf Z}\n",
    "\\def\\NN{\\bf N}\n",
    "$$\n",
    "# Resonance: Learning Mechanical Vibration Engineering Through Computation\n",
    "\n",
    "## Notebooks\n",
    "\n",
    "1.  [Introduction to Jupyter](01-intro-jupyter.html)\n",
    "2.  [Introducing Mechanical Vibrations By Investigating a Book Oscillating on a Cylindrical Cup](02-book-balancing-intro.html)\n",
    "3.  [Measuring a Bicycle Wheel's Inertia](03-bicycle-wheel-inertia.html)\n",
    "4.  [Clock Pendulum with Air Drag Damping](04_clock_pendulum_with_damping.html)\n",
    "5.  [Clock Pendulum with Joint Friction](05_clock_pendulum_with_friction.html)\n",
    "6.  [Sinusoidal Forcing](06_sinusoidal_forcing.html)\n",
    "7.  [Vertical Vibration of a Quarter Car](07_vertical_vibration_of_a_quarter_car.html)"
   ]
  }
 ],
 "metadata": {},
 "nbformat": 4,
 "nbformat_minor": 2
}
