{
 "cells": [
  {
   "cell_type": "markdown",
   "metadata": {},
   "source": [
    "# Resonance: Learning Mechanical Vibration Engineering Through Computation\n",
    "\n",
    "## Notebooks\n",
    "\n",
    "1.  [Introduction to Jupyter](01-intro-jupyter.html) [[Download](01-intro-jupyter.ipynb)]\n",
    "2.  [Introducing Mechanical Vibrations By Investigating a Book Oscillating on a Cylindrical Cup](02-book-balancing-intro.html) [[Download]((02-book-balancing-intro.ipynb)]\n",
    "3.  [Measuring a Bicycle Wheel's Inertia](03-bicycle-wheel-inertia.html) [[Download](03-bicycle-wheel-inertia.ipynb)]\n",
    "4.  [Clock Pendulum with Air Drag Damping](04_clock_pendulum_with_damping.html) [[Download](04_clock_pendulum_with_damping.ipynb)]\n",
    "5.  [Clock Pendulum with Joint Friction](05_clock_pendulum_with_friction.html) [[Download](05_clock_pendulum_with_friction.ipynb)]\n",
    "6.  [Sinusoidal Forcing](06_sinusoidal_forcing.html) [[Download](06_sinusoidal_forcing.ipynb)]\n",
    "7.  [Vertical Vibration of a Quarter Car](07_vertical_vibration_of_a_quarter_car.html) [[Download](07_vertical_vibration_of_a_quarter_car.ipynb)]\n",
    "8.  [Modeling a Drone Swinging From a Trifilar Pendulum](08_modeling_a_drone_trifilar_pendulum.html) [[Download](08_modeling_a_drone_trifilar_pendulum.ipynb)]\n",
    "9.  [Modeling a Washing Machine](09_modeling_a_washing_machine.html) [[Download](09_modeling_a_washing_machine.ipynb)]\n",
    "10. [Modeling a Ball Channel Pendulum](10_modeling_a_ball_channel_pendulum.html) [[Download](10_modeling_a_ball_channel_pendulum.ipynb)]"
   ]
  }
 ],
 "metadata": {
  "anaconda-cloud": {},
  "kernelspec": {
   "display_name": "Python 3",
   "language": "python",
   "name": "python3"
  },
  "language_info": {
   "codemirror_mode": {
    "name": "ipython",
    "version": 3
   },
   "file_extension": ".py",
   "mimetype": "text/x-python",
   "name": "python",
   "nbconvert_exporter": "python",
   "pygments_lexer": "ipython3",
   "version": "3.6.3"
  }
 },
 "nbformat": 4,
 "nbformat_minor": 2
}
