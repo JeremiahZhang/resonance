{
 "cells": [
  {
   "cell_type": "markdown",
   "metadata": {},
   "source": [
    "#  Arbitrary Periodic Forcing (Fourier Series)\n",
    "\n",
    "## Sympy\n",
    "\n",
    "SymPy is a Python package for symbolic computing. It can do many symbolic operations, for instance, integration, differentiation, linear algebra, etc. See http://sympy.org for more details of the features and the documentation. Today we will cover how to do integrals using SymPy and use it to find the Fourier series that represents a sawtooth function."
   ]
  },
  {
   "cell_type": "code",
   "execution_count": 1,
   "metadata": {
    "collapsed": true
   },
   "outputs": [],
   "source": [
    "import sympy as sm"
   ]
  },
  {
   "cell_type": "markdown",
   "metadata": {},
   "source": [
    "The function `init_printing()` enables LaTeX based rendering in the Jupyter notebook of all SymPy objects."
   ]
  },
  {
   "cell_type": "code",
   "execution_count": 2,
   "metadata": {
    "collapsed": true
   },
   "outputs": [],
   "source": [
    "sm.init_printing()"
   ]
  },
  {
   "cell_type": "markdown",
   "metadata": {},
   "source": [
    "Symbols can be created by using the `symbols()` function."
   ]
  },
  {
   "cell_type": "code",
   "execution_count": 3,
   "metadata": {
    "collapsed": true
   },
   "outputs": [],
   "source": [
    "x, y, z = sm.symbols('x, y, z')"
   ]
  },
  {
   "cell_type": "code",
   "execution_count": 4,
   "metadata": {},
   "outputs": [
    {
     "data": {
      "image/png": "[encoded data removed]",
      "text/latex": [
       "$$\\left ( x, \\quad y, \\quad z\\right )$$"
      ],
      "text/plain": [
       "(x, y, z)"
      ]
     },
     "execution_count": 4,
     "metadata": {},
     "output_type": "execute_result"
    }
   ],
   "source": [
    "x, y, z"
   ]
  },
  {
   "cell_type": "markdown",
   "metadata": {},
   "source": [
    "The `integrate()` function allows you to do symbolic indefinite or definite integrals. Note that the constants of integration are not included in indefinite integrals."
   ]
  },
  {
   "cell_type": "code",
   "execution_count": 5,
   "metadata": {},
   "outputs": [
    {
     "data": {
      "image/png": "[encoded data removed]",
      "text/latex": [
       "$$\\frac{x^{2} y}{2}$$"
      ],
      "text/plain": [
       " 2  \n",
       "x ⋅y\n",
       "────\n",
       " 2  "
      ]
     },
     "execution_count": 5,
     "metadata": {},
     "output_type": "execute_result"
    }
   ],
   "source": [
    "sm.integrate(x * y, x)"
   ]
  },
  {
   "cell_type": "markdown",
   "metadata": {},
   "source": [
    "The `Integral` class creates and unevaluated integral, where as the `integrate()` function automatically evaluates the integral."
   ]
  },
  {
   "cell_type": "code",
   "execution_count": 6,
   "metadata": {},
   "outputs": [
    {
     "data": {
      "image/png": "[encoded data removed]",
      "text/latex": [
       "$$\\int x y\\, dx$$"
      ],
      "text/plain": [
       "⌠       \n",
       "⎮ x⋅y dx\n",
       "⌡       "
      ]
     },
     "execution_count": 6,
     "metadata": {},
     "output_type": "execute_result"
    }
   ],
   "source": [
    "expr = sm.Integral(x * y, x)\n",
    "expr"
   ]
  },
  {
   "cell_type": "markdown",
   "metadata": {},
   "source": [
    "To evaluate the unevaluated form you call the `.doit()` method. Note that all unevaluated SymPy objects have this method."
   ]
  },
  {
   "cell_type": "code",
   "execution_count": 7,
   "metadata": {},
   "outputs": [
    {
     "data": {
      "image/png": "[encoded data removed]",
      "text/latex": [
       "$$\\frac{x^{2} y}{2}$$"
      ],
      "text/plain": [
       " 2  \n",
       "x ⋅y\n",
       "────\n",
       " 2  "
      ]
     },
     "execution_count": 7,
     "metadata": {},
     "output_type": "execute_result"
    }
   ],
   "source": [
    "expr.doit()"
   ]
  },
  {
   "cell_type": "markdown",
   "metadata": {},
   "source": [
    "This shows how to create an unevaluated definite integral, store it in a variable, and then evaluate it."
   ]
  },
  {
   "cell_type": "code",
   "execution_count": 8,
   "metadata": {},
   "outputs": [
    {
     "data": {
      "image/png": "[encoded data removed]",
      "text/latex": [
       "$$\\int_{0}^{5} x y\\, dx$$"
      ],
      "text/plain": [
       "5       \n",
       "⌠       \n",
       "⎮ x⋅y dx\n",
       "⌡       \n",
       "0       "
      ]
     },
     "execution_count": 8,
     "metadata": {},
     "output_type": "execute_result"
    }
   ],
   "source": [
    "expr = sm.Integral(x * y, (x, 0, 5))\n",
    "expr"
   ]
  },
  {
   "cell_type": "code",
   "execution_count": 9,
   "metadata": {},
   "outputs": [
    {
     "data": {
      "image/png": "[encoded data removed]",
      "text/latex": [
       "$$\\frac{25 y}{2}$$"
      ],
      "text/plain": [
       "25⋅y\n",
       "────\n",
       " 2  "
      ]
     },
     "execution_count": 9,
     "metadata": {},
     "output_type": "execute_result"
    }
   ],
   "source": [
    "expr.doit()"
   ]
  },
  {
   "cell_type": "markdown",
   "metadata": {},
   "source": [
    "# Fourier Coefficients for the Sawtooth function\n",
    "\n",
    "Now let's compute the Fourier coefficients for a saw tooth function. The function that describes the saw tooth is:\n",
    "\n",
    "$$\n",
    "F(t) = \n",
    "\\begin{cases} \n",
    "      A \\left( \\frac{4t}{T} - 1 \\right) & 0 \\leq t \\leq T/2 \\\\\n",
    "      A \\left( 3 - \\frac{4t}{t} \\right) & T/2 \\leq t \\leq T \n",
    "\\end{cases}\n",
    "$$\n",
    "\n",
    "where:\n",
    "\n",
    "- $A$ is the amplitude of the saw tooth\n",
    "- $T$ is the period of the saw tooth\n",
    "- $\\omega_T$ is the frequency of the saw tooth, i.e. $\\omega_T = \\frac{2\\pi}{T}$\n",
    "- $t$ is time\n",
    "\n",
    "This is a piecewise function with two parts from $t=0$ to $t=T$."
   ]
  },
  {
   "cell_type": "code",
   "execution_count": 10,
   "metadata": {},
   "outputs": [
    {
     "data": {
      "image/png": "[encoded data removed]",
      "text/latex": [
       "$$\\left ( A, \\quad T, \\quad \\omega_{T}, \\quad t\\right )$$"
      ],
      "text/plain": [
       "(A, T, ω_T, t)"
      ]
     },
     "execution_count": 10,
     "metadata": {},
     "output_type": "execute_result"
    }
   ],
   "source": [
    "A, T, wT, t = sm.symbols('A, T, omega_T, t', real=True, positive=True)\n",
    "A, T, wT, t"
   ]
  },
  {
   "cell_type": "markdown",
   "metadata": {},
   "source": [
    "The first Fourier coefficient $a_0$ describes the average value of the periodic function. and is:\n",
    "\n",
    "$$a_0 = \\frac{2}{T} \\int_0^T F(t) dt$$\n",
    "\n",
    "This integral will have to be done in two parts:\n",
    "\n",
    "$$a_0 = a_{01} + a_{02} = \\frac{2}{T} \\int_0^{T/2} F(t) dt + \\frac{2}{T} \\int_{T/2}^T F(t) dt$$\n",
    "\n",
    "These two integrals are evaluated below. Note that $a_0$ evaluates to zero. This is because the average of our function is 0."
   ]
  },
  {
   "cell_type": "code",
   "execution_count": 11,
   "metadata": {},
   "outputs": [
    {
     "data": {
      "image/png": "[encoded data removed]",
      "text/latex": [
       "$$\\frac{2}{T} \\int_{0}^{\\frac{T}{2}} A \\left(-1 + \\frac{4 t}{T}\\right)\\, dt$$"
      ],
      "text/plain": [
       "  T                \n",
       "  ─                \n",
       "  2                \n",
       "  ⌠                \n",
       "  ⎮   ⎛     4⋅t⎞   \n",
       "2⋅⎮ A⋅⎜-1 + ───⎟ dt\n",
       "  ⎮   ⎝      T ⎠   \n",
       "  ⌡                \n",
       "  0                \n",
       "───────────────────\n",
       "         T         "
      ]
     },
     "execution_count": 11,
     "metadata": {},
     "output_type": "execute_result"
    }
   ],
   "source": [
    "ao_1 = 2 / T * sm.Integral(A * (4 * t / T - 1), (t, 0, T / 2))\n",
    "ao_1"
   ]
  },
  {
   "cell_type": "code",
   "execution_count": 12,
   "metadata": {},
   "outputs": [
    {
     "data": {
      "image/png": "[encoded data removed]",
      "text/latex": [
       "$$0$$"
      ],
      "text/plain": [
       "0"
      ]
     },
     "execution_count": 12,
     "metadata": {},
     "output_type": "execute_result"
    }
   ],
   "source": [
    "ao_1.doit()"
   ]
  },
  {
   "cell_type": "code",
   "execution_count": 13,
   "metadata": {},
   "outputs": [
    {
     "data": {
      "image/png": "[encoded data removed]",
      "text/latex": [
       "$$\\frac{2}{T} \\int_{\\frac{T}{2}}^{T} A \\left(3 - \\frac{4 t}{T}\\right)\\, dt$$"
      ],
      "text/plain": [
       "  T               \n",
       "  ⌠               \n",
       "  ⎮   ⎛    4⋅t⎞   \n",
       "2⋅⎮ A⋅⎜3 - ───⎟ dt\n",
       "  ⎮   ⎝     T ⎠   \n",
       "  ⌡               \n",
       "  T               \n",
       "  ─               \n",
       "  2               \n",
       "──────────────────\n",
       "        T         "
      ]
     },
     "execution_count": 13,
     "metadata": {},
     "output_type": "execute_result"
    }
   ],
   "source": [
    "ao_2 = 2 / T * sm.Integral(A * (3 - 4 * t / T), (t, T / 2, T))\n",
    "ao_2"
   ]
  },
  {
   "cell_type": "code",
   "execution_count": 14,
   "metadata": {},
   "outputs": [
    {
     "data": {
      "image/png": "[encoded data removed]",
      "text/latex": [
       "$$0$$"
      ],
      "text/plain": [
       "0"
      ]
     },
     "execution_count": 14,
     "metadata": {},
     "output_type": "execute_result"
    }
   ],
   "source": [
    "ao_2.doit()"
   ]
  },
  {
   "cell_type": "markdown",
   "metadata": {},
   "source": [
    "But SymPy can also handle piecewise directly. The following shows how to define a piecewise function."
   ]
  },
  {
   "cell_type": "code",
   "execution_count": 15,
   "metadata": {},
   "outputs": [],
   "source": [
    "F_1 = A * (4 * t / T - 1)\n",
    "F_2 = A * (3 - 4 * t / T)"
   ]
  },
  {
   "cell_type": "code",
   "execution_count": 16,
   "metadata": {},
   "outputs": [
    {
     "data": {
      "text/latex": [
       "$$\\begin{cases} A \\left(-1 + \\frac{4 t}{T}\\right) & \\text{for}\\: t \\leq \\frac{T}{2} \\\\A \\left(3 - \\frac{4 t}{T}\\right) & \\text{for}\\: \\frac{T}{2} \\leq t \\end{cases}$$"
      ],
      "text/plain": [
       "⎧  ⎛     4⋅t⎞          T\n",
       "⎪A⋅⎜-1 + ───⎟  for t ≤ ─\n",
       "⎪  ⎝      T ⎠          2\n",
       "⎨                       \n",
       "⎪  ⎛    4⋅t⎞       T    \n",
       "⎪A⋅⎜3 - ───⎟   for ─ ≤ t\n",
       "⎩  ⎝     T ⎠       2    "
      ]
     },
     "execution_count": 16,
     "metadata": {},
     "output_type": "execute_result"
    }
   ],
   "source": [
    "F = sm.Piecewise((F_1, t<=T/2),\n",
    "                 (F_2, T/2<=t))\n",
    "F"
   ]
  },
  {
   "cell_type": "markdown",
   "metadata": {},
   "source": [
    "The integral can be taken of the entire piecewise function in one call."
   ]
  },
  {
   "cell_type": "code",
   "execution_count": 17,
   "metadata": {},
   "outputs": [
    {
     "data": {
      "image/png": "[encoded data removed]",
      "text/latex": [
       "$$0$$"
      ],
      "text/plain": [
       "0"
      ]
     },
     "execution_count": 17,
     "metadata": {},
     "output_type": "execute_result"
    }
   ],
   "source": [
    "sm.integrate(F, (t, 0, T))"
   ]
  },
  {
   "cell_type": "markdown",
   "metadata": {},
   "source": [
    "Now the Fourier coefficients $a_n$ and $b_n$ can be computed.\n",
    "\n",
    "$$\n",
    "a_n = \\frac{2}{T}\\int_0^T F(t) \\cos n\\omega_Tt dt \\\\\n",
    "b_n = \\frac{2}{T}\\int_0^T F(t) \\sin n\\omega_Tt dt\n",
    "$$"
   ]
  },
  {
   "cell_type": "code",
   "execution_count": 18,
   "metadata": {},
   "outputs": [],
   "source": [
    "n = sm.symbols('n', real=True, positive=True)"
   ]
  },
  {
   "cell_type": "markdown",
   "metadata": {},
   "source": [
    "For $a_n$:"
   ]
  },
  {
   "cell_type": "code",
   "execution_count": 19,
   "metadata": {},
   "outputs": [
    {
     "data": {
      "text/latex": [
       "$$\\frac{2}{T} \\int_{0}^{T} \\begin{cases} A \\left(-1 + \\frac{4 t}{T}\\right) \\cos{\\left (n \\omega_{T} t \\right )} & \\text{for}\\: t \\leq \\frac{T}{2} \\\\A \\left(3 - \\frac{4 t}{T}\\right) \\cos{\\left (n \\omega_{T} t \\right )} & \\text{for}\\: \\frac{T}{2} \\leq t \\end{cases}\\, dt$$"
      ],
      "text/plain": [
       "  T                                         \n",
       "  ⌠                                         \n",
       "  ⎮ ⎧  ⎛     4⋅t⎞                       T   \n",
       "  ⎮ ⎪A⋅⎜-1 + ───⎟⋅cos(n⋅ω_T⋅t)  for t ≤ ─   \n",
       "  ⎮ ⎪  ⎝      T ⎠                       2   \n",
       "2⋅⎮ ⎨                                     dt\n",
       "  ⎮ ⎪  ⎛    4⋅t⎞                    T       \n",
       "  ⎮ ⎪A⋅⎜3 - ───⎟⋅cos(n⋅ω_T⋅t)   for ─ ≤ t   \n",
       "  ⎮ ⎩  ⎝     T ⎠                    2       \n",
       "  ⌡                                         \n",
       "  0                                         \n",
       "────────────────────────────────────────────\n",
       "                     T                      "
      ]
     },
     "execution_count": 19,
     "metadata": {},
     "output_type": "execute_result"
    }
   ],
   "source": [
    "an = 2 / T * sm.Integral(F * sm.cos(n * wT * t), (t, 0, T))\n",
    "an"
   ]
  },
  {
   "cell_type": "code",
   "execution_count": 20,
   "metadata": {},
   "outputs": [
    {
     "data": {
      "image/png": "[encoded data removed]",
      "text/latex": [
       "$$\\frac{2}{T} \\left(- A \\left(\\frac{1}{n \\omega_{T}} \\sin{\\left (\\frac{T n}{2} \\omega_{T} \\right )} - \\frac{4}{T n^{2} \\omega_{T}^{2}} \\cos{\\left (\\frac{T n}{2} \\omega_{T} \\right )}\\right) + A \\left(\\frac{1}{n \\omega_{T}} \\sin{\\left (\\frac{T n}{2} \\omega_{T} \\right )} + \\frac{4}{T n^{2} \\omega_{T}^{2}} \\cos{\\left (\\frac{T n}{2} \\omega_{T} \\right )}\\right) + A \\left(- \\frac{1}{n \\omega_{T}} \\sin{\\left (T n \\omega_{T} \\right )} - \\frac{4}{T n^{2} \\omega_{T}^{2}} \\cos{\\left (T n \\omega_{T} \\right )}\\right) - \\frac{4 A}{T n^{2} \\omega_{T}^{2}}\\right)$$"
      ],
      "text/plain": [
       "  ⎛    ⎛   ⎛T⋅n⋅ω_T⎞        ⎛T⋅n⋅ω_T⎞⎞     ⎛   ⎛T⋅n⋅ω_T⎞        ⎛T⋅n⋅ω_T⎞⎞    \n",
       "  ⎜    ⎜sin⎜───────⎟   4⋅cos⎜───────⎟⎟     ⎜sin⎜───────⎟   4⋅cos⎜───────⎟⎟    \n",
       "  ⎜    ⎜   ⎝   2   ⎠        ⎝   2   ⎠⎟     ⎜   ⎝   2   ⎠        ⎝   2   ⎠⎟    \n",
       "2⋅⎜- A⋅⎜──────────── - ──────────────⎟ + A⋅⎜──────────── + ──────────────⎟ + A\n",
       "  ⎜    ⎜   n⋅ω_T            2    2   ⎟     ⎜   n⋅ω_T            2    2   ⎟    \n",
       "  ⎝    ⎝                 T⋅n ⋅ω_T    ⎠     ⎝                 T⋅n ⋅ω_T    ⎠    \n",
       "──────────────────────────────────────────────────────────────────────────────\n",
       "                                                              T               \n",
       "\n",
       "                                              ⎞\n",
       "                                              ⎟\n",
       " ⎛  sin(T⋅n⋅ω_T)   4⋅cos(T⋅n⋅ω_T)⎞      4⋅A   ⎟\n",
       "⋅⎜- ──────────── - ──────────────⎟ - ─────────⎟\n",
       " ⎜     n⋅ω_T            2    2   ⎟      2    2⎟\n",
       " ⎝                   T⋅n ⋅ω_T    ⎠   T⋅n ⋅ω_T ⎠\n",
       "───────────────────────────────────────────────\n",
       "                                               "
      ]
     },
     "execution_count": 20,
     "metadata": {},
     "output_type": "execute_result"
    }
   ],
   "source": [
    "an.doit()"
   ]
  },
  {
   "cell_type": "markdown",
   "metadata": {},
   "source": [
    "This can be simplified:"
   ]
  },
  {
   "cell_type": "code",
   "execution_count": 21,
   "metadata": {},
   "outputs": [
    {
     "data": {
      "image/png": "[encoded data removed]",
      "text/latex": [
       "$$\\frac{2 A}{T^{2} n^{2} \\omega_{T}^{2}} \\left(- T n \\omega_{T} \\sin{\\left (T n \\omega_{T} \\right )} + 8 \\cos{\\left (\\frac{T n}{2} \\omega_{T} \\right )} - 4 \\cos{\\left (T n \\omega_{T} \\right )} - 4\\right)$$"
      ],
      "text/plain": [
       "    ⎛                             ⎛T⋅n⋅ω_T⎞                     ⎞\n",
       "2⋅A⋅⎜-T⋅n⋅ω_T⋅sin(T⋅n⋅ω_T) + 8⋅cos⎜───────⎟ - 4⋅cos(T⋅n⋅ω_T) - 4⎟\n",
       "    ⎝                             ⎝   2   ⎠                     ⎠\n",
       "─────────────────────────────────────────────────────────────────\n",
       "                             2  2    2                           \n",
       "                            T ⋅n ⋅ω_T                            "
      ]
     },
     "execution_count": 21,
     "metadata": {},
     "output_type": "execute_result"
    }
   ],
   "source": [
    "an = an.doit().simplify()\n",
    "an"
   ]
  },
  {
   "cell_type": "markdown",
   "metadata": {},
   "source": [
    "Now substitute the $2\\pi/T$ for $\\omega_T$."
   ]
  },
  {
   "cell_type": "code",
   "execution_count": 22,
   "metadata": {},
   "outputs": [
    {
     "data": {
      "image/png": "[encoded data removed]",
      "text/latex": [
       "$$\\frac{A}{2 \\pi^{2} n^{2}} \\left(- 2 \\pi n \\sin{\\left (2 \\pi n \\right )} + 8 \\cos{\\left (\\pi n \\right )} - 4 \\cos{\\left (2 \\pi n \\right )} - 4\\right)$$"
      ],
      "text/plain": [
       "A⋅(-2⋅π⋅n⋅sin(2⋅π⋅n) + 8⋅cos(π⋅n) - 4⋅cos(2⋅π⋅n) - 4)\n",
       "─────────────────────────────────────────────────────\n",
       "                          2  2                       \n",
       "                       2⋅π ⋅n                        "
      ]
     },
     "execution_count": 22,
     "metadata": {},
     "output_type": "execute_result"
    }
   ],
   "source": [
    "an = an.subs({wT: 2 * sm.pi / T})\n",
    "an"
   ]
  },
  {
   "cell_type": "markdown",
   "metadata": {},
   "source": [
    "Let's see how this function varies with increasing $n$. We will use a loop but the SymPy expressions will not automatically display because they are inside a loop. So we need to use SymPy's `latex()` function and the IPython display tools. SymPy's `latex()` function  transforms the SymPy expression into a string of matching LaTeX commands."
   ]
  },
  {
   "cell_type": "code",
   "execution_count": 23,
   "metadata": {},
   "outputs": [
    {
     "data": {
      "text/plain": [
       "'$\\\\frac{A}{2 \\\\pi^{2} n^{2}} \\\\left(- 2 \\\\pi n \\\\sin{\\\\left (2 \\\\pi n \\\\right )} + 8 \\\\cos{\\\\left (\\\\pi n \\\\right )} - 4 \\\\cos{\\\\left (2 \\\\pi n \\\\right )} - 4\\\\right)$'"
      ]
     },
     "execution_count": 23,
     "metadata": {},
     "output_type": "execute_result"
    }
   ],
   "source": [
    "sm.latex(an, mode='inline')"
   ]
  },
  {
   "cell_type": "markdown",
   "metadata": {},
   "source": [
    "The `display()` and `LaTeX()` functions then turn the LaTeX string in to a displayed version."
   ]
  },
  {
   "cell_type": "code",
   "execution_count": 24,
   "metadata": {
    "collapsed": true
   },
   "outputs": [],
   "source": [
    "from IPython.display import display, Latex "
   ]
  },
  {
   "cell_type": "markdown",
   "metadata": {},
   "source": [
    "Now we can see how $a_n$ varies with $n=1,2,\\ldots$."
   ]
  },
  {
   "cell_type": "code",
   "execution_count": 25,
   "metadata": {},
   "outputs": [
    {
     "data": {
      "text/latex": [
       "$a_1 = $$- \\frac{8 A}{\\pi^{2}}$"
      ],
      "text/plain": [
       "<IPython.core.display.Latex object>"
      ]
     },
     "metadata": {},
     "output_type": "display_data"
    },
    {
     "data": {
      "text/latex": [
       "$a_2 = $$0$"
      ],
      "text/plain": [
       "<IPython.core.display.Latex object>"
      ]
     },
     "metadata": {},
     "output_type": "display_data"
    },
    {
     "data": {
      "text/latex": [
       "$a_3 = $$- \\frac{8 A}{9 \\pi^{2}}$"
      ],
      "text/plain": [
       "<IPython.core.display.Latex object>"
      ]
     },
     "metadata": {},
     "output_type": "display_data"
    },
    {
     "data": {
      "text/latex": [
       "$a_4 = $$0$"
      ],
      "text/plain": [
       "<IPython.core.display.Latex object>"
      ]
     },
     "metadata": {},
     "output_type": "display_data"
    },
    {
     "data": {
      "text/latex": [
       "$a_5 = $$- \\frac{8 A}{25 \\pi^{2}}$"
      ],
      "text/plain": [
       "<IPython.core.display.Latex object>"
      ]
     },
     "metadata": {},
     "output_type": "display_data"
    }
   ],
   "source": [
    "for n_i in range(1, 6):\n",
    "    ans = an.subs({n: n_i})\n",
    "    display(Latex('$a_{} = $'.format(n_i) + sm.latex(ans, mode='inline')))"
   ]
  },
  {
   "cell_type": "markdown",
   "metadata": {},
   "source": [
    "For even $n$ values the coefficient is zero and for even values it variers with the inverse of $n^2$. More precisely:\n",
    "\n",
    "$$\n",
    "a_n =\n",
    "\\begin{cases}\n",
    "0 & \\textrm{if }n\\textrm{ is even} \\\\\n",
    "-\\frac{8A}{n^2\\pi^2} & \\textrm{if }n\\textrm{ is odd}\n",
    "\\end{cases}\n",
    "$$\n",
    "\n",
    "SymPy can actually reduce this further if your set the assumption that $n$ is an integer."
   ]
  },
  {
   "cell_type": "code",
   "execution_count": 26,
   "metadata": {},
   "outputs": [
    {
     "data": {
      "image/png": "[encoded data removed]",
      "text/latex": [
       "$$\\frac{A \\left(8 \\left(-1\\right)^{n} - 8\\right)}{2 \\pi^{2} n^{2}}$$"
      ],
      "text/plain": [
       "  ⎛      n    ⎞\n",
       "A⋅⎝8⋅(-1)  - 8⎠\n",
       "───────────────\n",
       "       2  2    \n",
       "    2⋅π ⋅n     "
      ]
     },
     "execution_count": 26,
     "metadata": {},
     "output_type": "execute_result"
    }
   ],
   "source": [
    "n = sm.symbols('n', real=True, positive=True, integer=True)\n",
    "an = 2 / T * sm.Integral(F * sm.cos(n * wT * t), (t, 0, T))\n",
    "an = an.doit().simplify()\n",
    "an.subs({wT: 2 * sm.pi / T})"
   ]
  },
  {
   "cell_type": "markdown",
   "metadata": {},
   "source": [
    "The odd and even versions can be computed by setting the respective assumptions."
   ]
  },
  {
   "cell_type": "code",
   "execution_count": 27,
   "metadata": {},
   "outputs": [
    {
     "data": {
      "image/png": "[encoded data removed]",
      "text/latex": [
       "$$- \\frac{8 A}{\\pi^{2} n^{2}}$$"
      ],
      "text/plain": [
       "-8⋅A \n",
       "─────\n",
       " 2  2\n",
       "π ⋅n "
      ]
     },
     "execution_count": 27,
     "metadata": {},
     "output_type": "execute_result"
    }
   ],
   "source": [
    "n = sm.symbols('n', real=True, positive=True, integer=True, odd=True)\n",
    "an = 2 / T * sm.Integral(F * sm.cos(n * wT * t), (t, 0, T))\n",
    "an = an.doit().simplify()\n",
    "an.subs({wT: 2 * sm.pi / T})"
   ]
  },
  {
   "cell_type": "markdown",
   "metadata": {},
   "source": [
    "Note that $b_n$ is always zero:"
   ]
  },
  {
   "cell_type": "code",
   "execution_count": 28,
   "metadata": {},
   "outputs": [
    {
     "data": {
      "text/latex": [
       "$$\\frac{2}{T} \\int_{0}^{T} \\begin{cases} A \\left(-1 + \\frac{4 t}{T}\\right) \\sin{\\left (n \\omega_{T} t \\right )} & \\text{for}\\: t \\leq \\frac{T}{2} \\\\A \\left(3 - \\frac{4 t}{T}\\right) \\sin{\\left (n \\omega_{T} t \\right )} & \\text{for}\\: \\frac{T}{2} \\leq t \\end{cases}\\, dt$$"
      ],
      "text/plain": [
       "  T                                         \n",
       "  ⌠                                         \n",
       "  ⎮ ⎧  ⎛     4⋅t⎞                       T   \n",
       "  ⎮ ⎪A⋅⎜-1 + ───⎟⋅sin(n⋅ω_T⋅t)  for t ≤ ─   \n",
       "  ⎮ ⎪  ⎝      T ⎠                       2   \n",
       "2⋅⎮ ⎨                                     dt\n",
       "  ⎮ ⎪  ⎛    4⋅t⎞                    T       \n",
       "  ⎮ ⎪A⋅⎜3 - ───⎟⋅sin(n⋅ω_T⋅t)   for ─ ≤ t   \n",
       "  ⎮ ⎩  ⎝     T ⎠                    2       \n",
       "  ⌡                                         \n",
       "  0                                         \n",
       "────────────────────────────────────────────\n",
       "                     T                      "
      ]
     },
     "execution_count": 28,
     "metadata": {},
     "output_type": "execute_result"
    }
   ],
   "source": [
    "bn = 2 / T * sm.Integral(F * sm.sin(n * wT * t), (t, 0, T))\n",
    "bn"
   ]
  },
  {
   "cell_type": "code",
   "execution_count": 29,
   "metadata": {},
   "outputs": [
    {
     "data": {
      "image/png": "[encoded data removed]",
      "text/latex": [
       "$$0$$"
      ],
      "text/plain": [
       "0"
      ]
     },
     "execution_count": 29,
     "metadata": {},
     "output_type": "execute_result"
    }
   ],
   "source": [
    "bn.doit().simplify().subs({wT: 2 * sm.pi / T})"
   ]
  },
  {
   "cell_type": "markdown",
   "metadata": {},
   "source": [
    "# Random questions questions from class\n",
    "\n",
    "The source code for any function is shown with the double question mark."
   ]
  },
  {
   "cell_type": "code",
   "execution_count": 30,
   "metadata": {
    "collapsed": true
   },
   "outputs": [],
   "source": [
    "sm.Integral??"
   ]
  },
  {
   "cell_type": "markdown",
   "metadata": {},
   "source": [
    "The location of the file the function comes from can be found by accessing the `__file__` attribute."
   ]
  },
  {
   "cell_type": "code",
   "execution_count": 31,
   "metadata": {},
   "outputs": [
    {
     "data": {
      "text/plain": [
       "'/home/travis/miniconda3/envs/resonance-dev/lib/python3.6/site-packages/sympy/__init__.py'"
      ]
     },
     "execution_count": 31,
     "metadata": {},
     "output_type": "execute_result"
    }
   ],
   "source": [
    "sm.__file__"
   ]
  },
  {
   "cell_type": "markdown",
   "metadata": {},
   "source": [
    "SymPy can handle unit for you too."
   ]
  },
  {
   "cell_type": "code",
   "execution_count": 32,
   "metadata": {
    "collapsed": true
   },
   "outputs": [],
   "source": [
    "from sympy.physics.units import meter, kilogram, second"
   ]
  },
  {
   "cell_type": "code",
   "execution_count": 33,
   "metadata": {},
   "outputs": [
    {
     "data": {
      "image/png": "[encoded data removed]",
      "text/latex": [
       "$$10 second$$"
      ],
      "text/plain": [
       "10⋅second"
      ]
     },
     "execution_count": 33,
     "metadata": {},
     "output_type": "execute_result"
    }
   ],
   "source": [
    "a = 10 * second\n",
    "a"
   ]
  },
  {
   "cell_type": "code",
   "execution_count": 34,
   "metadata": {
    "collapsed": true
   },
   "outputs": [],
   "source": [
    "b = 5 * meter"
   ]
  },
  {
   "cell_type": "code",
   "execution_count": 35,
   "metadata": {
    "collapsed": true
   },
   "outputs": [],
   "source": [
    "c = 6 * kilogram"
   ]
  },
  {
   "cell_type": "code",
   "execution_count": 36,
   "metadata": {},
   "outputs": [
    {
     "data": {
      "image/png": "[encoded data removed]",
      "text/latex": [
       "$$\\left ( 10 second, \\quad 5 meter, \\quad 6 kilogram\\right )$$"
      ],
      "text/plain": [
       "(10⋅second, 5⋅meter, 6⋅kilogram)"
      ]
     },
     "execution_count": 36,
     "metadata": {},
     "output_type": "execute_result"
    }
   ],
   "source": [
    "a, b, c"
   ]
  },
  {
   "cell_type": "code",
   "execution_count": 37,
   "metadata": {},
   "outputs": [
    {
     "data": {
      "image/png": "[encoded data removed]",
      "text/latex": [
       "$$\\frac{3 kilogram meter}{10 second^{2}}$$"
      ],
      "text/plain": [
       "3⋅kilogram⋅meter\n",
       "────────────────\n",
       "            2   \n",
       "   10⋅second    "
      ]
     },
     "execution_count": 37,
     "metadata": {},
     "output_type": "execute_result"
    }
   ],
   "source": [
    "expr = c * b / a**2\n",
    "expr"
   ]
  },
  {
   "cell_type": "code",
   "execution_count": 38,
   "metadata": {
    "collapsed": true
   },
   "outputs": [],
   "source": [
    "from sympy.physics.units import newton"
   ]
  },
  {
   "cell_type": "code",
   "execution_count": 39,
   "metadata": {},
   "outputs": [
    {
     "data": {
      "image/png": "[encoded data removed]",
      "text/latex": [
       "$$5 newton$$"
      ],
      "text/plain": [
       "5⋅newton"
      ]
     },
     "execution_count": 39,
     "metadata": {},
     "output_type": "execute_result"
    }
   ],
   "source": [
    "5 * newton"
   ]
  },
  {
   "cell_type": "markdown",
   "metadata": {},
   "source": [
    "# Numerical evalution of the Fourier Series\n",
    "\n",
    "Now the Fourier coefficients can be used to plot the approximation of the saw tooth forcing function."
   ]
  },
  {
   "cell_type": "code",
   "execution_count": 40,
   "metadata": {
    "collapsed": true
   },
   "outputs": [],
   "source": [
    "import numpy as np\n",
    "import matplotlib.pyplot as plt\n",
    "%matplotlib inline"
   ]
  },
  {
   "cell_type": "markdown",
   "metadata": {},
   "source": [
    "The following function plots the actual sawtooth function. It does it all in one line by cleverly using the absolute value and the modulo functions."
   ]
  },
  {
   "cell_type": "code",
   "execution_count": 41,
   "metadata": {
    "collapsed": true
   },
   "outputs": [],
   "source": [
    "def sawtooth(A, T, t):\n",
    "    return (4 * A / T) * (T / 2 - np.abs(t % T - T / 2) ) - A"
   ]
  },
  {
   "cell_type": "code",
   "execution_count": 42,
   "metadata": {},
   "outputs": [],
   "source": [
    "A = 1\n",
    "T = 2\n",
    "t = np.linspace(0, 5, num=500)"
   ]
  },
  {
   "cell_type": "code",
   "execution_count": 43,
   "metadata": {},
   "outputs": [
    {
     "data": {
      "image/png": "[encoded data removed]",
      "text/plain": [
       "<matplotlib.figure.Figure at 0x7f29a9d06518>"
      ]
     },
     "metadata": {},
     "output_type": "display_data"
    }
   ],
   "source": [
    "plt.figure()\n",
    "\n",
    "plt.plot(t, sawtooth(A, T, t));"
   ]
  },
  {
   "cell_type": "markdown",
   "metadata": {},
   "source": [
    "# Exercise\n",
    "\n",
    "Write a function that computes the Fourier approximation of the sawtooth function for a given value of $n$, i.e. using a finite number of terms. Then plot it for $n=2, 4, 6, 8, 10$ on top of the actual sawtooth function. How many terms of the infinite series are needed to get a good sawtooth?"
   ]
  },
  {
   "cell_type": "code",
   "execution_count": 44,
   "metadata": {},
   "outputs": [
    {
     "data": {
      "image/png": "[encoded data removed]",
      "text/latex": [
       "$$\\left ( 0, \\quad 2\\right )$$"
      ],
      "text/plain": [
       "(0, 2)"
      ]
     },
     "execution_count": 44,
     "metadata": {},
     "output_type": "execute_result"
    },
    {
     "data": {
      "image/png": "[encoded data removed]",
      "text/plain": [
       "<matplotlib.figure.Figure at 0x7f29a84413c8>"
      ]
     },
     "metadata": {},
     "output_type": "display_data"
    }
   ],
   "source": [
    "def sawtooth_approximation(n, A, T, t):\n",
    "    # odd values of indexing variable up to n\n",
    "    n_i = np.arange(1, n+1, 2)[:, np.newaxis]\n",
    "    # cos coefficients\n",
    "    an = -8 * A / (n_i**2 * np.pi**2)\n",
    "    # sawtooth frequency\n",
    "    wT = 2 * np.pi / T\n",
    "    # sum of n cos functions\n",
    "    f = np.sum(an * np.cos(n_i * wT * t), axis=0)\n",
    "    return f\n",
    "\n",
    "# plot sawtooth\n",
    "f = sawtooth(A, T, t)\n",
    "plt.plot(t, f, color='k', label='true sawtooth')\n",
    "\n",
    "for n in np.arange(2, 12, 2):\n",
    "    f_approx = sawtooth_approximation(n, A, T, t)\n",
    "    plt.plot(t, f_approx, label='n = {}'.format(n))\n",
    "\n",
    "plt.legend()\n",
    "# zoom in a bit on the interesting bit\n",
    "plt.xlim(0, T)"
   ]
  },
  {
   "cell_type": "markdown",
   "metadata": {},
   "source": [
    "# Exercise\n",
    "\n",
    "Now, using the Fourier series you've developed compute the response of a linear system to the sawtooth function and plot the steady state trajectory of $x$ give:\n",
    "\n",
    "$$m\\ddot{x} + c\\dot{x} + kx = F(t)$$\n",
    "\n",
    "Use:\n",
    "\n",
    "- $m$: 100 kg\n",
    "- $\\omega_n$: 10 rad/s\n",
    "- $\\zeta$: 0.01\n",
    "- $T=\\frac{2\\pi}{5 rad/s}$\n",
    "- $A=1000N$\n",
    "\n",
    "Investigate the difference in steady state response for different approximations of $F(t)$, i.e. various $n$, and report your findings in a markdown cell.\n",
    "\n",
    "The steady state response to a forcing function with Fourier coefficients $a_0$, $a_n$, and $b_n$ is:\n",
    "\n",
    "$$\n",
    "x_\\text{ss}(t) = \\frac{a_0}{2k} + \\sum_{n=1}^\\infty \\left[ x_\\text{cn}(t) + x_\\text{sn}(t) \\right]\n",
    "$$\n",
    "\n",
    "where\n",
    "\n",
    "$$\n",
    "\\begin{aligned}\n",
    "x_\\text{cn}(t) &= \\frac{a_n/m}{\\sqrt{\\left[ \\omega_n^2 - \\left( n\\omega_T \\right)^2 \\right]^2 + \\left(2\\zeta\\omega_n n\\omega_T\\right)^2}} \\cos\\left(n\\omega_T t - \\theta_n\\right) \\\\\n",
    "x_\\text{sn}(t) &= \\frac{b_n/m}{\\sqrt{\\left[ \\omega_n^2 - \\left( n\\omega_T \\right)^2 \\right]^2 + \\left(2\\zeta\\omega_n n\\omega_T\\right)^2}} \\sin\\left(n\\omega_T t - \\theta_n\\right)\n",
    "\\end{aligned}\n",
    "$$\n",
    "\n",
    "and\n",
    "\n",
    "$$\n",
    "\\theta_n = \\tan^{-1} \\frac{2\\zeta\\omega_n n \\omega_T}{\\omega_n^2 - \\left(n \\omega_T\\right)^2}\n",
    "$$\n",
    "\n",
    "We have already found that $a_0 = 0$ and $b_n = 0$ for all $n$, so we only need to consider the $x_\\text{cn}$ terms."
   ]
  },
  {
   "cell_type": "code",
   "execution_count": 45,
   "metadata": {},
   "outputs": [
    {
     "data": {
      "image/png": "[encoded data removed]",
      "text/plain": [
       "<matplotlib.figure.Figure at 0x7f29a9e84e80>"
      ]
     },
     "metadata": {},
     "output_type": "display_data"
    },
    {
     "data": {
      "text/plain": [
       "<function __main__.sawtooth_response>"
      ]
     },
     "execution_count": 45,
     "metadata": {},
     "output_type": "execute_result"
    }
   ],
   "source": [
    "from ipywidgets import interact\n",
    "\n",
    "# system parameters\n",
    "m = 100\n",
    "wn = 10\n",
    "z = 0.01\n",
    "wT = 5\n",
    "T = 2 * np.pi / wT\n",
    "A = 1000\n",
    "\n",
    "t = np.arange(0, 10*T, 0.01)\n",
    "\n",
    "def sawtooth_response(N=10):\n",
    "    \"\"\"\n",
    "    Computes the steady state m-c-k response to a sawtooth and\n",
    "    plots the result.\n",
    "    \"\"\"\n",
    "    # column array of n/an values\n",
    "    n = np.arange(1, N+1, 2)[:, np.newaxis]\n",
    "    an = -8 * A / (n**2 * np.pi**2)\n",
    "    \n",
    "    # phase shift of each term in the series\n",
    "    theta_n = np.arctan2(2*z*wn*n*wT, wn**2-(n*wT)**2)\n",
    "    \n",
    "    # an is a col and t is 1D, so each row of xcn is a term\n",
    "    # in the series at all times in t\n",
    "    xcn = an / m / np.sqrt((wn**2 - (n*wT)**2)**2 +\n",
    "                            (2*z*wn*n*wT)**2) * \\\n",
    "                   np.sin(n*wT*t - theta_n)\n",
    "    \n",
    "    # x is the sum of each xcn term (the rows)\n",
    "    x = np.sum(xcn, axis=0)\n",
    "    \n",
    "    plt.plot(t, x)\n",
    "\n",
    "interact(sawtooth_response, N=(2, 100, 2))"
   ]
  },
  {
   "cell_type": "markdown",
   "metadata": {},
   "source": [
    "We can see from interacting with the slider to show the approximated response for different numbers of terms in the series approximation that there is not much of a difference in the response when $n > 4$. We already saw that the sawtooth approximation is decent around $n = 6$, so this isn't too surprising. Also, since the forcing function has a period exactly twice as long as the system's natural period, so there isn't much of an interesting interaction between the two frequencies involved. Try again with $\\omega_n = 35$ rad/s, for example, to see the solution change dramatically with $n < 10$."
   ]
  }
 ],
 "metadata": {
  "anaconda-cloud": {},
  "kernelspec": {
   "display_name": "Python 3",
   "language": "python",
   "name": "python3"
  },
  "language_info": {
   "codemirror_mode": {
    "name": "ipython",
    "version": 3
   },
   "file_extension": ".py",
   "mimetype": "text/x-python",
   "name": "python",
   "nbconvert_exporter": "python",
   "pygments_lexer": "ipython3",
   "version": "3.6.2"
  }
 },
 "nbformat": 4,
 "nbformat_minor": 1
}
