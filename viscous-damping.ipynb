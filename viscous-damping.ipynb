{
 "cells": [
  {
   "cell_type": "markdown",
   "metadata": {},
   "source": [
    "# Free Vibrations with Viscous Damping\n",
    "\n",
    "# Introduction\n",
    "\n",
    "So far we have learned about free vibrations of conservative single degree of freedom linear systems. In this lesson, we will explore how these systems behave when dissaptive forces are added to the system. Dissipation is present in all real systems. For example, the shock absorbers in a car dissipative energy as heat to control the characteristics of the vibration of the vehicle. Drag due to air resistance is also a dissaptive force.\n",
    "\n",
    "## Goals\n",
    "\n",
    "- Write the equations of motion of the system.\n",
    "- Derive the homogenous solution.\n",
    "- Investigate the time series solution for different system properties.\n",
    "- Be able to explain the differences in the three solutions this system.\n",
    "\n",
    "## Prerequisites\n",
    "\n",
    "- Free undamped vibrations"
   ]
  },
  {
   "cell_type": "markdown",
   "metadata": {},
   "source": [
    "# The System\n",
    "\n",
    "![mass spring damper figure](fig/mass-spring-damper.svg)\n",
    "\n",
    "We are going to extend the homogenous mass spring damper system by adding an applied sinusoidal force. The quantities of interest are:\n",
    "\n",
    "- $x,\\dot{x},\\ddot{x}$: position, velocity, and acceleration\n",
    "- $m$: mass\n",
    "- $c$: viscous damping coefficient\n",
    "- $k$: spring constant"
   ]
  },
  {
   "cell_type": "markdown",
   "metadata": {},
   "source": [
    "# Equations of Motion\n",
    "\n",
    "We first write down Newton's Second Law for this system by examining the free body diagram:\n",
    "\n",
    "$$\\sum F_x = m \\ddot{x} = -c \\dot{x} -kx$$\n",
    "\n",
    "which provides the second order differential equation in canonical form:\n",
    "\n",
    "$$m\\ddot{x} + c\\dot{x} + kx = 0$$"
   ]
  },
  {
   "cell_type": "markdown",
   "metadata": {},
   "source": [
    "# Homogenous Solution\n",
    "\n",
    "To solve this second order homogenous system we can assume a solution of:\n",
    "\n",
    "$$x(t) = a e^{\\lambda t}$$\n",
    "\n",
    "If we differentiate twice and plug the resulting three equations into the differential equation we will get:\n",
    "\n",
    "$$(m \\lambda^2 + c \\lambda + k) a e^{\\lambda t} = 0$$\n",
    "\n",
    "$a e^{\\lambda t}$ is never zero so the unique solution follows when:\n",
    "\n",
    "$$m \\lambda^2 + c \\lambda + k = 0$$\n",
    "\n",
    "This is a quadratic equation in $\\lambda$ and using the quadratic equation we can find the roots of this so called *characteristic equation*.\n",
    "\n",
    "$$\\lambda_{1, 2} = -\\frac{c}{2m} \\pm \\frac{1}{2m} \\sqrt{c^2 - 4km}$$\n",
    "\n",
    "$\\lambda_{1, 2}$ can be real or complex depending on the discriminant: $c^2 - 4km$."
   ]
  },
  {
   "cell_type": "markdown",
   "metadata": {},
   "source": [
    "It is useful to define some new quantities:\n",
    "\n",
    "- $\\omega_n = \\sqrt{\\frac{k}{m}}$: undamped natural frequency\n",
    "- $c_c= 2m\\omega_n$: critical damping coefficient\n",
    "- $\\zeta = \\frac{c}{c_c}$: damping ratio\n",
    "- $\\omega_d = \\omega_n \\sqrt{1 - \\zeta^2}$: damped natural frequency\n",
    "\n",
    "The equation of motion can also be written in terms of these ratios by dividing through by the mass:\n",
    "\n",
    "$$\\ddot{x} + 2 \\zeta \\omega_n \\dot{x} + \\omega_n^2 x = 0$$"
   ]
  },
  {
   "cell_type": "markdown",
   "metadata": {},
   "source": [
    "Now the roots can be written as:\n",
    "\n",
    "$$\\lambda_{1, 2} = -\\zeta \\omega_n \\pm \\omega_n\\sqrt{\\zeta^2 - 1}$$\n",
    "\n",
    "Depending on the value of $\\zeta$ the roots will be a complex conjugate pair, two distinct real roots, or a repeated real root. The solution $x(t)$ depends on these three cases: $\\zeta < 1$, $\\zeta > 1$, and $\\zeta = 1$."
   ]
  },
  {
   "cell_type": "markdown",
   "metadata": {},
   "source": [
    "# Underdamped ($\\zeta < 1$)\n",
    "\n",
    "This value of $\\zeta$ will produce a complex conjugate pair of roots. We can pull out $i=\\sqrt{-1}$ and write the roots as:\n",
    "\n",
    "$$\\lambda_{1, 2} = -\\zeta \\omega_n \\pm i \\omega_d$$"
   ]
  },
  {
   "cell_type": "markdown",
   "metadata": {},
   "source": [
    "Since there are multiple roots the solution to this system and the this is linear, the solution can be written as a linear combination of the solutions:\n",
    "\n",
    "$$x(t) = e^{-\\zeta \\omega_n t}(a_1 e^{i\\omega_dt} + a_2 e^{-i\\omega_dt})$$\n",
    "\n",
    "Using Euler's formula we can reduce this to:\n",
    "\n",
    "$$ x(t) = Ae^{-\\zeta \\omega_n t} sin(\\omega_d t + \\phi)$$"
   ]
  },
  {
   "cell_type": "markdown",
   "metadata": {},
   "source": [
    "$A$ and $\\phi$ are determined by the initial conditions.\n",
    "\n",
    "$$A = \\sqrt{\\frac{(v_0 + \\zeta\\omega_n x_0)^2 + (x_0\\omega_d)^2}{\\omega_d^2}}$$\n",
    "\n",
    "$$\\phi=\\arctan\\left(\\frac{x_0\\omega_d}{v_0+\\zeta\\omega_nx_0}\\right)$$\n"
   ]
  },
  {
   "cell_type": "markdown",
   "metadata": {},
   "source": [
    "# Overdamped ($\\zeta > 1$)\n",
    "\n",
    "This value of $\\zeta$ produces two distinct real roots and the solution takes this form:\n",
    "\n",
    "$$ x(t) = e^{-\\zeta\\omega_nt}\\left(a_1 e^{-\\omega_n\\sqrt{\\zeta^2-1}t} + a_2 e^{\\omega_n\\sqrt{\\zeta^2-1}t}\\right) $$\n",
    "\n",
    "where:\n",
    "\n",
    "$$ a_1 = \\frac{-v_0 + (-\\zeta + \\sqrt{\\zeta^2 - 1})\\omega_n x_0}{2 \\omega_n \\sqrt{\\zeta^2-1}} $$\n",
    "\n",
    "$$ a_2 = \\frac{v_0 + (\\zeta + \\sqrt{\\zeta^2 - 1})\\omega_n x_0}{2 \\omega_n \\sqrt{\\zeta^2-1}} $$"
   ]
  },
  {
   "cell_type": "markdown",
   "metadata": {},
   "source": [
    "# Critically Damped ($\\zeta = 1$)\n",
    "\n",
    "Finally, the special case gives two repeated roots and the solution takes the form:\n",
    "\n",
    "$$ x(t) = (a_1 + a_2t)e^{-\\omega_n t}$$\n",
    "\n",
    "where:\n",
    "\n",
    "$$\n",
    "\\begin{aligned}\n",
    "a_1 &= x_0 \\\\\n",
    "a_2 &= v_0 + \\omega_n x_0\n",
    "\\end{aligned}\n",
    "$$"
   ]
  },
  {
   "cell_type": "markdown",
   "metadata": {},
   "source": [
    "# Simulation of the Motion\n",
    "\n",
    "Let's explore the solution to the system starting with these parameters:\n",
    "\n",
    "- $m=0.049$ kg\n",
    "- $k = 857.8$ N/m\n",
    "- $c=0.11$ kg/s\n",
    "\n",
    "Depending on the value of $\\zeta$ the solution will described by three qualitively different motions: over-damped $(\\zeta > 1)$, critically damped $(\\zeta = 1)$, or under-damped $(\\zeta < 1)$ motion. Use your code to discover what these motions look like and how the parameters of the system affect the behavior."
   ]
  },
  {
   "cell_type": "markdown",
   "metadata": {
    "collapsed": true
   },
   "source": [
    "# Exercise\n",
    "\n",
    "Create a function that accepts $m$, $c$, and $k$ as parameters and returns $\\omega_n$, $\\zeta$, and $c_c$.\n",
    "\n",
    "**Note**: we don't compute $\\omega_d$ in case the system is overdamped ($\\omega_d$ doesn't exist)."
   ]
  },
  {
   "cell_type": "code",
   "execution_count": 1,
   "metadata": {
    "collapsed": true
   },
   "outputs": [],
   "source": [
    "import numpy as np\n",
    "\n",
    "def vibration_properties(m, c, k):\n",
    "    # natural frequency [rad/s]\n",
    "    omega_n = np.sqrt(k / m)\n",
    "    # critical damping coefficient [kg/s]\n",
    "    cc = 2 * m * omega_n\n",
    "    # damping ratio\n",
    "    zeta = c / cc\n",
    "    return omega_n, zeta, cc"
   ]
  },
  {
   "cell_type": "markdown",
   "metadata": {},
   "source": [
    "# Exercise\n",
    "\n",
    "Create a function that accepts $m$, $c$, $k$, $x_0$, $v_0$ and a simulation duration $d$ and returns an array of 1000 time values and an array of corresponding $x(t)$ values. Make use of the `vibration_properties` function inside this one.\n",
    "\n",
    "We need to handle underdamped, critically damped, and overdamped cases, so we'll use a series of `if` statements to compute the response in each case."
   ]
  },
  {
   "cell_type": "code",
   "execution_count": 2,
   "metadata": {},
   "outputs": [],
   "source": [
    "def simulate(m, c, k, d, x0=0.0, v0=0.0):\n",
    "    # get our vibration properties\n",
    "    omega_n, zeta, cc = vibration_properties(m, c, k)\n",
    "    \n",
    "    # time values from 0 to d (duration) with 1000 points\n",
    "    time_array = np.linspace(0, d, num=1000)\n",
    "    \n",
    "    # underdamped\n",
    "    if zeta < 1:\n",
    "        # damped natural frequency [rad/s]\n",
    "        omega_d = omega_n * np.sqrt(1 - zeta**2)\n",
    "        # amplitude\n",
    "        A = np.sqrt(((v0 + zeta*omega_n*x0)**2 +\n",
    "                     (x0*omega_d)**2) / omega_d**2)\n",
    "        # phase\n",
    "        phi = np.arctan2(x0*omega_d, v0 + zeta*omega_n*x0)\n",
    "        # total response\n",
    "        x_array = A * np.exp(-zeta*omega_n*time_array) * \\\n",
    "            np.sin(omega_d*time_array + phi)\n",
    "    \n",
    "    # overdamped\n",
    "    elif zeta > 1:\n",
    "        # amplitude of first term\n",
    "        a1 = ((-v0 + (-zeta + np.sqrt(zeta**2-1))*omega_n*x0) /\n",
    "              (2*omega_n*np.sqrt(zeta**2-1)))\n",
    "        # amplitude of second term\n",
    "        a2 = ((v0 + (zeta + np.sqrt(zeta**2-1))*omega_n*x0) /\n",
    "              (2*omega_n*np.sqrt(zeta**2-1)))\n",
    "        # exponent\n",
    "        exp = omega_n * np.sqrt(zeta**2 - 1) * time_array\n",
    "        # total response\n",
    "        x_array = np.exp(-zeta*omega_n*t) * \\\n",
    "            (a1*np.exp(-exp) + a2*np.exp(exp))\n",
    "        \n",
    "    # critically damped\n",
    "    else:\n",
    "        # amplitude of first term\n",
    "        a1 = x0\n",
    "        # amplitude of second term\n",
    "        a2 = v0 + omega_n*x0\n",
    "        # total response\n",
    "        x_array = (a1 + a2*time_array)*np.exp(-omega_n*time_array)\n",
    "        \n",
    "    return time_array, x_array"
   ]
  },
  {
   "cell_type": "markdown",
   "metadata": {},
   "source": [
    "# Exercise\n",
    "\n",
    "Using your functions choose various values of $c$ such that you get three different values for $\\zeta$ where $(\\zeta > 1)$, $(\\zeta = 1)$, and $(\\zeta < 1)$ and plot the resulting motions for these values. In a text box describe what you observe.\n",
    "\n",
    "First, we can use our `vibration_properties` function to see what changing $c$ does to $\\zeta$"
   ]
  },
  {
   "cell_type": "code",
   "execution_count": 3,
   "metadata": {},
   "outputs": [
    {
     "name": "stdout",
     "output_type": "stream",
     "text": [
      "c =  0.00, zeta = 0.00\n",
      "c =  2.22, zeta = 0.17\n",
      "c =  4.44, zeta = 0.34\n",
      "c =  6.67, zeta = 0.51\n",
      "c =  8.89, zeta = 0.69\n",
      "c = 11.11, zeta = 0.86\n",
      "c = 13.33, zeta = 1.03\n",
      "c = 15.56, zeta = 1.20\n",
      "c = 17.78, zeta = 1.37\n",
      "c = 20.00, zeta = 1.54\n"
     ]
    }
   ],
   "source": [
    "m = 0.049 # mass [kg]\n",
    "k = 857.8 # spring stiffness [N/m]\n",
    "\n",
    "for c in np.linspace(0, 20, 10):\n",
    "    omega_n, zeta, cc = vibration_properties(m, c, k)\n",
    "    print(\"c = {:5.2f}, zeta = {:.2f}\".format(c, zeta))"
   ]
  },
  {
   "cell_type": "markdown",
   "metadata": {},
   "source": [
    "We can see from the \"table\" printout that as $c$ approaches the critical value $c_c$, $\\zeta$ approaches 1.\n",
    "\n",
    "Now we'll just select some values for $c$ which result in appropriate values of $\\zeta$ for each case."
   ]
  },
  {
   "cell_type": "code",
   "execution_count": 4,
   "metadata": {},
   "outputs": [
    {
     "data": {
      "text/plain": [
       "<matplotlib.legend.Legend at 0x7f80ef3eff98>"
      ]
     },
     "execution_count": 4,
     "metadata": {},
     "output_type": "execute_result"
    },
    {
     "data": {
      "image/png": "[encoded data removed]",
      "text/plain": [
       "<matplotlib.figure.Figure at 0x7f80eef2ccc0>"
      ]
     },
     "metadata": {},
     "output_type": "display_data"
    }
   ],
   "source": [
    "import matplotlib.pyplot as plt\n",
    "%matplotlib inline\n",
    "\n",
    "# some values of c and plot properties\n",
    "# note: we can use cc from the above loop\n",
    "c_values = [3, cc, 20]\n",
    "labels = ['underdamped', 'critically damped', 'overdamped']\n",
    "alphas = [0.4, 0.7, 1]\n",
    "\n",
    "x0 = 1   # initial position [m]\n",
    "v0 = 100 # initial velocity [m/s]\n",
    "\n",
    "for c, label, alpha in zip(c_values, labels, alphas):\n",
    "    t, x = simulate(m, c, k, 0.15, x0=x0, v0=v0)\n",
    "    plt.plot(t, x, alpha=alpha, label=label, color='k')\n",
    "    \n",
    "plt.xlabel(r'$t$ [s]')\n",
    "plt.ylabel(r'$x(t)$ [m]')\n",
    "plt.legend()"
   ]
  },
  {
   "cell_type": "markdown",
   "metadata": {},
   "source": [
    "# Exercise\n",
    "\n",
    "A spring-mass-damper system has a mass of 150 kg, stiffness of 1500 N/m, and damping coefficient of 200 kg/s. Calculate the undamped natural frequency, the damping ratio, and the damped natural frequency. Is the system overdamped, underdamped, or critically damped? Does the solution oscillate? Show the motion in a plot."
   ]
  },
  {
   "cell_type": "code",
   "execution_count": 5,
   "metadata": {},
   "outputs": [
    {
     "name": "stdout",
     "output_type": "stream",
     "text": [
      "undamped natural frequency: 3.16 rad/s\n",
      "damping ratio: 0.21\n",
      "damped natural frequency: 3.09 rad/s\n"
     ]
    },
    {
     "data": {
      "text/plain": [
       "Text(0,0.5,'$x(t)$ [m]')"
      ]
     },
     "execution_count": 5,
     "metadata": {},
     "output_type": "execute_result"
    },
    {
     "data": {
      "image/png": "[encoded data removed]",
      "text/plain": [
       "<matplotlib.figure.Figure at 0x7f80eab90048>"
      ]
     },
     "metadata": {},
     "output_type": "display_data"
    }
   ],
   "source": [
    "# system parameters\n",
    "m = 150  # mass [kg]\n",
    "k = 1500 # stiffness [N/m]\n",
    "c = 200  # damping coefficient [kg/s]\n",
    "\n",
    "# make up some initial conditions\n",
    "x0 = 1  # initial position [m]\n",
    "v0 = 10 # initial velocity [m/s]\n",
    "\n",
    "# compute the vibration properties\n",
    "omega_n, zeta, cc = vibration_properties(m, c, k)\n",
    "omega_d = omega_n * np.sqrt(1 - zeta**2)\n",
    "\n",
    "print(\"undamped natural frequency: {:.2f} rad/s\".format(omega_n))\n",
    "print(\"damping ratio: {:.2f}\".format(zeta))\n",
    "print(\"damped natural frequency: {:.2f} rad/s\".format(omega_d))\n",
    "\n",
    "# simulate and plot\n",
    "t, x = simulate(m, c, k, 10, x0=x0, v0=v0)\n",
    "plt.plot(t, x)\n",
    "plt.xlabel(r'$t$ [s]')\n",
    "plt.ylabel(r'$x(t)$ [m]')"
   ]
  },
  {
   "cell_type": "markdown",
   "metadata": {},
   "source": [
    "Since the damping ratio is less than one, the system is **underdamped** and it oscillates."
   ]
  }
 ],
 "metadata": {
  "anaconda-cloud": {},
  "kernelspec": {
   "display_name": "Python 3",
   "language": "python",
   "name": "python3"
  },
  "language_info": {
   "codemirror_mode": {
    "name": "ipython",
    "version": 3
   },
   "file_extension": ".py",
   "mimetype": "text/x-python",
   "name": "python",
   "nbconvert_exporter": "python",
   "pygments_lexer": "ipython3",
   "version": "3.6.2"
  }
 },
 "nbformat": 4,
 "nbformat_minor": 1
}
